{
  "nbformat": 4,
  "nbformat_minor": 0,
  "metadata": {
    "colab": {
      "provenance": [],
      "authorship_tag": "ABX9TyNc4OCZlExQJbFDvGqG+dr1",
      "include_colab_link": true
    },
    "kernelspec": {
      "name": "python3",
      "display_name": "Python 3"
    },
    "language_info": {
      "name": "python"
    }
  },
  "cells": [
    {
      "cell_type": "markdown",
      "metadata": {
        "id": "view-in-github",
        "colab_type": "text"
      },
      "source": [
        "<a href=\"https://colab.research.google.com/github/ImNotDanish05/2025_KC_TI-1A/blob/main/P11_Convolutional%20Neural%20Network%20(CNN).ipynb\" target=\"_parent\"><img src=\"https://colab.research.google.com/assets/colab-badge.svg\" alt=\"Open In Colab\"/></a>"
      ]
    },
    {
      "cell_type": "code",
      "source": [
        "import tensorflow as tf\n",
        "import os\n",
        "print(tf.__version__)"
      ],
      "metadata": {
        "colab": {
          "base_uri": "https://localhost:8080/"
        },
        "id": "O7oy4k42a5WP",
        "outputId": "c4943099-d85f-4bbf-fa4d-3530cf944462"
      },
      "execution_count": 17,
      "outputs": [
        {
          "output_type": "stream",
          "name": "stdout",
          "text": [
            "2.18.0\n"
          ]
        }
      ]
    },
    {
      "cell_type": "code",
      "source": [
        "\"\"\"\n",
        "List Dir: https://api.github.com/repos/ImNotDanish05/2025_KC_TI-1A/contents/Data/P11/images\n",
        "Open File: https://raw.githubusercontent.com/ImNotDanish05/2025_KC_TI-1A/main/Data/P11/images\n",
        "\"\"\"\n",
        "\n",
        "base_dir = 'https://api.github.com/repos/ImNotDanish05/2025_KC_TI-1A/contents/Data/P11/images'\n",
        "train_dir = base_dir + '/train'\n",
        "validation_dir = base_dir + '/val'"
      ],
      "metadata": {
        "id": "EiYHlXN9cM2x"
      },
      "execution_count": 9,
      "outputs": []
    },
    {
      "cell_type": "code",
      "source": [
        "import requests\n",
        "from urllib.parse import urlparse\n",
        "def listdirx(dirx):\n",
        "  response = requests.get(dirx)\n",
        "  if response.status_code == 200:\n",
        "      files = response.json()\n",
        "      print(dirx)\n",
        "      for file in files:\n",
        "          print(f\"- {file['name']}\")\n",
        "  else:\n",
        "      print(f\"Gagal mengambil data. Status: {response.status_code}\")\n",
        "def list_all_png_from_github_api(api_url, collected=[]):\n",
        "    response = requests.get(api_url)\n",
        "    if response.status_code != 200:\n",
        "        print(f\"❌ Gagal mengakses {api_url} | Status: {response.status_code}\")\n",
        "        return collected\n",
        "\n",
        "    items = response.json()\n",
        "    for item in items:\n",
        "        if item['type'] == 'file' and item['name'].endswith('.png'):\n",
        "            collected.append(item['download_url'])\n",
        "        elif item['type'] == 'dir':\n",
        "            list_all_png_from_github_api(item['url'], collected)\n",
        "    return collected\n",
        "def download_images(image_urls, save_dir):\n",
        "    os.makedirs(save_dir, exist_ok=True)\n",
        "    for url in image_urls:\n",
        "        filename = os.path.basename(urlparse(url).path)\n",
        "        save_path = os.path.join(save_dir, filename)\n",
        "\n",
        "        response = requests.get(url)\n",
        "        if response.status_code == 200:\n",
        "            with open(save_path, 'wb') as f:\n",
        "                f.write(response.content)\n",
        "            print(f\"✅ Downloaded: {filename}\")\n",
        "        else:\n",
        "            print(f\"❌ Gagal download: {filename}\")"
      ],
      "metadata": {
        "id": "1mMtpW_hdEHf"
      },
      "execution_count": 27,
      "outputs": []
    },
    {
      "cell_type": "code",
      "source": [
        "listdirx(train_dir)\n",
        "listdirx(validation_dir)"
      ],
      "metadata": {
        "colab": {
          "base_uri": "https://localhost:8080/"
        },
        "id": "pDtZ9grees5n",
        "outputId": "5960b1a1-79da-4843-fcbe-aa2a54d498cf"
      },
      "execution_count": 24,
      "outputs": [
        {
          "output_type": "stream",
          "name": "stdout",
          "text": [
            "https://api.github.com/repos/ImNotDanish05/2025_KC_TI-1A/contents/Data/P11/images/train\n",
            "- .DS_Store\n",
            "- clean\n",
            "- messy\n",
            "https://api.github.com/repos/ImNotDanish05/2025_KC_TI-1A/contents/Data/P11/images/val\n",
            "- clean\n",
            "- messy\n"
          ]
        }
      ]
    },
    {
      "cell_type": "markdown",
      "source": [
        "TensorFlow\n",
        "\n",
        "Documentation: https://keras.io/api/data_loading/image/"
      ],
      "metadata": {
        "id": "eqHHHSsDfSyW"
      }
    },
    {
      "cell_type": "code",
      "source": [
        "from tensorflow.keras.preprocessing.image import ImageDataGenerator\n",
        "\n",
        "train_datagen = ImageDataGenerator(\n",
        "                    rescale=1./255,\n",
        "                    rotation_range=20,\n",
        "                    horizontal_flip=True,\n",
        "                    shear_range = 0.2,\n",
        "                    fill_mode = 'nearest')\n",
        "\n",
        "test_datagen = ImageDataGenerator(\n",
        "                    rescale=1./255)\n",
        "train_clean_urls = list_all_png_from_github_api(train_dir + \"/clean\")\n",
        "train_messy_urls = list_all_png_from_github_api(train_dir + \"/messy\")\n",
        "download_images(train_clean_urls, 'dataset/train/clean')\n",
        "download_images(train_messy_urls, 'dataset/train/messy')"
      ],
      "metadata": {
        "id": "lAcWcq1cfNzR",
        "outputId": "fbcf5471-19f8-470d-9a93-41699bb350d2",
        "colab": {
          "base_uri": "https://localhost:8080/"
        }
      },
      "execution_count": 28,
      "outputs": [
        {
          "output_type": "execute_result",
          "data": {
            "text/plain": [
              "['https://raw.githubusercontent.com/ImNotDanish05/2025_KC_TI-1A/main/Data/P11/images/train/clean/0.png',\n",
              " 'https://raw.githubusercontent.com/ImNotDanish05/2025_KC_TI-1A/main/Data/P11/images/train/clean/1.png',\n",
              " 'https://raw.githubusercontent.com/ImNotDanish05/2025_KC_TI-1A/main/Data/P11/images/train/clean/10.png',\n",
              " 'https://raw.githubusercontent.com/ImNotDanish05/2025_KC_TI-1A/main/Data/P11/images/train/clean/11.png',\n",
              " 'https://raw.githubusercontent.com/ImNotDanish05/2025_KC_TI-1A/main/Data/P11/images/train/clean/12.png',\n",
              " 'https://raw.githubusercontent.com/ImNotDanish05/2025_KC_TI-1A/main/Data/P11/images/train/clean/13.png',\n",
              " 'https://raw.githubusercontent.com/ImNotDanish05/2025_KC_TI-1A/main/Data/P11/images/train/clean/14.png',\n",
              " 'https://raw.githubusercontent.com/ImNotDanish05/2025_KC_TI-1A/main/Data/P11/images/train/clean/15.png',\n",
              " 'https://raw.githubusercontent.com/ImNotDanish05/2025_KC_TI-1A/main/Data/P11/images/train/clean/16.png',\n",
              " 'https://raw.githubusercontent.com/ImNotDanish05/2025_KC_TI-1A/main/Data/P11/images/train/clean/17.png',\n",
              " 'https://raw.githubusercontent.com/ImNotDanish05/2025_KC_TI-1A/main/Data/P11/images/train/clean/18.png',\n",
              " 'https://raw.githubusercontent.com/ImNotDanish05/2025_KC_TI-1A/main/Data/P11/images/train/clean/19.png',\n",
              " 'https://raw.githubusercontent.com/ImNotDanish05/2025_KC_TI-1A/main/Data/P11/images/train/clean/2.png',\n",
              " 'https://raw.githubusercontent.com/ImNotDanish05/2025_KC_TI-1A/main/Data/P11/images/train/clean/20.png',\n",
              " 'https://raw.githubusercontent.com/ImNotDanish05/2025_KC_TI-1A/main/Data/P11/images/train/clean/21.png',\n",
              " 'https://raw.githubusercontent.com/ImNotDanish05/2025_KC_TI-1A/main/Data/P11/images/train/clean/22.png',\n",
              " 'https://raw.githubusercontent.com/ImNotDanish05/2025_KC_TI-1A/main/Data/P11/images/train/clean/23.png',\n",
              " 'https://raw.githubusercontent.com/ImNotDanish05/2025_KC_TI-1A/main/Data/P11/images/train/clean/24.png',\n",
              " 'https://raw.githubusercontent.com/ImNotDanish05/2025_KC_TI-1A/main/Data/P11/images/train/clean/25.png',\n",
              " 'https://raw.githubusercontent.com/ImNotDanish05/2025_KC_TI-1A/main/Data/P11/images/train/clean/26.png',\n",
              " 'https://raw.githubusercontent.com/ImNotDanish05/2025_KC_TI-1A/main/Data/P11/images/train/clean/27.png',\n",
              " 'https://raw.githubusercontent.com/ImNotDanish05/2025_KC_TI-1A/main/Data/P11/images/train/clean/28.png',\n",
              " 'https://raw.githubusercontent.com/ImNotDanish05/2025_KC_TI-1A/main/Data/P11/images/train/clean/29.png',\n",
              " 'https://raw.githubusercontent.com/ImNotDanish05/2025_KC_TI-1A/main/Data/P11/images/train/clean/3.png',\n",
              " 'https://raw.githubusercontent.com/ImNotDanish05/2025_KC_TI-1A/main/Data/P11/images/train/clean/30.png',\n",
              " 'https://raw.githubusercontent.com/ImNotDanish05/2025_KC_TI-1A/main/Data/P11/images/train/clean/31.png',\n",
              " 'https://raw.githubusercontent.com/ImNotDanish05/2025_KC_TI-1A/main/Data/P11/images/train/clean/32.png',\n",
              " 'https://raw.githubusercontent.com/ImNotDanish05/2025_KC_TI-1A/main/Data/P11/images/train/clean/33.png',\n",
              " 'https://raw.githubusercontent.com/ImNotDanish05/2025_KC_TI-1A/main/Data/P11/images/train/clean/34.png',\n",
              " 'https://raw.githubusercontent.com/ImNotDanish05/2025_KC_TI-1A/main/Data/P11/images/train/clean/35.png',\n",
              " 'https://raw.githubusercontent.com/ImNotDanish05/2025_KC_TI-1A/main/Data/P11/images/train/clean/36.png',\n",
              " 'https://raw.githubusercontent.com/ImNotDanish05/2025_KC_TI-1A/main/Data/P11/images/train/clean/37.png',\n",
              " 'https://raw.githubusercontent.com/ImNotDanish05/2025_KC_TI-1A/main/Data/P11/images/train/clean/38.png',\n",
              " 'https://raw.githubusercontent.com/ImNotDanish05/2025_KC_TI-1A/main/Data/P11/images/train/clean/39.png',\n",
              " 'https://raw.githubusercontent.com/ImNotDanish05/2025_KC_TI-1A/main/Data/P11/images/train/clean/4.png',\n",
              " 'https://raw.githubusercontent.com/ImNotDanish05/2025_KC_TI-1A/main/Data/P11/images/train/clean/40.png',\n",
              " 'https://raw.githubusercontent.com/ImNotDanish05/2025_KC_TI-1A/main/Data/P11/images/train/clean/41.png',\n",
              " 'https://raw.githubusercontent.com/ImNotDanish05/2025_KC_TI-1A/main/Data/P11/images/train/clean/42.png',\n",
              " 'https://raw.githubusercontent.com/ImNotDanish05/2025_KC_TI-1A/main/Data/P11/images/train/clean/43.png',\n",
              " 'https://raw.githubusercontent.com/ImNotDanish05/2025_KC_TI-1A/main/Data/P11/images/train/clean/44.png',\n",
              " 'https://raw.githubusercontent.com/ImNotDanish05/2025_KC_TI-1A/main/Data/P11/images/train/clean/45.png',\n",
              " 'https://raw.githubusercontent.com/ImNotDanish05/2025_KC_TI-1A/main/Data/P11/images/train/clean/46.png',\n",
              " 'https://raw.githubusercontent.com/ImNotDanish05/2025_KC_TI-1A/main/Data/P11/images/train/clean/47.png',\n",
              " 'https://raw.githubusercontent.com/ImNotDanish05/2025_KC_TI-1A/main/Data/P11/images/train/clean/48.png',\n",
              " 'https://raw.githubusercontent.com/ImNotDanish05/2025_KC_TI-1A/main/Data/P11/images/train/clean/49.png',\n",
              " 'https://raw.githubusercontent.com/ImNotDanish05/2025_KC_TI-1A/main/Data/P11/images/train/clean/5.png',\n",
              " 'https://raw.githubusercontent.com/ImNotDanish05/2025_KC_TI-1A/main/Data/P11/images/train/clean/50.png',\n",
              " 'https://raw.githubusercontent.com/ImNotDanish05/2025_KC_TI-1A/main/Data/P11/images/train/clean/51.png',\n",
              " 'https://raw.githubusercontent.com/ImNotDanish05/2025_KC_TI-1A/main/Data/P11/images/train/clean/52.png',\n",
              " 'https://raw.githubusercontent.com/ImNotDanish05/2025_KC_TI-1A/main/Data/P11/images/train/clean/53.png',\n",
              " 'https://raw.githubusercontent.com/ImNotDanish05/2025_KC_TI-1A/main/Data/P11/images/train/clean/54.png',\n",
              " 'https://raw.githubusercontent.com/ImNotDanish05/2025_KC_TI-1A/main/Data/P11/images/train/clean/55.png',\n",
              " 'https://raw.githubusercontent.com/ImNotDanish05/2025_KC_TI-1A/main/Data/P11/images/train/clean/56.png',\n",
              " 'https://raw.githubusercontent.com/ImNotDanish05/2025_KC_TI-1A/main/Data/P11/images/train/clean/57.png',\n",
              " 'https://raw.githubusercontent.com/ImNotDanish05/2025_KC_TI-1A/main/Data/P11/images/train/clean/58.png',\n",
              " 'https://raw.githubusercontent.com/ImNotDanish05/2025_KC_TI-1A/main/Data/P11/images/train/clean/59.png',\n",
              " 'https://raw.githubusercontent.com/ImNotDanish05/2025_KC_TI-1A/main/Data/P11/images/train/clean/6.png',\n",
              " 'https://raw.githubusercontent.com/ImNotDanish05/2025_KC_TI-1A/main/Data/P11/images/train/clean/60.png',\n",
              " 'https://raw.githubusercontent.com/ImNotDanish05/2025_KC_TI-1A/main/Data/P11/images/train/clean/61.png',\n",
              " 'https://raw.githubusercontent.com/ImNotDanish05/2025_KC_TI-1A/main/Data/P11/images/train/clean/62.png',\n",
              " 'https://raw.githubusercontent.com/ImNotDanish05/2025_KC_TI-1A/main/Data/P11/images/train/clean/63.png',\n",
              " 'https://raw.githubusercontent.com/ImNotDanish05/2025_KC_TI-1A/main/Data/P11/images/train/clean/64.png',\n",
              " 'https://raw.githubusercontent.com/ImNotDanish05/2025_KC_TI-1A/main/Data/P11/images/train/clean/65.png',\n",
              " 'https://raw.githubusercontent.com/ImNotDanish05/2025_KC_TI-1A/main/Data/P11/images/train/clean/66.png',\n",
              " 'https://raw.githubusercontent.com/ImNotDanish05/2025_KC_TI-1A/main/Data/P11/images/train/clean/67.png',\n",
              " 'https://raw.githubusercontent.com/ImNotDanish05/2025_KC_TI-1A/main/Data/P11/images/train/clean/68.png',\n",
              " 'https://raw.githubusercontent.com/ImNotDanish05/2025_KC_TI-1A/main/Data/P11/images/train/clean/69.png',\n",
              " 'https://raw.githubusercontent.com/ImNotDanish05/2025_KC_TI-1A/main/Data/P11/images/train/clean/7.png',\n",
              " 'https://raw.githubusercontent.com/ImNotDanish05/2025_KC_TI-1A/main/Data/P11/images/train/clean/70.png',\n",
              " 'https://raw.githubusercontent.com/ImNotDanish05/2025_KC_TI-1A/main/Data/P11/images/train/clean/71.png',\n",
              " 'https://raw.githubusercontent.com/ImNotDanish05/2025_KC_TI-1A/main/Data/P11/images/train/clean/72.png',\n",
              " 'https://raw.githubusercontent.com/ImNotDanish05/2025_KC_TI-1A/main/Data/P11/images/train/clean/73.png',\n",
              " 'https://raw.githubusercontent.com/ImNotDanish05/2025_KC_TI-1A/main/Data/P11/images/train/clean/74.png',\n",
              " 'https://raw.githubusercontent.com/ImNotDanish05/2025_KC_TI-1A/main/Data/P11/images/train/clean/75.png',\n",
              " 'https://raw.githubusercontent.com/ImNotDanish05/2025_KC_TI-1A/main/Data/P11/images/train/clean/76.png',\n",
              " 'https://raw.githubusercontent.com/ImNotDanish05/2025_KC_TI-1A/main/Data/P11/images/train/clean/77.png',\n",
              " 'https://raw.githubusercontent.com/ImNotDanish05/2025_KC_TI-1A/main/Data/P11/images/train/clean/78.png',\n",
              " 'https://raw.githubusercontent.com/ImNotDanish05/2025_KC_TI-1A/main/Data/P11/images/train/clean/79.png',\n",
              " 'https://raw.githubusercontent.com/ImNotDanish05/2025_KC_TI-1A/main/Data/P11/images/train/clean/8.png',\n",
              " 'https://raw.githubusercontent.com/ImNotDanish05/2025_KC_TI-1A/main/Data/P11/images/train/clean/80.png',\n",
              " 'https://raw.githubusercontent.com/ImNotDanish05/2025_KC_TI-1A/main/Data/P11/images/train/clean/81.png',\n",
              " 'https://raw.githubusercontent.com/ImNotDanish05/2025_KC_TI-1A/main/Data/P11/images/train/clean/82.png',\n",
              " 'https://raw.githubusercontent.com/ImNotDanish05/2025_KC_TI-1A/main/Data/P11/images/train/clean/83.png',\n",
              " 'https://raw.githubusercontent.com/ImNotDanish05/2025_KC_TI-1A/main/Data/P11/images/train/clean/84.png',\n",
              " 'https://raw.githubusercontent.com/ImNotDanish05/2025_KC_TI-1A/main/Data/P11/images/train/clean/85.png',\n",
              " 'https://raw.githubusercontent.com/ImNotDanish05/2025_KC_TI-1A/main/Data/P11/images/train/clean/86.png',\n",
              " 'https://raw.githubusercontent.com/ImNotDanish05/2025_KC_TI-1A/main/Data/P11/images/train/clean/87.png',\n",
              " 'https://raw.githubusercontent.com/ImNotDanish05/2025_KC_TI-1A/main/Data/P11/images/train/clean/88.png',\n",
              " 'https://raw.githubusercontent.com/ImNotDanish05/2025_KC_TI-1A/main/Data/P11/images/train/clean/89.png',\n",
              " 'https://raw.githubusercontent.com/ImNotDanish05/2025_KC_TI-1A/main/Data/P11/images/train/clean/9.png',\n",
              " 'https://raw.githubusercontent.com/ImNotDanish05/2025_KC_TI-1A/main/Data/P11/images/train/clean/90.png',\n",
              " 'https://raw.githubusercontent.com/ImNotDanish05/2025_KC_TI-1A/main/Data/P11/images/train/clean/91.png',\n",
              " 'https://raw.githubusercontent.com/ImNotDanish05/2025_KC_TI-1A/main/Data/P11/images/train/clean/92.png',\n",
              " 'https://raw.githubusercontent.com/ImNotDanish05/2025_KC_TI-1A/main/Data/P11/images/train/clean/93.png',\n",
              " 'https://raw.githubusercontent.com/ImNotDanish05/2025_KC_TI-1A/main/Data/P11/images/train/clean/94.png',\n",
              " 'https://raw.githubusercontent.com/ImNotDanish05/2025_KC_TI-1A/main/Data/P11/images/train/clean/95.png',\n",
              " 'https://raw.githubusercontent.com/ImNotDanish05/2025_KC_TI-1A/main/Data/P11/images/train/messy/0.png',\n",
              " 'https://raw.githubusercontent.com/ImNotDanish05/2025_KC_TI-1A/main/Data/P11/images/train/messy/1.png',\n",
              " 'https://raw.githubusercontent.com/ImNotDanish05/2025_KC_TI-1A/main/Data/P11/images/train/messy/10.png',\n",
              " 'https://raw.githubusercontent.com/ImNotDanish05/2025_KC_TI-1A/main/Data/P11/images/train/messy/11.png',\n",
              " 'https://raw.githubusercontent.com/ImNotDanish05/2025_KC_TI-1A/main/Data/P11/images/train/messy/12.png',\n",
              " 'https://raw.githubusercontent.com/ImNotDanish05/2025_KC_TI-1A/main/Data/P11/images/train/messy/13.png',\n",
              " 'https://raw.githubusercontent.com/ImNotDanish05/2025_KC_TI-1A/main/Data/P11/images/train/messy/14.png',\n",
              " 'https://raw.githubusercontent.com/ImNotDanish05/2025_KC_TI-1A/main/Data/P11/images/train/messy/15.png',\n",
              " 'https://raw.githubusercontent.com/ImNotDanish05/2025_KC_TI-1A/main/Data/P11/images/train/messy/16.png',\n",
              " 'https://raw.githubusercontent.com/ImNotDanish05/2025_KC_TI-1A/main/Data/P11/images/train/messy/17.png',\n",
              " 'https://raw.githubusercontent.com/ImNotDanish05/2025_KC_TI-1A/main/Data/P11/images/train/messy/18.png',\n",
              " 'https://raw.githubusercontent.com/ImNotDanish05/2025_KC_TI-1A/main/Data/P11/images/train/messy/19.png',\n",
              " 'https://raw.githubusercontent.com/ImNotDanish05/2025_KC_TI-1A/main/Data/P11/images/train/messy/2.png',\n",
              " 'https://raw.githubusercontent.com/ImNotDanish05/2025_KC_TI-1A/main/Data/P11/images/train/messy/20.png',\n",
              " 'https://raw.githubusercontent.com/ImNotDanish05/2025_KC_TI-1A/main/Data/P11/images/train/messy/21.png',\n",
              " 'https://raw.githubusercontent.com/ImNotDanish05/2025_KC_TI-1A/main/Data/P11/images/train/messy/22.png',\n",
              " 'https://raw.githubusercontent.com/ImNotDanish05/2025_KC_TI-1A/main/Data/P11/images/train/messy/23.png',\n",
              " 'https://raw.githubusercontent.com/ImNotDanish05/2025_KC_TI-1A/main/Data/P11/images/train/messy/24.png',\n",
              " 'https://raw.githubusercontent.com/ImNotDanish05/2025_KC_TI-1A/main/Data/P11/images/train/messy/25.png',\n",
              " 'https://raw.githubusercontent.com/ImNotDanish05/2025_KC_TI-1A/main/Data/P11/images/train/messy/26.png',\n",
              " 'https://raw.githubusercontent.com/ImNotDanish05/2025_KC_TI-1A/main/Data/P11/images/train/messy/27.png',\n",
              " 'https://raw.githubusercontent.com/ImNotDanish05/2025_KC_TI-1A/main/Data/P11/images/train/messy/28.png',\n",
              " 'https://raw.githubusercontent.com/ImNotDanish05/2025_KC_TI-1A/main/Data/P11/images/train/messy/29.png',\n",
              " 'https://raw.githubusercontent.com/ImNotDanish05/2025_KC_TI-1A/main/Data/P11/images/train/messy/3.png',\n",
              " 'https://raw.githubusercontent.com/ImNotDanish05/2025_KC_TI-1A/main/Data/P11/images/train/messy/30.png',\n",
              " 'https://raw.githubusercontent.com/ImNotDanish05/2025_KC_TI-1A/main/Data/P11/images/train/messy/31.png',\n",
              " 'https://raw.githubusercontent.com/ImNotDanish05/2025_KC_TI-1A/main/Data/P11/images/train/messy/32.png',\n",
              " 'https://raw.githubusercontent.com/ImNotDanish05/2025_KC_TI-1A/main/Data/P11/images/train/messy/33.png',\n",
              " 'https://raw.githubusercontent.com/ImNotDanish05/2025_KC_TI-1A/main/Data/P11/images/train/messy/34.png',\n",
              " 'https://raw.githubusercontent.com/ImNotDanish05/2025_KC_TI-1A/main/Data/P11/images/train/messy/35.png',\n",
              " 'https://raw.githubusercontent.com/ImNotDanish05/2025_KC_TI-1A/main/Data/P11/images/train/messy/36.png',\n",
              " 'https://raw.githubusercontent.com/ImNotDanish05/2025_KC_TI-1A/main/Data/P11/images/train/messy/37.png',\n",
              " 'https://raw.githubusercontent.com/ImNotDanish05/2025_KC_TI-1A/main/Data/P11/images/train/messy/38.png',\n",
              " 'https://raw.githubusercontent.com/ImNotDanish05/2025_KC_TI-1A/main/Data/P11/images/train/messy/39.png',\n",
              " 'https://raw.githubusercontent.com/ImNotDanish05/2025_KC_TI-1A/main/Data/P11/images/train/messy/4.png',\n",
              " 'https://raw.githubusercontent.com/ImNotDanish05/2025_KC_TI-1A/main/Data/P11/images/train/messy/40.png',\n",
              " 'https://raw.githubusercontent.com/ImNotDanish05/2025_KC_TI-1A/main/Data/P11/images/train/messy/41.png',\n",
              " 'https://raw.githubusercontent.com/ImNotDanish05/2025_KC_TI-1A/main/Data/P11/images/train/messy/42.png',\n",
              " 'https://raw.githubusercontent.com/ImNotDanish05/2025_KC_TI-1A/main/Data/P11/images/train/messy/43.png',\n",
              " 'https://raw.githubusercontent.com/ImNotDanish05/2025_KC_TI-1A/main/Data/P11/images/train/messy/44.png',\n",
              " 'https://raw.githubusercontent.com/ImNotDanish05/2025_KC_TI-1A/main/Data/P11/images/train/messy/45.png',\n",
              " 'https://raw.githubusercontent.com/ImNotDanish05/2025_KC_TI-1A/main/Data/P11/images/train/messy/46.png',\n",
              " 'https://raw.githubusercontent.com/ImNotDanish05/2025_KC_TI-1A/main/Data/P11/images/train/messy/47.png',\n",
              " 'https://raw.githubusercontent.com/ImNotDanish05/2025_KC_TI-1A/main/Data/P11/images/train/messy/48.png',\n",
              " 'https://raw.githubusercontent.com/ImNotDanish05/2025_KC_TI-1A/main/Data/P11/images/train/messy/49.png',\n",
              " 'https://raw.githubusercontent.com/ImNotDanish05/2025_KC_TI-1A/main/Data/P11/images/train/messy/5.png',\n",
              " 'https://raw.githubusercontent.com/ImNotDanish05/2025_KC_TI-1A/main/Data/P11/images/train/messy/50.png',\n",
              " 'https://raw.githubusercontent.com/ImNotDanish05/2025_KC_TI-1A/main/Data/P11/images/train/messy/51.png',\n",
              " 'https://raw.githubusercontent.com/ImNotDanish05/2025_KC_TI-1A/main/Data/P11/images/train/messy/52.png',\n",
              " 'https://raw.githubusercontent.com/ImNotDanish05/2025_KC_TI-1A/main/Data/P11/images/train/messy/53.png',\n",
              " 'https://raw.githubusercontent.com/ImNotDanish05/2025_KC_TI-1A/main/Data/P11/images/train/messy/54.png',\n",
              " 'https://raw.githubusercontent.com/ImNotDanish05/2025_KC_TI-1A/main/Data/P11/images/train/messy/55.png',\n",
              " 'https://raw.githubusercontent.com/ImNotDanish05/2025_KC_TI-1A/main/Data/P11/images/train/messy/56.png',\n",
              " 'https://raw.githubusercontent.com/ImNotDanish05/2025_KC_TI-1A/main/Data/P11/images/train/messy/57.png',\n",
              " 'https://raw.githubusercontent.com/ImNotDanish05/2025_KC_TI-1A/main/Data/P11/images/train/messy/58.png',\n",
              " 'https://raw.githubusercontent.com/ImNotDanish05/2025_KC_TI-1A/main/Data/P11/images/train/messy/59.png',\n",
              " 'https://raw.githubusercontent.com/ImNotDanish05/2025_KC_TI-1A/main/Data/P11/images/train/messy/6.png',\n",
              " 'https://raw.githubusercontent.com/ImNotDanish05/2025_KC_TI-1A/main/Data/P11/images/train/messy/60.png',\n",
              " 'https://raw.githubusercontent.com/ImNotDanish05/2025_KC_TI-1A/main/Data/P11/images/train/messy/61.png',\n",
              " 'https://raw.githubusercontent.com/ImNotDanish05/2025_KC_TI-1A/main/Data/P11/images/train/messy/62.png',\n",
              " 'https://raw.githubusercontent.com/ImNotDanish05/2025_KC_TI-1A/main/Data/P11/images/train/messy/63.png',\n",
              " 'https://raw.githubusercontent.com/ImNotDanish05/2025_KC_TI-1A/main/Data/P11/images/train/messy/64.png',\n",
              " 'https://raw.githubusercontent.com/ImNotDanish05/2025_KC_TI-1A/main/Data/P11/images/train/messy/65.png',\n",
              " 'https://raw.githubusercontent.com/ImNotDanish05/2025_KC_TI-1A/main/Data/P11/images/train/messy/66.png',\n",
              " 'https://raw.githubusercontent.com/ImNotDanish05/2025_KC_TI-1A/main/Data/P11/images/train/messy/67.png',\n",
              " 'https://raw.githubusercontent.com/ImNotDanish05/2025_KC_TI-1A/main/Data/P11/images/train/messy/68.png',\n",
              " 'https://raw.githubusercontent.com/ImNotDanish05/2025_KC_TI-1A/main/Data/P11/images/train/messy/69.png',\n",
              " 'https://raw.githubusercontent.com/ImNotDanish05/2025_KC_TI-1A/main/Data/P11/images/train/messy/7.png',\n",
              " 'https://raw.githubusercontent.com/ImNotDanish05/2025_KC_TI-1A/main/Data/P11/images/train/messy/70.png',\n",
              " 'https://raw.githubusercontent.com/ImNotDanish05/2025_KC_TI-1A/main/Data/P11/images/train/messy/71.png',\n",
              " 'https://raw.githubusercontent.com/ImNotDanish05/2025_KC_TI-1A/main/Data/P11/images/train/messy/72.png',\n",
              " 'https://raw.githubusercontent.com/ImNotDanish05/2025_KC_TI-1A/main/Data/P11/images/train/messy/73.png',\n",
              " 'https://raw.githubusercontent.com/ImNotDanish05/2025_KC_TI-1A/main/Data/P11/images/train/messy/74.png',\n",
              " 'https://raw.githubusercontent.com/ImNotDanish05/2025_KC_TI-1A/main/Data/P11/images/train/messy/75.png',\n",
              " 'https://raw.githubusercontent.com/ImNotDanish05/2025_KC_TI-1A/main/Data/P11/images/train/messy/76.png',\n",
              " 'https://raw.githubusercontent.com/ImNotDanish05/2025_KC_TI-1A/main/Data/P11/images/train/messy/77.png',\n",
              " 'https://raw.githubusercontent.com/ImNotDanish05/2025_KC_TI-1A/main/Data/P11/images/train/messy/78.png',\n",
              " 'https://raw.githubusercontent.com/ImNotDanish05/2025_KC_TI-1A/main/Data/P11/images/train/messy/79.png',\n",
              " 'https://raw.githubusercontent.com/ImNotDanish05/2025_KC_TI-1A/main/Data/P11/images/train/messy/8.png',\n",
              " 'https://raw.githubusercontent.com/ImNotDanish05/2025_KC_TI-1A/main/Data/P11/images/train/messy/80.png',\n",
              " 'https://raw.githubusercontent.com/ImNotDanish05/2025_KC_TI-1A/main/Data/P11/images/train/messy/81.png',\n",
              " 'https://raw.githubusercontent.com/ImNotDanish05/2025_KC_TI-1A/main/Data/P11/images/train/messy/82.png',\n",
              " 'https://raw.githubusercontent.com/ImNotDanish05/2025_KC_TI-1A/main/Data/P11/images/train/messy/83.png',\n",
              " 'https://raw.githubusercontent.com/ImNotDanish05/2025_KC_TI-1A/main/Data/P11/images/train/messy/84.png',\n",
              " 'https://raw.githubusercontent.com/ImNotDanish05/2025_KC_TI-1A/main/Data/P11/images/train/messy/85.png',\n",
              " 'https://raw.githubusercontent.com/ImNotDanish05/2025_KC_TI-1A/main/Data/P11/images/train/messy/86.png',\n",
              " 'https://raw.githubusercontent.com/ImNotDanish05/2025_KC_TI-1A/main/Data/P11/images/train/messy/87.png',\n",
              " 'https://raw.githubusercontent.com/ImNotDanish05/2025_KC_TI-1A/main/Data/P11/images/train/messy/88.png',\n",
              " 'https://raw.githubusercontent.com/ImNotDanish05/2025_KC_TI-1A/main/Data/P11/images/train/messy/89.png',\n",
              " 'https://raw.githubusercontent.com/ImNotDanish05/2025_KC_TI-1A/main/Data/P11/images/train/messy/9.png',\n",
              " 'https://raw.githubusercontent.com/ImNotDanish05/2025_KC_TI-1A/main/Data/P11/images/train/messy/90.png',\n",
              " 'https://raw.githubusercontent.com/ImNotDanish05/2025_KC_TI-1A/main/Data/P11/images/train/messy/91.png',\n",
              " 'https://raw.githubusercontent.com/ImNotDanish05/2025_KC_TI-1A/main/Data/P11/images/train/messy/92.png',\n",
              " 'https://raw.githubusercontent.com/ImNotDanish05/2025_KC_TI-1A/main/Data/P11/images/train/messy/93.png',\n",
              " 'https://raw.githubusercontent.com/ImNotDanish05/2025_KC_TI-1A/main/Data/P11/images/train/messy/94.png',\n",
              " 'https://raw.githubusercontent.com/ImNotDanish05/2025_KC_TI-1A/main/Data/P11/images/train/messy/95.png',\n",
              " 'https://raw.githubusercontent.com/ImNotDanish05/2025_KC_TI-1A/main/Data/P11/images/val/clean/0.png',\n",
              " 'https://raw.githubusercontent.com/ImNotDanish05/2025_KC_TI-1A/main/Data/P11/images/val/clean/1.png',\n",
              " 'https://raw.githubusercontent.com/ImNotDanish05/2025_KC_TI-1A/main/Data/P11/images/val/clean/2.png',\n",
              " 'https://raw.githubusercontent.com/ImNotDanish05/2025_KC_TI-1A/main/Data/P11/images/val/clean/3.png',\n",
              " 'https://raw.githubusercontent.com/ImNotDanish05/2025_KC_TI-1A/main/Data/P11/images/val/clean/4.png',\n",
              " 'https://raw.githubusercontent.com/ImNotDanish05/2025_KC_TI-1A/main/Data/P11/images/val/clean/5.png',\n",
              " 'https://raw.githubusercontent.com/ImNotDanish05/2025_KC_TI-1A/main/Data/P11/images/val/clean/6.png',\n",
              " 'https://raw.githubusercontent.com/ImNotDanish05/2025_KC_TI-1A/main/Data/P11/images/val/clean/7.png',\n",
              " 'https://raw.githubusercontent.com/ImNotDanish05/2025_KC_TI-1A/main/Data/P11/images/val/clean/8.png',\n",
              " 'https://raw.githubusercontent.com/ImNotDanish05/2025_KC_TI-1A/main/Data/P11/images/val/clean/9.png',\n",
              " 'https://raw.githubusercontent.com/ImNotDanish05/2025_KC_TI-1A/main/Data/P11/images/val/messy/0.png',\n",
              " 'https://raw.githubusercontent.com/ImNotDanish05/2025_KC_TI-1A/main/Data/P11/images/val/messy/1.png',\n",
              " 'https://raw.githubusercontent.com/ImNotDanish05/2025_KC_TI-1A/main/Data/P11/images/val/messy/2.png',\n",
              " 'https://raw.githubusercontent.com/ImNotDanish05/2025_KC_TI-1A/main/Data/P11/images/val/messy/3.png',\n",
              " 'https://raw.githubusercontent.com/ImNotDanish05/2025_KC_TI-1A/main/Data/P11/images/val/messy/4.png',\n",
              " 'https://raw.githubusercontent.com/ImNotDanish05/2025_KC_TI-1A/main/Data/P11/images/val/messy/5.png',\n",
              " 'https://raw.githubusercontent.com/ImNotDanish05/2025_KC_TI-1A/main/Data/P11/images/val/messy/6.png',\n",
              " 'https://raw.githubusercontent.com/ImNotDanish05/2025_KC_TI-1A/main/Data/P11/images/val/messy/7.png',\n",
              " 'https://raw.githubusercontent.com/ImNotDanish05/2025_KC_TI-1A/main/Data/P11/images/val/messy/8.png',\n",
              " 'https://raw.githubusercontent.com/ImNotDanish05/2025_KC_TI-1A/main/Data/P11/images/val/messy/9.png']"
            ]
          },
          "metadata": {},
          "execution_count": 28
        }
      ]
    },
    {
      "cell_type": "code",
      "source": [
        "train_generator = train_datagen.flow_from_directory(\n",
        "        train_dir,  # direktori data latih\n",
        "        target_size=(150, 150),  # mengubah resolusi seluruh gambar menjadi 150x150 piksel\n",
        "        batch_size=4,\n",
        "        # karena ini merupakan masalah klasifikasi 2 kelas, gunakan class_mode = 'binary'\n",
        "        class_mode='binary')\n",
        "\n",
        "validation_generator = test_datagen.flow_from_directory(\n",
        "        validation_dir, # direktori data validasi\n",
        "        target_size=(150, 150), # mengubah resolusi seluruh gambar menjadi 150x150 piksel\n",
        "        batch_size=4, # karena ini merupakan masalah klasifikasi 2 kelas gunakan class_mode = 'binary'\n",
        "        class_mode='binary')"
      ],
      "metadata": {
        "id": "_McVd9xcf3vm",
        "outputId": "eb3eb677-d04f-4a55-c6d1-4b310310cc64",
        "colab": {
          "base_uri": "https://localhost:8080/",
          "height": 373
        }
      },
      "execution_count": 26,
      "outputs": [
        {
          "output_type": "error",
          "ename": "TypeError",
          "evalue": "listdir: path should be string, bytes, os.PathLike, integer or None, not list",
          "traceback": [
            "\u001b[0;31m---------------------------------------------------------------------------\u001b[0m",
            "\u001b[0;31mTypeError\u001b[0m                                 Traceback (most recent call last)",
            "\u001b[0;32m<ipython-input-26-1607173911>\u001b[0m in \u001b[0;36m<cell line: 0>\u001b[0;34m()\u001b[0m\n\u001b[0;32m----> 1\u001b[0;31m train_generator = train_datagen.flow_from_directory(\n\u001b[0m\u001b[1;32m      2\u001b[0m         \u001b[0mlist_all_png_from_github_api\u001b[0m\u001b[0;34m(\u001b[0m\u001b[0mtrain_dir\u001b[0m\u001b[0;34m)\u001b[0m\u001b[0;34m,\u001b[0m  \u001b[0;31m# direktori data latih\u001b[0m\u001b[0;34m\u001b[0m\u001b[0;34m\u001b[0m\u001b[0m\n\u001b[1;32m      3\u001b[0m         \u001b[0mtarget_size\u001b[0m\u001b[0;34m=\u001b[0m\u001b[0;34m(\u001b[0m\u001b[0;36m150\u001b[0m\u001b[0;34m,\u001b[0m \u001b[0;36m150\u001b[0m\u001b[0;34m)\u001b[0m\u001b[0;34m,\u001b[0m  \u001b[0;31m# mengubah resolusi seluruh gambar menjadi 150x150 piksel\u001b[0m\u001b[0;34m\u001b[0m\u001b[0;34m\u001b[0m\u001b[0m\n\u001b[1;32m      4\u001b[0m         \u001b[0mbatch_size\u001b[0m\u001b[0;34m=\u001b[0m\u001b[0;36m4\u001b[0m\u001b[0;34m,\u001b[0m\u001b[0;34m\u001b[0m\u001b[0;34m\u001b[0m\u001b[0m\n\u001b[1;32m      5\u001b[0m         \u001b[0;31m# karena ini merupakan masalah klasifikasi 2 kelas, gunakan class_mode = 'binary'\u001b[0m\u001b[0;34m\u001b[0m\u001b[0;34m\u001b[0m\u001b[0m\n",
            "\u001b[0;32m/usr/local/lib/python3.11/dist-packages/keras/src/legacy/preprocessing/image.py\u001b[0m in \u001b[0;36mflow_from_directory\u001b[0;34m(self, directory, target_size, color_mode, classes, class_mode, batch_size, shuffle, seed, save_to_dir, save_prefix, save_format, follow_links, subset, interpolation, keep_aspect_ratio)\u001b[0m\n\u001b[1;32m   1136\u001b[0m         \u001b[0mkeep_aspect_ratio\u001b[0m\u001b[0;34m=\u001b[0m\u001b[0;32mFalse\u001b[0m\u001b[0;34m,\u001b[0m\u001b[0;34m\u001b[0m\u001b[0;34m\u001b[0m\u001b[0m\n\u001b[1;32m   1137\u001b[0m     ):\n\u001b[0;32m-> 1138\u001b[0;31m         return DirectoryIterator(\n\u001b[0m\u001b[1;32m   1139\u001b[0m             \u001b[0mdirectory\u001b[0m\u001b[0;34m,\u001b[0m\u001b[0;34m\u001b[0m\u001b[0;34m\u001b[0m\u001b[0m\n\u001b[1;32m   1140\u001b[0m             \u001b[0mself\u001b[0m\u001b[0;34m,\u001b[0m\u001b[0;34m\u001b[0m\u001b[0;34m\u001b[0m\u001b[0m\n",
            "\u001b[0;32m/usr/local/lib/python3.11/dist-packages/keras/src/legacy/preprocessing/image.py\u001b[0m in \u001b[0;36m__init__\u001b[0;34m(self, directory, image_data_generator, target_size, color_mode, classes, class_mode, batch_size, shuffle, seed, data_format, save_to_dir, save_prefix, save_format, follow_links, subset, interpolation, keep_aspect_ratio, dtype)\u001b[0m\n\u001b[1;32m    451\u001b[0m         \u001b[0;32mif\u001b[0m \u001b[0;32mnot\u001b[0m \u001b[0mclasses\u001b[0m\u001b[0;34m:\u001b[0m\u001b[0;34m\u001b[0m\u001b[0;34m\u001b[0m\u001b[0m\n\u001b[1;32m    452\u001b[0m             \u001b[0mclasses\u001b[0m \u001b[0;34m=\u001b[0m \u001b[0;34m[\u001b[0m\u001b[0;34m]\u001b[0m\u001b[0;34m\u001b[0m\u001b[0;34m\u001b[0m\u001b[0m\n\u001b[0;32m--> 453\u001b[0;31m             \u001b[0;32mfor\u001b[0m \u001b[0msubdir\u001b[0m \u001b[0;32min\u001b[0m \u001b[0msorted\u001b[0m\u001b[0;34m(\u001b[0m\u001b[0mos\u001b[0m\u001b[0;34m.\u001b[0m\u001b[0mlistdir\u001b[0m\u001b[0;34m(\u001b[0m\u001b[0mdirectory\u001b[0m\u001b[0;34m)\u001b[0m\u001b[0;34m)\u001b[0m\u001b[0;34m:\u001b[0m\u001b[0;34m\u001b[0m\u001b[0;34m\u001b[0m\u001b[0m\n\u001b[0m\u001b[1;32m    454\u001b[0m                 \u001b[0;32mif\u001b[0m \u001b[0mos\u001b[0m\u001b[0;34m.\u001b[0m\u001b[0mpath\u001b[0m\u001b[0;34m.\u001b[0m\u001b[0misdir\u001b[0m\u001b[0;34m(\u001b[0m\u001b[0mos\u001b[0m\u001b[0;34m.\u001b[0m\u001b[0mpath\u001b[0m\u001b[0;34m.\u001b[0m\u001b[0mjoin\u001b[0m\u001b[0;34m(\u001b[0m\u001b[0mdirectory\u001b[0m\u001b[0;34m,\u001b[0m \u001b[0msubdir\u001b[0m\u001b[0;34m)\u001b[0m\u001b[0;34m)\u001b[0m\u001b[0;34m:\u001b[0m\u001b[0;34m\u001b[0m\u001b[0;34m\u001b[0m\u001b[0m\n\u001b[1;32m    455\u001b[0m                     \u001b[0mclasses\u001b[0m\u001b[0;34m.\u001b[0m\u001b[0mappend\u001b[0m\u001b[0;34m(\u001b[0m\u001b[0msubdir\u001b[0m\u001b[0;34m)\u001b[0m\u001b[0;34m\u001b[0m\u001b[0;34m\u001b[0m\u001b[0m\n",
            "\u001b[0;31mTypeError\u001b[0m: listdir: path should be string, bytes, os.PathLike, integer or None, not list"
          ]
        }
      ]
    }
  ]
}