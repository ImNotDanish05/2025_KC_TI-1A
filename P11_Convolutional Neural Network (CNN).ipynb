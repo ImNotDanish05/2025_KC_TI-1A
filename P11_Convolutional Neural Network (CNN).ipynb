{
  "nbformat": 4,
  "nbformat_minor": 0,
  "metadata": {
    "colab": {
      "provenance": [],
      "authorship_tag": "ABX9TyOalobdqUpIX9LezqmQeCsP",
      "include_colab_link": true
    },
    "kernelspec": {
      "name": "python3",
      "display_name": "Python 3"
    },
    "language_info": {
      "name": "python"
    }
  },
  "cells": [
    {
      "cell_type": "markdown",
      "metadata": {
        "id": "view-in-github",
        "colab_type": "text"
      },
      "source": [
        "<a href=\"https://colab.research.google.com/github/ImNotDanish05/2025_KC_TI-1A/blob/main/P11_Convolutional%20Neural%20Network%20(CNN).ipynb\" target=\"_parent\"><img src=\"https://colab.research.google.com/assets/colab-badge.svg\" alt=\"Open In Colab\"/></a>"
      ]
    },
    {
      "cell_type": "code",
      "source": [
        "import tensorflow as tf\n",
        "import os\n",
        "print(tf.__version__)"
      ],
      "metadata": {
        "colab": {
          "base_uri": "https://localhost:8080/"
        },
        "id": "O7oy4k42a5WP",
        "outputId": "bdfd828f-347a-4d55-d215-2f404dc47b41"
      },
      "execution_count": 1,
      "outputs": [
        {
          "output_type": "stream",
          "name": "stdout",
          "text": [
            "2.18.0\n"
          ]
        }
      ]
    },
    {
      "cell_type": "code",
      "source": [
        "\"\"\"\n",
        "List Dir: https://api.github.com/repos/ImNotDanish05/2025_KC_TI-1A/contents/Data/P11/images\n",
        "Open File: https://raw.githubusercontent.com/ImNotDanish05/2025_KC_TI-1A/main/Data/P11/images\n",
        "\"\"\"\n",
        "\n",
        "base_dir = 'https://api.github.com/repos/ImNotDanish05/2025_KC_TI-1A/contents/Data/P11/images'\n",
        "train_dir = base_dir + '/train'\n",
        "validation_dir = base_dir + '/val'"
      ],
      "metadata": {
        "id": "EiYHlXN9cM2x"
      },
      "execution_count": 2,
      "outputs": []
    },
    {
      "cell_type": "code",
      "source": [
        "import requests\n",
        "from urllib.parse import urlparse\n",
        "def listdirx(dirx):\n",
        "  response = requests.get(dirx)\n",
        "  if response.status_code == 200:\n",
        "      files = response.json()\n",
        "      print(dirx)\n",
        "      for file in files:\n",
        "          print(f\"- {file['name']}\")\n",
        "  else:\n",
        "      print(f\"Gagal mengambil data. Status: {response.status_code}\")\n",
        "def list_all_png_from_github_api(api_url, collected=[]):\n",
        "    collected = []\n",
        "    response = requests.get(api_url)\n",
        "    if response.status_code != 200:\n",
        "        print(f\"❌ Gagal mengakses {api_url} | Status: {response.status_code}\")\n",
        "        return collected\n",
        "\n",
        "    items = response.json()\n",
        "    for item in items:\n",
        "        if item['type'] == 'file' and item['name'].endswith('.png'):\n",
        "            collected.append(item['download_url'])\n",
        "        elif item['type'] == 'dir':\n",
        "            list_all_png_from_github_api(item['url'], collected)\n",
        "    return collected\n",
        "\n",
        "def download_images(image_urls, save_dir):\n",
        "    os.makedirs(save_dir, exist_ok=True)\n",
        "    for url in image_urls:\n",
        "        filename = os.path.basename(urlparse(url).path)\n",
        "        save_path = os.path.join(save_dir, filename)\n",
        "\n",
        "        response = requests.get(url)\n",
        "        if response.status_code == 200:\n",
        "            with open(save_path, 'wb') as f:\n",
        "                f.write(response.content)\n",
        "            print(f\"✅ Downloaded: {save_dir}/{filename}\")\n",
        "        else:\n",
        "            print(f\"❌ Gagal download: {filename}\")"
      ],
      "metadata": {
        "id": "1mMtpW_hdEHf"
      },
      "execution_count": 6,
      "outputs": []
    },
    {
      "cell_type": "code",
      "source": [
        "listdirx(train_dir)\n",
        "listdirx(validation_dir)"
      ],
      "metadata": {
        "colab": {
          "base_uri": "https://localhost:8080/"
        },
        "id": "pDtZ9grees5n",
        "outputId": "2684e625-7470-4cf5-c428-784896f4876d"
      },
      "execution_count": 7,
      "outputs": [
        {
          "output_type": "stream",
          "name": "stdout",
          "text": [
            "https://api.github.com/repos/ImNotDanish05/2025_KC_TI-1A/contents/Data/P11/images/train\n",
            "- .DS_Store\n",
            "- clean\n",
            "- messy\n",
            "https://api.github.com/repos/ImNotDanish05/2025_KC_TI-1A/contents/Data/P11/images/val\n",
            "- clean\n",
            "- messy\n"
          ]
        }
      ]
    },
    {
      "cell_type": "markdown",
      "source": [
        "TensorFlow\n",
        "\n",
        "Documentation: https://keras.io/api/data_loading/image/"
      ],
      "metadata": {
        "id": "eqHHHSsDfSyW"
      }
    },
    {
      "cell_type": "code",
      "source": [
        "train_clean_urls = list_all_png_from_github_api(train_dir + \"/clean\")\n",
        "train_messy_urls = list_all_png_from_github_api(train_dir + \"/messy\")\n",
        "validation_clean_urls = list_all_png_from_github_api(validation_dir + \"/clean\")\n",
        "validation_messy_urls = list_all_png_from_github_api(validation_dir + \"/messy\")\n",
        "test_urls = list_all_png_from_github_api(base_dir + \"/test\")\n",
        "download_images(train_clean_urls, 'dataset/train/clean')\n",
        "download_images(train_messy_urls, 'dataset/train/messy')\n",
        "download_images(validation_clean_urls, 'dataset/val/clean')\n",
        "download_images(validation_messy_urls, 'dataset/val/messy')\n",
        "download_images(test_urls, 'dataset/test')\n",
        "# print(f\"{train_dir}/messy\")\n",
        "# for item in validation_clean_urls:\n",
        "#   print(item)"
      ],
      "metadata": {
        "id": "9azVDTp5tYXG",
        "colab": {
          "base_uri": "https://localhost:8080/"
        },
        "outputId": "8b6d9a38-514b-4e7d-d0f1-f0cc9b93178a"
      },
      "execution_count": 5,
      "outputs": [
        {
          "output_type": "stream",
          "name": "stdout",
          "text": [
            "https://api.github.com/repos/ImNotDanish05/2025_KC_TI-1A/contents/Data/P11/images/train/messy\n",
            "https://raw.githubusercontent.com/ImNotDanish05/2025_KC_TI-1A/main/Data/P11/images/val/clean/0.png\n",
            "https://raw.githubusercontent.com/ImNotDanish05/2025_KC_TI-1A/main/Data/P11/images/val/clean/1.png\n",
            "https://raw.githubusercontent.com/ImNotDanish05/2025_KC_TI-1A/main/Data/P11/images/val/clean/2.png\n",
            "https://raw.githubusercontent.com/ImNotDanish05/2025_KC_TI-1A/main/Data/P11/images/val/clean/3.png\n",
            "https://raw.githubusercontent.com/ImNotDanish05/2025_KC_TI-1A/main/Data/P11/images/val/clean/4.png\n",
            "https://raw.githubusercontent.com/ImNotDanish05/2025_KC_TI-1A/main/Data/P11/images/val/clean/5.png\n",
            "https://raw.githubusercontent.com/ImNotDanish05/2025_KC_TI-1A/main/Data/P11/images/val/clean/6.png\n",
            "https://raw.githubusercontent.com/ImNotDanish05/2025_KC_TI-1A/main/Data/P11/images/val/clean/7.png\n",
            "https://raw.githubusercontent.com/ImNotDanish05/2025_KC_TI-1A/main/Data/P11/images/val/clean/8.png\n",
            "https://raw.githubusercontent.com/ImNotDanish05/2025_KC_TI-1A/main/Data/P11/images/val/clean/9.png\n"
          ]
        }
      ]
    },
    {
      "cell_type": "code",
      "source": [
        "print(\"Train Clean  :\", len(os.listdir('/content/dataset/train/clean')))\n",
        "print(\"Train Messy  :\", len(os.listdir('/content/dataset/train/messy')))\n",
        "print(\"Val Clean    :\", len(os.listdir('/content/dataset/val/clean')))\n",
        "print(\"Val Messy    :\", len(os.listdir('/content/dataset/val/messy')))\n",
        "print(\"Test         :\", len(os.listdir('/content/dataset/test')))\n",
        "train_dir = '/content/dataset/train'\n",
        "validation_dir = '/content/dataset/val'"
      ],
      "metadata": {
        "colab": {
          "base_uri": "https://localhost:8080/"
        },
        "id": "RkBwToy1zSlf",
        "outputId": "34ef5592-ce63-4c9e-a8bd-a9db6411e1d8"
      },
      "execution_count": 12,
      "outputs": [
        {
          "output_type": "stream",
          "name": "stdout",
          "text": [
            "Train Clean  : 96\n",
            "Train Messy  : 96\n",
            "Val Clean    : 96\n",
            "Val Messy    : 96\n",
            "Test         : 96\n"
          ]
        }
      ]
    },
    {
      "cell_type": "code",
      "source": [
        "from tensorflow.keras.preprocessing.image import ImageDataGenerator\n",
        "\n",
        "train_datagen = ImageDataGenerator(\n",
        "                    rescale=1./255,\n",
        "                    rotation_range=20,\n",
        "                    horizontal_flip=True,\n",
        "                    shear_range = 0.2,\n",
        "                    fill_mode = 'nearest')\n",
        "\n",
        "test_datagen = ImageDataGenerator(\n",
        "                    rescale=1./255)"
      ],
      "metadata": {
        "id": "5K14uWI23ge_"
      },
      "execution_count": 13,
      "outputs": []
    },
    {
      "cell_type": "code",
      "source": [
        "train_generator = train_datagen.flow_from_directory(\n",
        "        train_dir,  # direktori data latih\n",
        "        target_size=(150, 150),  # mengubah resolusi seluruh gambar menjadi 150x150 piksel\n",
        "        batch_size=4,\n",
        "        # karena ini merupakan masalah klasifikasi 2 kelas, gunakan class_mode = 'binary'\n",
        "        class_mode='binary')\n",
        "\n",
        "validation_generator = test_datagen.flow_from_directory(\n",
        "        validation_dir, # direktori data validasi\n",
        "        target_size=(150, 150), # mengubah resolusi seluruh gambar menjadi 150x150 piksel\n",
        "        batch_size=4, # karena ini merupakan masalah klasifikasi 2 kelas gunakan class_mode = 'binary'\n",
        "        class_mode='binary')"
      ],
      "metadata": {
        "colab": {
          "base_uri": "https://localhost:8080/"
        },
        "id": "_McVd9xcf3vm",
        "outputId": "15089efd-289d-4fe1-e371-d2dbd318607a"
      },
      "execution_count": 14,
      "outputs": [
        {
          "output_type": "stream",
          "name": "stdout",
          "text": [
            "Found 192 images belonging to 2 classes.\n",
            "Found 192 images belonging to 2 classes.\n"
          ]
        }
      ]
    },
    {
      "cell_type": "code",
      "source": [
        "model = tf.keras.models.Sequential([\n",
        "    tf.keras.Input(shape=(150, 150, 3)),\n",
        "    tf.keras.layers.Conv2D(32, (3,3), activation='relu'),\n",
        "    tf.keras.layers.MaxPooling2D(2, 2),\n",
        "    tf.keras.layers.Conv2D(64, (3,3), activation='relu'),\n",
        "    tf.keras.layers.MaxPooling2D(2,2),\n",
        "    tf.keras.layers.Conv2D(128, (3,3), activation='relu'),\n",
        "    tf.keras.layers.MaxPooling2D(2,2),\n",
        "    tf.keras.layers.Conv2D(512, (3,3), activation='relu'),\n",
        "    tf.keras.layers.MaxPooling2D(2,2),\n",
        "    tf.keras.layers.Flatten(),\n",
        "    tf.keras.layers.Dense(512, activation='relu'),\n",
        "    tf.keras.layers.Dense(1, activation='sigmoid')\n",
        "])"
      ],
      "metadata": {
        "id": "R9N5aqvX4aJ_"
      },
      "execution_count": 20,
      "outputs": []
    },
    {
      "cell_type": "code",
      "source": [
        "model.summary()"
      ],
      "metadata": {
        "id": "jmZbDI9K5_dX",
        "outputId": "e24076af-889f-48de-956f-488d0ab9a988",
        "colab": {
          "base_uri": "https://localhost:8080/",
          "height": 520
        }
      },
      "execution_count": 21,
      "outputs": [
        {
          "output_type": "display_data",
          "data": {
            "text/plain": [
              "\u001b[1mModel: \"sequential_1\"\u001b[0m\n"
            ],
            "text/html": [
              "<pre style=\"white-space:pre;overflow-x:auto;line-height:normal;font-family:Menlo,'DejaVu Sans Mono',consolas,'Courier New',monospace\"><span style=\"font-weight: bold\">Model: \"sequential_1\"</span>\n",
              "</pre>\n"
            ]
          },
          "metadata": {}
        },
        {
          "output_type": "display_data",
          "data": {
            "text/plain": [
              "┏━━━━━━━━━━━━━━━━━━━━━━━━━━━━━━━━━┳━━━━━━━━━━━━━━━━━━━━━━━━┳━━━━━━━━━━━━━━━┓\n",
              "┃\u001b[1m \u001b[0m\u001b[1mLayer (type)                   \u001b[0m\u001b[1m \u001b[0m┃\u001b[1m \u001b[0m\u001b[1mOutput Shape          \u001b[0m\u001b[1m \u001b[0m┃\u001b[1m \u001b[0m\u001b[1m      Param #\u001b[0m\u001b[1m \u001b[0m┃\n",
              "┡━━━━━━━━━━━━━━━━━━━━━━━━━━━━━━━━━╇━━━━━━━━━━━━━━━━━━━━━━━━╇━━━━━━━━━━━━━━━┩\n",
              "│ conv2d_4 (\u001b[38;5;33mConv2D\u001b[0m)               │ (\u001b[38;5;45mNone\u001b[0m, \u001b[38;5;34m148\u001b[0m, \u001b[38;5;34m148\u001b[0m, \u001b[38;5;34m32\u001b[0m)   │           \u001b[38;5;34m896\u001b[0m │\n",
              "├─────────────────────────────────┼────────────────────────┼───────────────┤\n",
              "│ max_pooling2d_4 (\u001b[38;5;33mMaxPooling2D\u001b[0m)  │ (\u001b[38;5;45mNone\u001b[0m, \u001b[38;5;34m74\u001b[0m, \u001b[38;5;34m74\u001b[0m, \u001b[38;5;34m32\u001b[0m)     │             \u001b[38;5;34m0\u001b[0m │\n",
              "├─────────────────────────────────┼────────────────────────┼───────────────┤\n",
              "│ conv2d_5 (\u001b[38;5;33mConv2D\u001b[0m)               │ (\u001b[38;5;45mNone\u001b[0m, \u001b[38;5;34m72\u001b[0m, \u001b[38;5;34m72\u001b[0m, \u001b[38;5;34m64\u001b[0m)     │        \u001b[38;5;34m18,496\u001b[0m │\n",
              "├─────────────────────────────────┼────────────────────────┼───────────────┤\n",
              "│ max_pooling2d_5 (\u001b[38;5;33mMaxPooling2D\u001b[0m)  │ (\u001b[38;5;45mNone\u001b[0m, \u001b[38;5;34m36\u001b[0m, \u001b[38;5;34m36\u001b[0m, \u001b[38;5;34m64\u001b[0m)     │             \u001b[38;5;34m0\u001b[0m │\n",
              "├─────────────────────────────────┼────────────────────────┼───────────────┤\n",
              "│ conv2d_6 (\u001b[38;5;33mConv2D\u001b[0m)               │ (\u001b[38;5;45mNone\u001b[0m, \u001b[38;5;34m34\u001b[0m, \u001b[38;5;34m34\u001b[0m, \u001b[38;5;34m128\u001b[0m)    │        \u001b[38;5;34m73,856\u001b[0m │\n",
              "├─────────────────────────────────┼────────────────────────┼───────────────┤\n",
              "│ max_pooling2d_6 (\u001b[38;5;33mMaxPooling2D\u001b[0m)  │ (\u001b[38;5;45mNone\u001b[0m, \u001b[38;5;34m17\u001b[0m, \u001b[38;5;34m17\u001b[0m, \u001b[38;5;34m128\u001b[0m)    │             \u001b[38;5;34m0\u001b[0m │\n",
              "├─────────────────────────────────┼────────────────────────┼───────────────┤\n",
              "│ conv2d_7 (\u001b[38;5;33mConv2D\u001b[0m)               │ (\u001b[38;5;45mNone\u001b[0m, \u001b[38;5;34m15\u001b[0m, \u001b[38;5;34m15\u001b[0m, \u001b[38;5;34m512\u001b[0m)    │       \u001b[38;5;34m590,336\u001b[0m │\n",
              "├─────────────────────────────────┼────────────────────────┼───────────────┤\n",
              "│ max_pooling2d_7 (\u001b[38;5;33mMaxPooling2D\u001b[0m)  │ (\u001b[38;5;45mNone\u001b[0m, \u001b[38;5;34m7\u001b[0m, \u001b[38;5;34m7\u001b[0m, \u001b[38;5;34m512\u001b[0m)      │             \u001b[38;5;34m0\u001b[0m │\n",
              "├─────────────────────────────────┼────────────────────────┼───────────────┤\n",
              "│ flatten_1 (\u001b[38;5;33mFlatten\u001b[0m)             │ (\u001b[38;5;45mNone\u001b[0m, \u001b[38;5;34m25088\u001b[0m)          │             \u001b[38;5;34m0\u001b[0m │\n",
              "├─────────────────────────────────┼────────────────────────┼───────────────┤\n",
              "│ dense_2 (\u001b[38;5;33mDense\u001b[0m)                 │ (\u001b[38;5;45mNone\u001b[0m, \u001b[38;5;34m512\u001b[0m)            │    \u001b[38;5;34m12,845,568\u001b[0m │\n",
              "├─────────────────────────────────┼────────────────────────┼───────────────┤\n",
              "│ dense_3 (\u001b[38;5;33mDense\u001b[0m)                 │ (\u001b[38;5;45mNone\u001b[0m, \u001b[38;5;34m1\u001b[0m)              │           \u001b[38;5;34m513\u001b[0m │\n",
              "└─────────────────────────────────┴────────────────────────┴───────────────┘\n"
            ],
            "text/html": [
              "<pre style=\"white-space:pre;overflow-x:auto;line-height:normal;font-family:Menlo,'DejaVu Sans Mono',consolas,'Courier New',monospace\">┏━━━━━━━━━━━━━━━━━━━━━━━━━━━━━━━━━┳━━━━━━━━━━━━━━━━━━━━━━━━┳━━━━━━━━━━━━━━━┓\n",
              "┃<span style=\"font-weight: bold\"> Layer (type)                    </span>┃<span style=\"font-weight: bold\"> Output Shape           </span>┃<span style=\"font-weight: bold\">       Param # </span>┃\n",
              "┡━━━━━━━━━━━━━━━━━━━━━━━━━━━━━━━━━╇━━━━━━━━━━━━━━━━━━━━━━━━╇━━━━━━━━━━━━━━━┩\n",
              "│ conv2d_4 (<span style=\"color: #0087ff; text-decoration-color: #0087ff\">Conv2D</span>)               │ (<span style=\"color: #00d7ff; text-decoration-color: #00d7ff\">None</span>, <span style=\"color: #00af00; text-decoration-color: #00af00\">148</span>, <span style=\"color: #00af00; text-decoration-color: #00af00\">148</span>, <span style=\"color: #00af00; text-decoration-color: #00af00\">32</span>)   │           <span style=\"color: #00af00; text-decoration-color: #00af00\">896</span> │\n",
              "├─────────────────────────────────┼────────────────────────┼───────────────┤\n",
              "│ max_pooling2d_4 (<span style=\"color: #0087ff; text-decoration-color: #0087ff\">MaxPooling2D</span>)  │ (<span style=\"color: #00d7ff; text-decoration-color: #00d7ff\">None</span>, <span style=\"color: #00af00; text-decoration-color: #00af00\">74</span>, <span style=\"color: #00af00; text-decoration-color: #00af00\">74</span>, <span style=\"color: #00af00; text-decoration-color: #00af00\">32</span>)     │             <span style=\"color: #00af00; text-decoration-color: #00af00\">0</span> │\n",
              "├─────────────────────────────────┼────────────────────────┼───────────────┤\n",
              "│ conv2d_5 (<span style=\"color: #0087ff; text-decoration-color: #0087ff\">Conv2D</span>)               │ (<span style=\"color: #00d7ff; text-decoration-color: #00d7ff\">None</span>, <span style=\"color: #00af00; text-decoration-color: #00af00\">72</span>, <span style=\"color: #00af00; text-decoration-color: #00af00\">72</span>, <span style=\"color: #00af00; text-decoration-color: #00af00\">64</span>)     │        <span style=\"color: #00af00; text-decoration-color: #00af00\">18,496</span> │\n",
              "├─────────────────────────────────┼────────────────────────┼───────────────┤\n",
              "│ max_pooling2d_5 (<span style=\"color: #0087ff; text-decoration-color: #0087ff\">MaxPooling2D</span>)  │ (<span style=\"color: #00d7ff; text-decoration-color: #00d7ff\">None</span>, <span style=\"color: #00af00; text-decoration-color: #00af00\">36</span>, <span style=\"color: #00af00; text-decoration-color: #00af00\">36</span>, <span style=\"color: #00af00; text-decoration-color: #00af00\">64</span>)     │             <span style=\"color: #00af00; text-decoration-color: #00af00\">0</span> │\n",
              "├─────────────────────────────────┼────────────────────────┼───────────────┤\n",
              "│ conv2d_6 (<span style=\"color: #0087ff; text-decoration-color: #0087ff\">Conv2D</span>)               │ (<span style=\"color: #00d7ff; text-decoration-color: #00d7ff\">None</span>, <span style=\"color: #00af00; text-decoration-color: #00af00\">34</span>, <span style=\"color: #00af00; text-decoration-color: #00af00\">34</span>, <span style=\"color: #00af00; text-decoration-color: #00af00\">128</span>)    │        <span style=\"color: #00af00; text-decoration-color: #00af00\">73,856</span> │\n",
              "├─────────────────────────────────┼────────────────────────┼───────────────┤\n",
              "│ max_pooling2d_6 (<span style=\"color: #0087ff; text-decoration-color: #0087ff\">MaxPooling2D</span>)  │ (<span style=\"color: #00d7ff; text-decoration-color: #00d7ff\">None</span>, <span style=\"color: #00af00; text-decoration-color: #00af00\">17</span>, <span style=\"color: #00af00; text-decoration-color: #00af00\">17</span>, <span style=\"color: #00af00; text-decoration-color: #00af00\">128</span>)    │             <span style=\"color: #00af00; text-decoration-color: #00af00\">0</span> │\n",
              "├─────────────────────────────────┼────────────────────────┼───────────────┤\n",
              "│ conv2d_7 (<span style=\"color: #0087ff; text-decoration-color: #0087ff\">Conv2D</span>)               │ (<span style=\"color: #00d7ff; text-decoration-color: #00d7ff\">None</span>, <span style=\"color: #00af00; text-decoration-color: #00af00\">15</span>, <span style=\"color: #00af00; text-decoration-color: #00af00\">15</span>, <span style=\"color: #00af00; text-decoration-color: #00af00\">512</span>)    │       <span style=\"color: #00af00; text-decoration-color: #00af00\">590,336</span> │\n",
              "├─────────────────────────────────┼────────────────────────┼───────────────┤\n",
              "│ max_pooling2d_7 (<span style=\"color: #0087ff; text-decoration-color: #0087ff\">MaxPooling2D</span>)  │ (<span style=\"color: #00d7ff; text-decoration-color: #00d7ff\">None</span>, <span style=\"color: #00af00; text-decoration-color: #00af00\">7</span>, <span style=\"color: #00af00; text-decoration-color: #00af00\">7</span>, <span style=\"color: #00af00; text-decoration-color: #00af00\">512</span>)      │             <span style=\"color: #00af00; text-decoration-color: #00af00\">0</span> │\n",
              "├─────────────────────────────────┼────────────────────────┼───────────────┤\n",
              "│ flatten_1 (<span style=\"color: #0087ff; text-decoration-color: #0087ff\">Flatten</span>)             │ (<span style=\"color: #00d7ff; text-decoration-color: #00d7ff\">None</span>, <span style=\"color: #00af00; text-decoration-color: #00af00\">25088</span>)          │             <span style=\"color: #00af00; text-decoration-color: #00af00\">0</span> │\n",
              "├─────────────────────────────────┼────────────────────────┼───────────────┤\n",
              "│ dense_2 (<span style=\"color: #0087ff; text-decoration-color: #0087ff\">Dense</span>)                 │ (<span style=\"color: #00d7ff; text-decoration-color: #00d7ff\">None</span>, <span style=\"color: #00af00; text-decoration-color: #00af00\">512</span>)            │    <span style=\"color: #00af00; text-decoration-color: #00af00\">12,845,568</span> │\n",
              "├─────────────────────────────────┼────────────────────────┼───────────────┤\n",
              "│ dense_3 (<span style=\"color: #0087ff; text-decoration-color: #0087ff\">Dense</span>)                 │ (<span style=\"color: #00d7ff; text-decoration-color: #00d7ff\">None</span>, <span style=\"color: #00af00; text-decoration-color: #00af00\">1</span>)              │           <span style=\"color: #00af00; text-decoration-color: #00af00\">513</span> │\n",
              "└─────────────────────────────────┴────────────────────────┴───────────────┘\n",
              "</pre>\n"
            ]
          },
          "metadata": {}
        },
        {
          "output_type": "display_data",
          "data": {
            "text/plain": [
              "\u001b[1m Total params: \u001b[0m\u001b[38;5;34m13,529,665\u001b[0m (51.61 MB)\n"
            ],
            "text/html": [
              "<pre style=\"white-space:pre;overflow-x:auto;line-height:normal;font-family:Menlo,'DejaVu Sans Mono',consolas,'Courier New',monospace\"><span style=\"font-weight: bold\"> Total params: </span><span style=\"color: #00af00; text-decoration-color: #00af00\">13,529,665</span> (51.61 MB)\n",
              "</pre>\n"
            ]
          },
          "metadata": {}
        },
        {
          "output_type": "display_data",
          "data": {
            "text/plain": [
              "\u001b[1m Trainable params: \u001b[0m\u001b[38;5;34m13,529,665\u001b[0m (51.61 MB)\n"
            ],
            "text/html": [
              "<pre style=\"white-space:pre;overflow-x:auto;line-height:normal;font-family:Menlo,'DejaVu Sans Mono',consolas,'Courier New',monospace\"><span style=\"font-weight: bold\"> Trainable params: </span><span style=\"color: #00af00; text-decoration-color: #00af00\">13,529,665</span> (51.61 MB)\n",
              "</pre>\n"
            ]
          },
          "metadata": {}
        },
        {
          "output_type": "display_data",
          "data": {
            "text/plain": [
              "\u001b[1m Non-trainable params: \u001b[0m\u001b[38;5;34m0\u001b[0m (0.00 B)\n"
            ],
            "text/html": [
              "<pre style=\"white-space:pre;overflow-x:auto;line-height:normal;font-family:Menlo,'DejaVu Sans Mono',consolas,'Courier New',monospace\"><span style=\"font-weight: bold\"> Non-trainable params: </span><span style=\"color: #00af00; text-decoration-color: #00af00\">0</span> (0.00 B)\n",
              "</pre>\n"
            ]
          },
          "metadata": {}
        }
      ]
    },
    {
      "cell_type": "code",
      "source": [
        "# compile model dengan 'adam' optimizer loss function 'binary_crossentropy'\n",
        "model.compile(loss='binary_crossentropy',\n",
        "              optimizer=tf.optimizers.Adam(),\n",
        "              metrics=['accuracy'])"
      ],
      "metadata": {
        "id": "nLe4TK2Q4d2I"
      },
      "execution_count": 23,
      "outputs": []
    },
    {
      "cell_type": "code",
      "source": [
        "# latih model dengan model.fit\n",
        "model.fit(\n",
        "      train_generator,\n",
        "      steps_per_epoch=25,  # berapa batch yang akan dieksekusi pada setiap epoch\n",
        "      epochs=20, # tambahkan epochs jika akurasi model belum optimal\n",
        "      validation_data=validation_generator, # menampilkan akurasi pengujian data validasi\n",
        "      validation_steps=5,  # berapa batch yang akan dieksekusi pada setiap epoch\n",
        "      verbose=2)"
      ],
      "metadata": {
        "id": "OAB26Qdx4e_m",
        "outputId": "7bd19ae5-4c85-4344-d199-a5366d18ea3a",
        "colab": {
          "base_uri": "https://localhost:8080/"
        }
      },
      "execution_count": 25,
      "outputs": [
        {
          "output_type": "stream",
          "name": "stdout",
          "text": [
            "Epoch 1/20\n",
            "25/25 - 10s - 386ms/step - accuracy: 0.4300 - loss: 0.7057 - val_accuracy: 0.2500 - val_loss: 0.6949\n",
            "Epoch 2/20\n"
          ]
        },
        {
          "output_type": "stream",
          "name": "stderr",
          "text": [
            "/usr/local/lib/python3.11/dist-packages/keras/src/trainers/epoch_iterator.py:107: UserWarning: Your input ran out of data; interrupting training. Make sure that your dataset or generator can generate at least `steps_per_epoch * epochs` batches. You may need to use the `.repeat()` function when building your dataset.\n",
            "  self._interrupted_warning()\n"
          ]
        },
        {
          "output_type": "stream",
          "name": "stdout",
          "text": [
            "25/25 - 10s - 409ms/step - accuracy: 0.5761 - loss: 0.6919 - val_accuracy: 0.7500 - val_loss: 0.6378\n",
            "Epoch 3/20\n",
            "25/25 - 20s - 818ms/step - accuracy: 0.4900 - loss: 0.6978 - val_accuracy: 0.5500 - val_loss: 0.6917\n",
            "Epoch 4/20\n",
            "25/25 - 10s - 409ms/step - accuracy: 0.5109 - loss: 0.6934 - val_accuracy: 0.3500 - val_loss: 0.6956\n",
            "Epoch 5/20\n",
            "25/25 - 21s - 852ms/step - accuracy: 0.5200 - loss: 0.6929 - val_accuracy: 0.4500 - val_loss: 0.6947\n",
            "Epoch 6/20\n",
            "25/25 - 9s - 362ms/step - accuracy: 0.5326 - loss: 0.6924 - val_accuracy: 0.4500 - val_loss: 0.6952\n",
            "Epoch 7/20\n",
            "25/25 - 20s - 812ms/step - accuracy: 0.4600 - loss: 0.6947 - val_accuracy: 0.4500 - val_loss: 0.6948\n",
            "Epoch 8/20\n",
            "25/25 - 10s - 409ms/step - accuracy: 0.5217 - loss: 0.6928 - val_accuracy: 0.6000 - val_loss: 0.6910\n",
            "Epoch 9/20\n",
            "25/25 - 10s - 412ms/step - accuracy: 0.5100 - loss: 0.6938 - val_accuracy: 0.3500 - val_loss: 0.6999\n",
            "Epoch 10/20\n",
            "25/25 - 10s - 387ms/step - accuracy: 0.5217 - loss: 0.6929 - val_accuracy: 0.3000 - val_loss: 0.6993\n",
            "Epoch 11/20\n",
            "25/25 - 12s - 478ms/step - accuracy: 0.4900 - loss: 0.6938 - val_accuracy: 0.6500 - val_loss: 0.6901\n",
            "Epoch 12/20\n",
            "25/25 - 20s - 813ms/step - accuracy: 0.5000 - loss: 0.6935 - val_accuracy: 0.6500 - val_loss: 0.6893\n",
            "Epoch 13/20\n",
            "25/25 - 11s - 433ms/step - accuracy: 0.4400 - loss: 0.6946 - val_accuracy: 0.3500 - val_loss: 0.6953\n",
            "Epoch 14/20\n",
            "25/25 - 10s - 403ms/step - accuracy: 0.5109 - loss: 0.6931 - val_accuracy: 0.6000 - val_loss: 0.6923\n",
            "Epoch 15/20\n",
            "25/25 - 11s - 430ms/step - accuracy: 0.5400 - loss: 0.6928 - val_accuracy: 0.4500 - val_loss: 0.6939\n",
            "Epoch 16/20\n",
            "25/25 - 10s - 411ms/step - accuracy: 0.4565 - loss: 0.6939 - val_accuracy: 0.5500 - val_loss: 0.6926\n",
            "Epoch 17/20\n",
            "25/25 - 41s - 2s/step - accuracy: 0.4600 - loss: 0.6936 - val_accuracy: 0.4500 - val_loss: 0.6932\n",
            "Epoch 18/20\n",
            "25/25 - 10s - 404ms/step - accuracy: 0.4674 - loss: 0.6934 - val_accuracy: 0.4500 - val_loss: 0.6934\n",
            "Epoch 19/20\n",
            "25/25 - 20s - 818ms/step - accuracy: 0.5200 - loss: 0.6931 - val_accuracy: 0.4000 - val_loss: 0.6939\n",
            "Epoch 20/20\n",
            "25/25 - 10s - 411ms/step - accuracy: 0.4239 - loss: 0.6938 - val_accuracy: 0.6000 - val_loss: 0.6927\n"
          ]
        },
        {
          "output_type": "execute_result",
          "data": {
            "text/plain": [
              "<keras.src.callbacks.history.History at 0x7d553ec16510>"
            ]
          },
          "metadata": {},
          "execution_count": 25
        }
      ]
    },
    {
      "cell_type": "markdown",
      "source": [
        "# **Testing**"
      ],
      "metadata": {
        "id": "0xRGgAtd3WcG"
      }
    },
    {
      "cell_type": "code",
      "source": [
        "import numpy as np\n",
        "from PIL import Image\n",
        "import matplotlib.pyplot as plt\n",
        "%matplotlib inline\n",
        "\n",
        "test_image = \"https://i.pinimg.com/736x/31/af/bb/31afbb9580927635c0a076f99bb696fb.jpg\"\n",
        "download_images([test_image], 'dataset/test')\n",
        "\n",
        "def predict_image_class(model, image_path):\n",
        "    img = Image.open(image_path).resize((150, 150))\n",
        "    imgplot = plt.imshow(img)\n",
        "    x = np.expand_dims(np.array(img), axis=0)\n",
        "    classes = model.predict(x, batch_size=10)\n",
        "\n",
        "    if classes[0] == 0:\n",
        "        print('clean')\n",
        "    else:\n",
        "        print('messy')\n",
        "\n",
        "# Misalkan model adalah objek model yang sudah diinisialisasi sebelumnya\n",
        "\n",
        "# Mengunggah gambar\n",
        "image_path = \"/content/dataset/test/31afbb9580927635c0a076f99bb696fb.jpg\"\n",
        "predict_image_class(model, image_path)"
      ],
      "metadata": {
        "colab": {
          "base_uri": "https://localhost:8080/"
        },
        "id": "UUrrdqmFqV9C",
        "outputId": "7bab55bf-9252-4e9d-c801-76d79671629b"
      },
      "execution_count": null,
      "outputs": [
        {
          "output_type": "stream",
          "name": "stdout",
          "text": [
            "✅ Downloaded: 31afbb9580927635c0a076f99bb696fb.jpg\n"
          ]
        }
      ]
    }
  ]
}