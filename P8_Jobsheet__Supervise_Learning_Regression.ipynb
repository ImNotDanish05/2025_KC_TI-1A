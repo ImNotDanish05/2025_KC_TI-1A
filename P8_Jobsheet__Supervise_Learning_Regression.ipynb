{
  "cells": [
    {
      "cell_type": "markdown",
      "metadata": {
        "id": "view-in-github",
        "colab_type": "text"
      },
      "source": [
        "<a href=\"https://colab.research.google.com/github/ImNotDanish05/2025_KC_TI-1A/blob/main/P8_Jobsheet__Supervise_Learning_Regression.ipynb\" target=\"_parent\"><img src=\"https://colab.research.google.com/assets/colab-badge.svg\" alt=\"Open In Colab\"/></a>"
      ]
    },
    {
      "cell_type": "markdown",
      "id": "bc65829d",
      "metadata": {
        "id": "bc65829d"
      },
      "source": [
        "## Import Library"
      ]
    },
    {
      "cell_type": "code",
      "execution_count": null,
      "id": "33ac148f",
      "metadata": {
        "id": "33ac148f"
      },
      "outputs": [],
      "source": [
        "# import library yang digunakan\n",
        "import numpy as np\n",
        "import pandas as pd\n",
        "import matplotlib.pyplot as plt"
      ]
    },
    {
      "cell_type": "markdown",
      "id": "a4cca35e",
      "metadata": {
        "id": "a4cca35e"
      },
      "source": [
        "## Load Dataset"
      ]
    },
    {
      "cell_type": "code",
      "execution_count": null,
      "id": "c1684a41",
      "metadata": {
        "id": "c1684a41"
      },
      "outputs": [],
      "source": [
        "# load dataset\n",
        "dataset = pd.read_csv('Data_Gaji.csv', delimiter=';')\n",
        "dataset.head()"
      ]
    },
    {
      "cell_type": "markdown",
      "id": "fd28f05f",
      "metadata": {
        "id": "fd28f05f"
      },
      "source": [
        "## Menampilkan Properti Data"
      ]
    },
    {
      "cell_type": "code",
      "execution_count": null,
      "id": "4ac79bd2",
      "metadata": {
        "id": "4ac79bd2"
      },
      "outputs": [],
      "source": [
        "dataset.shape"
      ]
    },
    {
      "cell_type": "code",
      "execution_count": null,
      "id": "f5a89733",
      "metadata": {
        "id": "f5a89733"
      },
      "outputs": [],
      "source": [
        "dataset.dtypes"
      ]
    },
    {
      "cell_type": "markdown",
      "id": "e311c106",
      "metadata": {
        "id": "e311c106"
      },
      "source": [
        "## Cek Missing Value dan Duplikasi Data"
      ]
    },
    {
      "cell_type": "code",
      "execution_count": null,
      "id": "443a4b32",
      "metadata": {
        "id": "443a4b32"
      },
      "outputs": [],
      "source": [
        "dataset.isnull().sum()"
      ]
    },
    {
      "cell_type": "code",
      "execution_count": null,
      "id": "906be3c4",
      "metadata": {
        "id": "906be3c4"
      },
      "outputs": [],
      "source": [
        "dataset.duplicated().sum()"
      ]
    },
    {
      "cell_type": "markdown",
      "id": "c54d8830",
      "metadata": {
        "id": "c54d8830"
      },
      "source": [
        "## Memisahkan Data Fitur dan Data Label"
      ]
    },
    {
      "cell_type": "code",
      "execution_count": null,
      "id": "14d930c3",
      "metadata": {
        "id": "14d930c3"
      },
      "outputs": [],
      "source": [
        "X = dataset.iloc[:, :-1]\n",
        "y = dataset.iloc[:, -1]"
      ]
    },
    {
      "cell_type": "markdown",
      "id": "18b5f742",
      "metadata": {
        "id": "18b5f742"
      },
      "source": [
        "## Train Test Split"
      ]
    },
    {
      "cell_type": "code",
      "execution_count": null,
      "id": "912f895c",
      "metadata": {
        "id": "912f895c"
      },
      "outputs": [],
      "source": [
        "# Membagi dataset menjadi 80% Data Training dan 20% Data Testing\n",
        "from sklearn.model_selection import train_test_split\n",
        "X_train, X_test, y_train, y_test = train_test_split(X, y, test_size=0.2, random_state=99)"
      ]
    },
    {
      "cell_type": "code",
      "execution_count": null,
      "id": "285b1b5b",
      "metadata": {
        "id": "285b1b5b"
      },
      "outputs": [],
      "source": [
        "# ubah dari dataframe / series pandas menjadi np.array\n",
        "X_train = X_train.values\n",
        "y_train = y_train.values\n",
        "X_test = X_test.values\n",
        "y_test = y_test.values"
      ]
    },
    {
      "cell_type": "code",
      "execution_count": null,
      "id": "4eaada62",
      "metadata": {
        "id": "4eaada62"
      },
      "outputs": [],
      "source": [
        "# Normalisasi dengan MinMaxScaler\n",
        "from sklearn.preprocessing import MinMaxScaler\n",
        "sc = MinMaxScaler()\n",
        "X_train = sc.fit_transform(X_train)\n",
        "X_test = sc.transform(X_test)"
      ]
    },
    {
      "cell_type": "markdown",
      "id": "9948dd6b",
      "metadata": {
        "id": "9948dd6b"
      },
      "source": [
        "## Buat klasifier dan Lakukan Training"
      ]
    },
    {
      "cell_type": "markdown",
      "id": "89634a40",
      "metadata": {
        "id": "89634a40"
      },
      "source": [
        "## Linear Regression"
      ]
    },
    {
      "cell_type": "code",
      "execution_count": null,
      "id": "229a3704",
      "metadata": {
        "id": "229a3704"
      },
      "outputs": [],
      "source": [
        "from sklearn.linear_model import LinearRegression\n",
        "regressor = LinearRegression()\n",
        "regressor.fit(X_train, y_train)"
      ]
    },
    {
      "cell_type": "code",
      "execution_count": null,
      "id": "8adbef4e",
      "metadata": {
        "id": "8adbef4e"
      },
      "outputs": [],
      "source": [
        "# Prediksi Data Test\n",
        "y_pred = regressor.predict(X_test)"
      ]
    },
    {
      "cell_type": "code",
      "execution_count": null,
      "id": "1ab71ad1",
      "metadata": {
        "id": "1ab71ad1"
      },
      "outputs": [],
      "source": [
        "y_pred"
      ]
    },
    {
      "cell_type": "code",
      "execution_count": null,
      "id": "703dea8a",
      "metadata": {
        "id": "703dea8a"
      },
      "outputs": [],
      "source": [
        "y_test"
      ]
    },
    {
      "cell_type": "code",
      "execution_count": null,
      "id": "3c9768a1",
      "metadata": {
        "id": "3c9768a1"
      },
      "outputs": [],
      "source": [
        "from sklearn.metrics import mean_squared_error, r2_score\n",
        "\n",
        "# Menghitung prediksi harga kamar berdasarkan data training\n",
        "y_pred = regressor.predict(X_test)\n",
        "\n",
        "# Menghitung Mean Squared Error (MSE)\n",
        "mse = mean_squared_error(y_test, y_pred)\n",
        "print(\"Mean Squared Error (MSE):\", mse)\n",
        "\n",
        "# Menghitung Coefficient of Determination (R-squared)\n",
        "r2 = r2_score(y_test, y_pred)\n",
        "print(\"Coefficient of Determination (R-squared):\", r2)"
      ]
    },
    {
      "cell_type": "markdown",
      "id": "ac052f37",
      "metadata": {
        "id": "ac052f37"
      },
      "source": [
        "### Melakukan Visualisasi Data Train dan Data Test"
      ]
    },
    {
      "cell_type": "code",
      "execution_count": null,
      "id": "277e06ae",
      "metadata": {
        "id": "277e06ae"
      },
      "outputs": [],
      "source": [
        "# Visualisasikan sample training\n",
        "plt.scatter(X_train, y_train, color='red')\n",
        "plt.plot(X_train, regressor.predict(X_train), color='blue')\n",
        "plt.title('Gaji vs Pengalaman (Sample Training)')\n",
        "plt.xlabel('Pengalaman (Tahun)')\n",
        "plt.ylabel('Gaji')"
      ]
    },
    {
      "cell_type": "code",
      "execution_count": null,
      "id": "f973ee14",
      "metadata": {
        "id": "f973ee14"
      },
      "outputs": [],
      "source": [
        "# Visualisasikan sample test\n",
        "plt.scatter(X_test, y_test, color='red')\n",
        "plt.plot(X_train, regressor.predict(X_train), color='blue')\n",
        "plt.title('Gaji vs Pengalaman (Sample Test)')\n",
        "plt.xlabel('Pengalaman (Tahun)')\n",
        "plt.ylabel('Gaji')"
      ]
    },
    {
      "cell_type": "code",
      "execution_count": null,
      "id": "48d4b9fd",
      "metadata": {
        "id": "48d4b9fd"
      },
      "outputs": [],
      "source": []
    }
  ],
  "metadata": {
    "kernelspec": {
      "display_name": "Python 3 (ipykernel)",
      "language": "python",
      "name": "python3"
    },
    "language_info": {
      "codemirror_mode": {
        "name": "ipython",
        "version": 3
      },
      "file_extension": ".py",
      "mimetype": "text/x-python",
      "name": "python",
      "nbconvert_exporter": "python",
      "pygments_lexer": "ipython3",
      "version": "3.10.2"
    },
    "colab": {
      "provenance": [],
      "include_colab_link": true
    }
  },
  "nbformat": 4,
  "nbformat_minor": 5
}