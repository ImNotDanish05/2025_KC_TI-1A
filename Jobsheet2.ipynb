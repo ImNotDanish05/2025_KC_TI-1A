
{
 "cells": [
  {
   "cell_type": "markdown",
   "metadata": {},
   "source": [
    "# 📦 File Telah Dipindahkan\n",
    "Haiii~ 💌 File notebooks ini telah dipindahkan ke link berikut ya, Senpai~\n\n",
    "[Klik di sini untuk membuka file di GitHub Jobsheet 2 💻](https://github.com/ImNotDanish05/2025_KC_TI-1A/blob/main/P2-Jobsheet-Skalar%2C_Vector%2C_dan_Matriks_(OP).ipynb)\n\n"
   ]
  }
 ],
 "metadata": {
  "kernelspec": {
   "display_name": "Python 3",
   "language": "python",
   "name": "python3"
  },
  "language_info": {
   "codemirror_mode": {
    "name": "ipython",
    "version": 3
   },
   "file_extension": ".py",
   "mimetype": "text/x-python",
   "name": "python",
   "nbconvert_exporter": "python",
   "pygments_lexer": "ipython3",
   "version": "3.8"
  }
 },
 "nbformat": 4,
 "nbformat_minor": 5
}
