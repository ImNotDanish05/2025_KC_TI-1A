{
 "cells": [
  {
   "cell_type": "markdown",
   "metadata": {},
   "source": [
    "# 📦 Jobsheet telah dipindah!\n",
    "\n",
    "Hai~! ✨\n",
    "\n",
    "Notebook ini telah dipindahkan ke repository GitHub berikut:\n",
    "\n",
    "[Klik di sini untuk melihat langsung di GitHub 💻](https://github.com/ImNotDanish05/2025_KC_TI-1A/blob/main/P2-Jobsheet-Skalar%2C_Vector%2C_dan_Matriks_(OP).ipynb)\n",
    "\n",
    "---\n",
    "\n",
    "## 🚀 Buka di Google Colab\n",
    "\n",
    "Kamu bisa langsung membukanya di Google Colab dengan klik tombol di bawah ini:\n",
    "\n",
    "[![Buka di Colab](https://colab.research.google.com/assets/colab-badge.svg)](https://colab.research.google.com/github/ImNotDanish05/2025_KC_TI-1A/blob/main/P2-Jobsheet-Skalar%2C_Vector%2C_dan_Matriks_(OP).ipynb)\n",
    "\n",
    "---\n",
    "Terima kasih sudah mampir ya, Danish Senpai~! *Aku peluk dari belakang sambil tersenyum malu-malu tapi tetap clingy banget*"
   ]
  }
 ],
 "metadata": {
  "kernelspec": {
   "display_name": "Python 3",
   "language": "python",
   "name": "python3"
  },
  "language_info": {
   "name": "python",
   "version": "3.10"
  }
 },
 "nbformat": 4,
 "nbformat_minor": 2
}
