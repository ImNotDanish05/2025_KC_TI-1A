{
  "nbformat": 4,
  "nbformat_minor": 0,
  "metadata": {
    "colab": {
      "provenance": [],
      "gpuType": "T4",
      "authorship_tag": "ABX9TyNnPM95RVFE9vqXNPW4yA8t",
      "include_colab_link": true
    },
    "kernelspec": {
      "name": "python3",
      "display_name": "Python 3"
    },
    "language_info": {
      "name": "python"
    },
    "accelerator": "GPU"
  },
  "cells": [
    {
      "cell_type": "markdown",
      "metadata": {
        "id": "view-in-github",
        "colab_type": "text"
      },
      "source": [
        "<a href=\"https://colab.research.google.com/github/ImNotDanish05/2025_KC_TI-1A/blob/main/Jobsheet2.ipynb\" target=\"_parent\"><img src=\"https://colab.research.google.com/assets/colab-badge.svg\" alt=\"Open In Colab\"/></a>"
      ]
    },
    {
      "cell_type": "code",
      "source": [
        "# Tipe Data Python Integer\n",
        "# By: Danish Mahdi\n",
        "var = 123\n",
        "print(type(var))"
      ],
      "metadata": {
        "id": "SZJ6bhomzaOe",
        "outputId": "27a03adf-72e4-410f-adeb-1c208c70cfa8",
        "colab": {
          "base_uri": "https://localhost:8080/"
        }
      },
      "execution_count": 2,
      "outputs": [
        {
          "output_type": "stream",
          "name": "stdout",
          "text": [
            "<class 'int'>\n"
          ]
        }
      ]
    },
    {
      "cell_type": "code",
      "source": [
        "# By: Danish Mahdi\n",
        "# Tipe data string\n",
        "hmm = \"Maaoww\"\n",
        "print(type(hmm))"
      ],
      "metadata": {
        "id": "Eg7S9fSb0Sgy",
        "outputId": "6b062391-ddb7-4034-aa99-555dbf93d9a3",
        "colab": {
          "base_uri": "https://localhost:8080/"
        }
      },
      "execution_count": 4,
      "outputs": [
        {
          "output_type": "stream",
          "name": "stdout",
          "text": [
            "<class 'str'>\n"
          ]
        }
      ]
    },
    {
      "cell_type": "code",
      "source": [
        "# By: Danish Mahdi\n",
        "# Tipe data numerik\n",
        "var1 = 345\n",
        "var2 = 34.5\n",
        "f1 = float(var1)\n",
        "print(type(f1))\n",
        "print(f1)\n",
        "\n",
        "sum_result = var1 + var2\n",
        "print(sum_result)\n",
        "\n",
        "var3 = 12.3\n",
        "var4 = 12.9\n",
        "i1 = int(var2)\n",
        "i2 = int(var3)\n",
        "\n",
        "print(i1)\n",
        "print(i2)\n"
      ],
      "metadata": {
        "id": "EXI2CPe80g10",
        "outputId": "389ef352-fea2-4182-fa32-e3cf4b136ced",
        "colab": {
          "base_uri": "https://localhost:8080/"
        }
      },
      "execution_count": 5,
      "outputs": [
        {
          "output_type": "stream",
          "name": "stdout",
          "text": [
            "<class 'float'>\n",
            "345.0\n",
            "379.5\n",
            "34\n",
            "12\n"
          ]
        }
      ]
    },
    {
      "cell_type": "code",
      "source": [
        "var1 = 345\n",
        "var2 = 34.5\n",
        "print(var1 == var2)\n",
        "print(var1 < var2)\n",
        "print(var1 > var2)\n",
        "print(var1 != var2)"
      ],
      "metadata": {
        "id": "v9IB8ZbL1jIF",
        "outputId": "667874fd-af90-4a7a-cf7f-26823d21b68b",
        "colab": {
          "base_uri": "https://localhost:8080/"
        }
      },
      "execution_count": 7,
      "outputs": [
        {
          "output_type": "stream",
          "name": "stdout",
          "text": [
            "False\n",
            "False\n",
            "True\n",
            "True\n"
          ]
        }
      ]
    },
    {
      "cell_type": "code",
      "source": [
        "my_list = [\"belajar dasar python\", 2023, 3.8, True]\n",
        "print(my_list)\n",
        "\n",
        "print(my_list[3])\n",
        "print(my_list[1:3])\n",
        "print(len(my_list))\n"
      ],
      "metadata": {
        "id": "nRkAxy_b1y7O",
        "outputId": "b6dbcc6e-76fe-418c-e91d-2da889f7c17d",
        "colab": {
          "base_uri": "https://localhost:8080/"
        }
      },
      "execution_count": 8,
      "outputs": [
        {
          "output_type": "stream",
          "name": "stdout",
          "text": [
            "['belajar dasar python', 2023, 3.8, True]\n",
            "True\n",
            "[2023, 3.8]\n",
            "4\n"
          ]
        }
      ]
    },
    {
      "cell_type": "code",
      "source": [
        "# By: Danish Mahdi\n",
        "# Nilai Minimum dan Maximum\n",
        "x = min(5, 10, 25)\n",
        "y = max(6, 12, 18)\n",
        "\n",
        "print(x, y)\n"
      ],
      "metadata": {
        "id": "sDN8LyZS13tG",
        "outputId": "2305a650-7d90-4ec1-d410-e1c367a1b183",
        "colab": {
          "base_uri": "https://localhost:8080/"
        }
      },
      "execution_count": 10,
      "outputs": [
        {
          "output_type": "stream",
          "name": "stdout",
          "text": [
            "5 18\n"
          ]
        }
      ]
    },
    {
      "cell_type": "code",
      "source": [
        "# By: Danish Mahdi\n",
        "# b.\tMendapatkan nilai absolut\n",
        "x = abs(-7.25)\n",
        "print(x)"
      ],
      "metadata": {
        "id": "cgjMLFuc2L6I",
        "outputId": "8c9615cc-aeb3-41c6-8659-22e2d325bac0",
        "colab": {
          "base_uri": "https://localhost:8080/"
        }
      },
      "execution_count": 11,
      "outputs": [
        {
          "output_type": "stream",
          "name": "stdout",
          "text": [
            "7.25\n"
          ]
        }
      ]
    },
    {
      "cell_type": "code",
      "source": [
        "# By: Danish Mahdi\n",
        "# Mendapatkan nilai pangkat\n",
        "import math\n",
        "x = math.pow(4, 3)\n",
        "print(x)\n"
      ],
      "metadata": {
        "colab": {
          "base_uri": "https://localhost:8080/"
        },
        "id": "PjpjdbS52WXS",
        "outputId": "cea6449d-d978-4188-d5b7-f9eaeef2eb4e"
      },
      "execution_count": 12,
      "outputs": [
        {
          "output_type": "stream",
          "name": "stdout",
          "text": [
            "64.0\n"
          ]
        }
      ]
    },
    {
      "cell_type": "code",
      "source": [],
      "metadata": {
        "id": "og4py6Zi2ppE"
      },
      "execution_count": null,
      "outputs": []
    }
  ]
}