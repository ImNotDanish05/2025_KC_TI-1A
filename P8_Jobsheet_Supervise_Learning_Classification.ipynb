{
  "cells": [
    {
      "cell_type": "markdown",
      "metadata": {
        "id": "view-in-github",
        "colab_type": "text"
      },
      "source": [
        "<a href=\"https://colab.research.google.com/github/ImNotDanish05/2025_KC_TI-1A/blob/main/P8_Jobsheet_Supervise_Learning_Classification.ipynb\" target=\"_parent\"><img src=\"https://colab.research.google.com/assets/colab-badge.svg\" alt=\"Open In Colab\"/></a>"
      ]
    },
    {
      "cell_type": "markdown",
      "id": "ba62f7b9",
      "metadata": {
        "id": "ba62f7b9"
      },
      "source": [
        "## Import Library"
      ]
    },
    {
      "cell_type": "code",
      "execution_count": null,
      "id": "7b270fbe",
      "metadata": {
        "id": "7b270fbe"
      },
      "outputs": [],
      "source": [
        "# import library yang digunakan\n",
        "import numpy as np\n",
        "import pandas as pd\n",
        "import matplotlib.pyplot as plt"
      ]
    },
    {
      "cell_type": "markdown",
      "id": "e96d6455",
      "metadata": {
        "id": "e96d6455"
      },
      "source": [
        "## Load Dataset"
      ]
    },
    {
      "cell_type": "code",
      "execution_count": null,
      "id": "f1222365",
      "metadata": {
        "id": "f1222365"
      },
      "outputs": [],
      "source": [
        "# load dataset\n",
        "dataset = pd.read_csv('iklan_sosmed.csv', delimiter=';')\n",
        "dataset.head()"
      ]
    },
    {
      "cell_type": "markdown",
      "id": "13bc4e76",
      "metadata": {
        "id": "13bc4e76"
      },
      "source": [
        "## Menampilkan Properti Data"
      ]
    },
    {
      "cell_type": "code",
      "execution_count": null,
      "id": "2e12fcf2",
      "metadata": {
        "id": "2e12fcf2"
      },
      "outputs": [],
      "source": [
        "dataset.shape"
      ]
    },
    {
      "cell_type": "code",
      "execution_count": null,
      "id": "bb1dc7fb",
      "metadata": {
        "id": "bb1dc7fb"
      },
      "outputs": [],
      "source": [
        "dataset.dtypes"
      ]
    },
    {
      "cell_type": "markdown",
      "id": "f5e08b0f",
      "metadata": {
        "id": "f5e08b0f"
      },
      "source": [
        "## Cek Missing Value dan Duplikasi Data"
      ]
    },
    {
      "cell_type": "code",
      "execution_count": null,
      "id": "15ff352a",
      "metadata": {
        "id": "15ff352a"
      },
      "outputs": [],
      "source": [
        "dataset.isnull().sum()"
      ]
    },
    {
      "cell_type": "code",
      "execution_count": null,
      "id": "2021fcd8",
      "metadata": {
        "id": "2021fcd8"
      },
      "outputs": [],
      "source": [
        "dataset.duplicated().sum()"
      ]
    },
    {
      "cell_type": "markdown",
      "id": "2870a909",
      "metadata": {
        "id": "2870a909"
      },
      "source": [
        "## Cek Korelasi dengan kolom Transaksi"
      ]
    },
    {
      "cell_type": "code",
      "execution_count": null,
      "id": "ed7148b9",
      "metadata": {
        "id": "ed7148b9"
      },
      "outputs": [],
      "source": [
        "dataset.corr()['Transaksi']"
      ]
    },
    {
      "cell_type": "code",
      "execution_count": null,
      "id": "0430b76d",
      "metadata": {
        "id": "0430b76d"
      },
      "outputs": [],
      "source": [
        "# Memilih Umur & Gaji Sebagai Data Fitur dan Transaksi sebagai Data Label\n",
        "X = dataset.iloc[:,2:-1]\n",
        "y = dataset.iloc[:, -1]"
      ]
    },
    {
      "cell_type": "markdown",
      "id": "4500dbf1",
      "metadata": {
        "id": "4500dbf1"
      },
      "source": [
        "## Train Test Split"
      ]
    },
    {
      "cell_type": "code",
      "execution_count": null,
      "id": "7f7b08c2",
      "metadata": {
        "id": "7f7b08c2"
      },
      "outputs": [],
      "source": [
        "# Membagi dataset menjadi 80% Data Training dan 20% Data Testing\n",
        "from sklearn.model_selection import train_test_split\n",
        "X_train, X_test, y_train, y_test = train_test_split(X, y, test_size=0.2, random_state=99)"
      ]
    },
    {
      "cell_type": "code",
      "execution_count": null,
      "id": "991683ae",
      "metadata": {
        "id": "991683ae"
      },
      "outputs": [],
      "source": [
        "# ubah dari dataframe / series pandas menjadi np.array\n",
        "X_train = X_train.values\n",
        "y_train = y_train.values\n",
        "X_test = X_test.values\n",
        "y_test = y_test.values"
      ]
    },
    {
      "cell_type": "code",
      "execution_count": null,
      "id": "44706f97",
      "metadata": {
        "id": "44706f97"
      },
      "outputs": [],
      "source": [
        "# Normalisasi dengan MinMaxScaler\n",
        "from sklearn.preprocessing import MinMaxScaler\n",
        "sc = MinMaxScaler()\n",
        "X_train = sc.fit_transform(X_train)\n",
        "X_test = sc.transform(X_test)"
      ]
    },
    {
      "cell_type": "markdown",
      "id": "2c5c043c",
      "metadata": {
        "id": "2c5c043c"
      },
      "source": [
        "## Buat klasifier dan Lakukan Training"
      ]
    },
    {
      "cell_type": "markdown",
      "id": "f19f504c",
      "metadata": {
        "id": "f19f504c"
      },
      "source": [
        "## DecisionTree Classifier"
      ]
    },
    {
      "cell_type": "code",
      "execution_count": null,
      "id": "01986291",
      "metadata": {
        "id": "01986291"
      },
      "outputs": [],
      "source": [
        "# Buat Klasifier dengan DecisionTree\n",
        "from sklearn.tree import DecisionTreeClassifier\n",
        "classifier = DecisionTreeClassifier()"
      ]
    },
    {
      "cell_type": "code",
      "execution_count": null,
      "id": "33629bb9",
      "metadata": {
        "id": "33629bb9"
      },
      "outputs": [],
      "source": [
        "# Melatih model dengan menggunakan data latih\n",
        "classifier = classifier.fit(X_train, y_train)"
      ]
    },
    {
      "cell_type": "code",
      "execution_count": null,
      "id": "d3092ce7",
      "metadata": {
        "id": "d3092ce7"
      },
      "outputs": [],
      "source": [
        "# Melakukan prediksi pada X_test\n",
        "y_pred = classifier.predict(X_test)"
      ]
    },
    {
      "cell_type": "code",
      "execution_count": null,
      "id": "e1d812ef",
      "metadata": {
        "id": "e1d812ef"
      },
      "outputs": [],
      "source": [
        "y_pred"
      ]
    },
    {
      "cell_type": "code",
      "execution_count": null,
      "id": "fb3ee276",
      "metadata": {
        "id": "fb3ee276"
      },
      "outputs": [],
      "source": [
        "y_test"
      ]
    },
    {
      "cell_type": "code",
      "execution_count": null,
      "id": "907316d9",
      "metadata": {
        "id": "907316d9"
      },
      "outputs": [],
      "source": [
        "# buat confussion matrix & skor akurasi\n",
        "from sklearn.metrics import confusion_matrix, accuracy_score\n",
        "cm = confusion_matrix(y_test, y_pred)\n",
        "acc = accuracy_score(y_test, y_pred)\n",
        "\n",
        "print(\"Akurasi : {}%\".format(acc*100))\n",
        "print(\"Confussion Matrix : \")\n",
        "print(cm)"
      ]
    },
    {
      "cell_type": "markdown",
      "id": "06f0d138",
      "metadata": {
        "id": "06f0d138"
      },
      "source": [
        "### Melakukan Visualisasi Data Train dan Data Test"
      ]
    },
    {
      "cell_type": "code",
      "execution_count": null,
      "id": "cecaee11",
      "metadata": {
        "id": "cecaee11"
      },
      "outputs": [],
      "source": [
        "# visualisasi sampel data train\n",
        "from matplotlib.colors import ListedColormap\n",
        "X_set, y_set = X_train, y_train\n",
        "X1, X2 = np.meshgrid(np.arange(start = X_set[:, 0].min() - 1, stop = X_set[:, 0].max() + 1, step = 0.01),\n",
        "                     np.arange(start = X_set[:, 1].min() - 1, stop = X_set[:, 1].max() + 1, step = 0.01))\n",
        "plt.contourf(X1, X2, classifier.predict(np.array([X1.ravel(), X2.ravel()]).T).reshape(X1.shape),\n",
        "             alpha = 0.75, cmap = ListedColormap(('red', 'green')))\n",
        "plt.xlim(X1.min(), X1.max())\n",
        "plt.ylim(X2.min(), X2.max())\n",
        "for i, j in enumerate(np.unique(y_set)):\n",
        "    plt.scatter(X_set[y_set == j, 0], X_set[y_set == j, 1],\n",
        "                c = ListedColormap(('red', 'green'))(i), label = j)\n",
        "plt.title('Klasifier (Sampel Training)')\n",
        "plt.xlabel('Umur')\n",
        "plt.ylabel('Perkiraan Gaji')\n",
        "plt.legend()"
      ]
    },
    {
      "cell_type": "code",
      "execution_count": null,
      "id": "3d3768ba",
      "metadata": {
        "id": "3d3768ba"
      },
      "outputs": [],
      "source": [
        "# visualisasi sampel data tes\n",
        "from matplotlib.colors import ListedColormap\n",
        "X_set, y_set = X_test, y_test\n",
        "X1, X2 = np.meshgrid(np.arange(start = X_set[:, 0].min() - 1, stop = X_set[:, 0].max() + 1, step = 0.01),\n",
        "                     np.arange(start = X_set[:, 1].min() - 1, stop = X_set[:, 1].max() + 1, step = 0.01))\n",
        "plt.contourf(X1, X2, classifier.predict(np.array([X1.ravel(), X2.ravel()]).T).reshape(X1.shape),\n",
        "             alpha = 0.75, cmap = ListedColormap(('red', 'green')))\n",
        "plt.xlim(X1.min(), X1.max())\n",
        "plt.ylim(X2.min(), X2.max())\n",
        "for i, j in enumerate(np.unique(y_set)):\n",
        "    plt.scatter(X_set[y_set == j, 0], X_set[y_set == j, 1],\n",
        "                c = ListedColormap(('red', 'green'))(i), label = j)\n",
        "plt.title('Klasifier (Sampel Training)')\n",
        "plt.xlabel('Umur')\n",
        "plt.ylabel('Perkiraan Gaji')\n",
        "plt.legend()"
      ]
    },
    {
      "cell_type": "markdown",
      "id": "6da286e7",
      "metadata": {
        "id": "6da286e7"
      },
      "source": [
        "## Logistic Regression"
      ]
    },
    {
      "cell_type": "code",
      "execution_count": null,
      "id": "d0f0bd1d",
      "metadata": {
        "id": "d0f0bd1d"
      },
      "outputs": [],
      "source": [
        "# Buat Klasifier dengan LinearRegression\n",
        "from sklearn.linear_model import LogisticRegression\n",
        "classifier = LogisticRegression()"
      ]
    },
    {
      "cell_type": "code",
      "execution_count": null,
      "id": "de0b78d5",
      "metadata": {
        "id": "de0b78d5"
      },
      "outputs": [],
      "source": [
        "# Melatih model dengan menggunakan data latih\n",
        "classifier = classifier.fit(X_train, y_train)"
      ]
    },
    {
      "cell_type": "code",
      "execution_count": null,
      "id": "d933f341",
      "metadata": {
        "id": "d933f341"
      },
      "outputs": [],
      "source": [
        "# Melakukan prediksi pada X_test\n",
        "y_pred = classifier.predict(X_test)"
      ]
    },
    {
      "cell_type": "code",
      "execution_count": null,
      "id": "a2085594",
      "metadata": {
        "id": "a2085594"
      },
      "outputs": [],
      "source": [
        "# buat confussion matrix & skor akurasi\n",
        "from sklearn.metrics import confusion_matrix, accuracy_score\n",
        "cm = confusion_matrix(y_test, y_pred)\n",
        "acc = accuracy_score(y_test, y_pred)\n",
        "\n",
        "print(\"Akurasi : {}%\".format(acc*100))\n",
        "print(\"Confussion Matrix : \")\n",
        "print(cm)"
      ]
    },
    {
      "cell_type": "code",
      "execution_count": null,
      "id": "ba5765c6",
      "metadata": {
        "id": "ba5765c6"
      },
      "outputs": [],
      "source": [
        "# visualisasi sampel data train\n",
        "from matplotlib.colors import ListedColormap\n",
        "X_set, y_set = X_train, y_train\n",
        "X1, X2 = np.meshgrid(np.arange(start = X_set[:, 0].min() - 1, stop = X_set[:, 0].max() + 1, step = 0.01),\n",
        "                     np.arange(start = X_set[:, 1].min() - 1, stop = X_set[:, 1].max() + 1, step = 0.01))\n",
        "plt.contourf(X1, X2, classifier.predict(np.array([X1.ravel(), X2.ravel()]).T).reshape(X1.shape),\n",
        "             alpha = 0.75, cmap = ListedColormap(('red', 'green')))\n",
        "plt.xlim(X1.min(), X1.max())\n",
        "plt.ylim(X2.min(), X2.max())\n",
        "for i, j in enumerate(np.unique(y_set)):\n",
        "    plt.scatter(X_set[y_set == j, 0], X_set[y_set == j, 1],\n",
        "                c = ListedColormap(('red', 'green'))(i), label = j)\n",
        "plt.title('Klasifier (Sampel Training)')\n",
        "plt.xlabel('Umur')\n",
        "plt.ylabel('Perkiraan Gaji')\n",
        "plt.legend()"
      ]
    },
    {
      "cell_type": "markdown",
      "id": "0eb90049",
      "metadata": {
        "id": "0eb90049"
      },
      "source": [
        "### Melakukan Visualisasi Data Train dan Data Test"
      ]
    },
    {
      "cell_type": "code",
      "execution_count": null,
      "id": "50529368",
      "metadata": {
        "id": "50529368"
      },
      "outputs": [],
      "source": [
        "# visualisasi sampel data tes\n",
        "from matplotlib.colors import ListedColormap\n",
        "X_set, y_set = X_test, y_test\n",
        "X1, X2 = np.meshgrid(np.arange(start = X_set[:, 0].min() - 1, stop = X_set[:, 0].max() + 1, step = 0.01),\n",
        "                     np.arange(start = X_set[:, 1].min() - 1, stop = X_set[:, 1].max() + 1, step = 0.01))\n",
        "plt.contourf(X1, X2, classifier.predict(np.array([X1.ravel(), X2.ravel()]).T).reshape(X1.shape),\n",
        "             alpha = 0.75, cmap = ListedColormap(('red', 'green')))\n",
        "plt.xlim(X1.min(), X1.max())\n",
        "plt.ylim(X2.min(), X2.max())\n",
        "for i, j in enumerate(np.unique(y_set)):\n",
        "    plt.scatter(X_set[y_set == j, 0], X_set[y_set == j, 1],\n",
        "                c = ListedColormap(('red', 'green'))(i), label = j)\n",
        "plt.title('Klasifier (Sampel Training)')\n",
        "plt.xlabel('Umur')\n",
        "plt.ylabel('Perkiraan Gaji')\n",
        "plt.legend()"
      ]
    }
  ],
  "metadata": {
    "kernelspec": {
      "display_name": "Python 3 (ipykernel)",
      "language": "python",
      "name": "python3"
    },
    "language_info": {
      "codemirror_mode": {
        "name": "ipython",
        "version": 3
      },
      "file_extension": ".py",
      "mimetype": "text/x-python",
      "name": "python",
      "nbconvert_exporter": "python",
      "pygments_lexer": "ipython3",
      "version": "3.10.2"
    },
    "colab": {
      "provenance": [],
      "include_colab_link": true
    }
  },
  "nbformat": 4,
  "nbformat_minor": 5
}