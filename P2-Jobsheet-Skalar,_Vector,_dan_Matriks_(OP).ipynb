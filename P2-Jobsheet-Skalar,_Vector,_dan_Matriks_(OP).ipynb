{
  "nbformat": 4,
  "nbformat_minor": 0,
  "metadata": {
    "colab": {
      "provenance": [],
      "gpuType": "T4",
      "authorship_tag": "ABX9TyPv/oLhUhhHH8pltYf/zrtJ",
      "include_colab_link": true
    },
    "kernelspec": {
      "name": "python3",
      "display_name": "Python 3"
    },
    "language_info": {
      "name": "python"
    },
    "accelerator": "GPU"
  },
  "cells": [
    {
      "cell_type": "markdown",
      "metadata": {
        "id": "view-in-github",
        "colab_type": "text"
      },
      "source": [
        "<a href=\"https://colab.research.google.com/github/ImNotDanish05/2025_KC_TI-1A/blob/main/Jobsheet2.ipynb\" target=\"_parent\"><img src=\"https://colab.research.google.com/assets/colab-badge.svg\" alt=\"Open In Colab\"/></a>"
      ]
    },
    {
      "cell_type": "code",
      "source": [
        "# Tipe Data Python Integer\n",
        "# By: ImNotDanish05\n",
        "var = 123\n",
        "print(type(var))"
      ],
      "metadata": {
        "colab": {
          "base_uri": "https://localhost:8080/"
        },
        "id": "SZJ6bhomzaOe",
        "outputId": "27a03adf-72e4-410f-adeb-1c208c70cfa8"
      },
      "execution_count": 2,
      "outputs": [
        {
          "output_type": "stream",
          "name": "stdout",
          "text": [
            "<class 'int'>\n"
          ]
        }
      ]
    },
    {
      "cell_type": "code",
      "source": [
        "# By: ImNotDanish05\n",
        "# Tipe data string\n",
        "hmm = \"Maaoww\"\n",
        "print(type(hmm))"
      ],
      "metadata": {
        "colab": {
          "base_uri": "https://localhost:8080/"
        },
        "id": "Eg7S9fSb0Sgy",
        "outputId": "6b062391-ddb7-4034-aa99-555dbf93d9a3"
      },
      "execution_count": 4,
      "outputs": [
        {
          "output_type": "stream",
          "name": "stdout",
          "text": [
            "<class 'str'>\n"
          ]
        }
      ]
    },
    {
      "cell_type": "code",
      "source": [
        "# By: ImNotDanish05\n",
        "# Tipe data numerik\n",
        "var1 = 345\n",
        "var2 = 34.5\n",
        "f1 = float(var1)\n",
        "print(type(f1))\n",
        "print(f1)\n",
        "\n",
        "sum_result = var1 + var2\n",
        "print(sum_result)\n",
        "\n",
        "var3 = 12.3\n",
        "var4 = 12.9\n",
        "i1 = int(var2)\n",
        "i2 = int(var3)\n",
        "\n",
        "print(i1)\n",
        "print(i2)\n"
      ],
      "metadata": {
        "colab": {
          "base_uri": "https://localhost:8080/"
        },
        "id": "EXI2CPe80g10",
        "outputId": "389ef352-fea2-4182-fa32-e3cf4b136ced"
      },
      "execution_count": 5,
      "outputs": [
        {
          "output_type": "stream",
          "name": "stdout",
          "text": [
            "<class 'float'>\n",
            "345.0\n",
            "379.5\n",
            "34\n",
            "12\n"
          ]
        }
      ]
    },
    {
      "cell_type": "code",
      "source": [
        "# By: ImNotDanish05\n",
        "var1 = 345\n",
        "var2 = 34.5\n",
        "print(var1 == var2)\n",
        "print(var1 < var2)\n",
        "print(var1 > var2)\n",
        "print(var1 != var2)"
      ],
      "metadata": {
        "colab": {
          "base_uri": "https://localhost:8080/"
        },
        "id": "v9IB8ZbL1jIF",
        "outputId": "667874fd-af90-4a7a-cf7f-26823d21b68b"
      },
      "execution_count": 7,
      "outputs": [
        {
          "output_type": "stream",
          "name": "stdout",
          "text": [
            "False\n",
            "False\n",
            "True\n",
            "True\n"
          ]
        }
      ]
    },
    {
      "cell_type": "code",
      "source": [
        "# By: ImNotDanish05\n",
        "my_list = [\"belajar dasar python\", 2023, 3.8, True]\n",
        "print(my_list)\n",
        "\n",
        "print(my_list[3])\n",
        "print(my_list[1:3])\n",
        "print(len(my_list))\n"
      ],
      "metadata": {
        "colab": {
          "base_uri": "https://localhost:8080/"
        },
        "id": "nRkAxy_b1y7O",
        "outputId": "b6dbcc6e-76fe-418c-e91d-2da889f7c17d"
      },
      "execution_count": 8,
      "outputs": [
        {
          "output_type": "stream",
          "name": "stdout",
          "text": [
            "['belajar dasar python', 2023, 3.8, True]\n",
            "True\n",
            "[2023, 3.8]\n",
            "4\n"
          ]
        }
      ]
    },
    {
      "cell_type": "code",
      "source": [
        "# By: ImNotDanish05\n",
        "# Nilai Minimum dan Maximum\n",
        "x = min(5, 10, 25)\n",
        "y = max(6, 12, 18)\n",
        "\n",
        "print(x, y)\n"
      ],
      "metadata": {
        "colab": {
          "base_uri": "https://localhost:8080/"
        },
        "id": "sDN8LyZS13tG",
        "outputId": "ee3843d9-93a3-4acc-b585-aedb1fbf8dd5"
      },
      "execution_count": 62,
      "outputs": [
        {
          "output_type": "stream",
          "name": "stdout",
          "text": [
            "5 18\n"
          ]
        }
      ]
    },
    {
      "cell_type": "code",
      "source": [
        "# By: ImNotDanish05\n",
        "# Mendapatkan nilai absolut\n",
        "x = abs(-7.25)\n",
        "print(x)"
      ],
      "metadata": {
        "colab": {
          "base_uri": "https://localhost:8080/"
        },
        "id": "cgjMLFuc2L6I",
        "outputId": "8c9615cc-aeb3-41c6-8659-22e2d325bac0"
      },
      "execution_count": 11,
      "outputs": [
        {
          "output_type": "stream",
          "name": "stdout",
          "text": [
            "7.25\n"
          ]
        }
      ]
    },
    {
      "cell_type": "code",
      "source": [
        "# By: ImNotDanish05\n",
        "# Mendapatkan nilai pangkat\n",
        "import math\n",
        "x = math.pow(4, 3)\n",
        "print(x)\n"
      ],
      "metadata": {
        "colab": {
          "base_uri": "https://localhost:8080/"
        },
        "id": "PjpjdbS52WXS",
        "outputId": "cea6449d-d978-4188-d5b7-f9eaeef2eb4e"
      },
      "execution_count": 12,
      "outputs": [
        {
          "output_type": "stream",
          "name": "stdout",
          "text": [
            "64.0\n"
          ]
        }
      ]
    },
    {
      "cell_type": "code",
      "source": [
        "# By: ImNotDanish05\n",
        "# Mendapatkan nilai akar\n",
        "import math\n",
        "x = math.sqrt(64)\n",
        "print(x)"
      ],
      "metadata": {
        "colab": {
          "base_uri": "https://localhost:8080/"
        },
        "id": "og4py6Zi2ppE",
        "outputId": "ca18c209-33d4-4e81-889d-2c6e7d3eb806"
      },
      "execution_count": 14,
      "outputs": [
        {
          "output_type": "stream",
          "name": "stdout",
          "text": [
            "8.0\n"
          ]
        }
      ]
    },
    {
      "cell_type": "code",
      "source": [
        "# By: ImNotDanish05\n",
        "# Mendapatkan nilai pembulatan\n",
        "import math\n",
        "x = math.ceil(1.4)\n",
        "y = math.floor(1.4)\n",
        "print(x, \" and \", y)"
      ],
      "metadata": {
        "colab": {
          "base_uri": "https://localhost:8080/"
        },
        "id": "K11GwAWw234-",
        "outputId": "9d04bc20-2a50-4edf-ccbe-f6cd3ce83d39"
      },
      "execution_count": 15,
      "outputs": [
        {
          "output_type": "stream",
          "name": "stdout",
          "text": [
            "2  and  1\n"
          ]
        }
      ]
    },
    {
      "cell_type": "code",
      "source": [
        "# By: ImNotDanish05\n",
        "# nilai konstanta (PI)\n",
        "import math\n",
        "x = math.pi\n",
        "print(x)"
      ],
      "metadata": {
        "colab": {
          "base_uri": "https://localhost:8080/"
        },
        "id": "H3cZ6GV33EUg",
        "outputId": "01ec5e8b-c89b-451d-dddc-7ea75f2583a6"
      },
      "execution_count": 16,
      "outputs": [
        {
          "output_type": "stream",
          "name": "stdout",
          "text": [
            "3.141592653589793\n"
          ]
        }
      ]
    },
    {
      "cell_type": "code",
      "source": [
        "# By: ImNotDanish05\n",
        "#\n",
        "import math\n",
        "\n",
        "# 1. math.sin() -> Menghitung sinus dari sudut (dalam radian)\n",
        "sin_value = math.sin(math.radians(30))  # Konversi 30 derajat ke radian sebelum dihitung\n",
        "print(sin_value)"
      ],
      "metadata": {
        "colab": {
          "base_uri": "https://localhost:8080/"
        },
        "id": "akO6DtEl3oGD",
        "outputId": "31b7359f-95f9-40ad-b51d-ace2c7f7fe20"
      },
      "execution_count": 26,
      "outputs": [
        {
          "output_type": "stream",
          "name": "stdout",
          "text": [
            "0.49999999999999994\n"
          ]
        }
      ]
    },
    {
      "cell_type": "code",
      "source": [
        "# By: ImNotDanish05\n",
        "#\n",
        "import math\n",
        "# 2. math.cos() -> Menghitung cosinus dari sudut (dalam radian)\n",
        "cos_value = math.cos(math.radians(60))\n",
        "cos_value"
      ],
      "metadata": {
        "colab": {
          "base_uri": "https://localhost:8080/"
        },
        "id": "9Mw4iJH35GHA",
        "outputId": "8400736f-57ee-4c7b-8764-67461f7815da"
      },
      "execution_count": 27,
      "outputs": [
        {
          "output_type": "execute_result",
          "data": {
            "text/plain": [
              "0.5000000000000001"
            ]
          },
          "metadata": {},
          "execution_count": 27
        }
      ]
    },
    {
      "cell_type": "code",
      "source": [
        "# By: ImNotDanish05\n",
        "#\n",
        "import math\n",
        "# 3. math.tan() -> Menghitung tangen dari sudut (dalam radian)\n",
        "tan_value = math.tan(math.radians(45))\n",
        "tan_value\n"
      ],
      "metadata": {
        "colab": {
          "base_uri": "https://localhost:8080/"
        },
        "id": "ULBpUCnl5N63",
        "outputId": "f1d07736-2311-44c7-e902-0b6534e940a1"
      },
      "execution_count": 28,
      "outputs": [
        {
          "output_type": "execute_result",
          "data": {
            "text/plain": [
              "0.9999999999999999"
            ]
          },
          "metadata": {},
          "execution_count": 28
        }
      ]
    },
    {
      "cell_type": "code",
      "source": [
        "# By: ImNotDanish05\n",
        "#\n",
        "import math\n",
        "# 4. math.log() -> Menghitung logaritma natural (basis e)\n",
        "log_value = math.log(10)\n",
        "log_value"
      ],
      "metadata": {
        "colab": {
          "base_uri": "https://localhost:8080/"
        },
        "id": "QSGuu9pI5Trg",
        "outputId": "1abec3bf-bf83-4136-d354-9884c9b85c9b"
      },
      "execution_count": 29,
      "outputs": [
        {
          "output_type": "execute_result",
          "data": {
            "text/plain": [
              "2.302585092994046"
            ]
          },
          "metadata": {},
          "execution_count": 29
        }
      ]
    },
    {
      "cell_type": "code",
      "source": [
        "# By: ImNotDanish05\n",
        "#\n",
        "import math\n",
        "# 5. math.log10() -> Menghitung logaritma basis 10\n",
        "log10_value = math.log10(100)\n",
        "log10_value\n"
      ],
      "metadata": {
        "colab": {
          "base_uri": "https://localhost:8080/"
        },
        "id": "hqqVk0Qx5bRx",
        "outputId": "2a4e4909-16c4-46d3-8f75-4fcebf52a1b5"
      },
      "execution_count": 30,
      "outputs": [
        {
          "output_type": "execute_result",
          "data": {
            "text/plain": [
              "2.0"
            ]
          },
          "metadata": {},
          "execution_count": 30
        }
      ]
    },
    {
      "cell_type": "code",
      "source": [
        "# By: ImNotDanish05\n",
        "#\n",
        "import math\n",
        "# 6. math.degrees() -> Mengubah sudut dari radian ke derajat\n",
        "degrees_value = math.degrees(math.pi / 2)\n",
        "degrees_value"
      ],
      "metadata": {
        "colab": {
          "base_uri": "https://localhost:8080/"
        },
        "id": "AwayNcVw5lsD",
        "outputId": "b370e4ec-54bf-4cb8-99ab-60a32ea45742"
      },
      "execution_count": 31,
      "outputs": [
        {
          "output_type": "execute_result",
          "data": {
            "text/plain": [
              "90.0"
            ]
          },
          "metadata": {},
          "execution_count": 31
        }
      ]
    },
    {
      "cell_type": "code",
      "source": [
        "# By: ImNotDanish05\n",
        "#\n",
        "import math\n",
        "# 7. math.dist() -> Menghitung jarak Euclidean antara dua titik dalam ruang n-dimensi\n",
        "dist_value = math.dist([1, 2], [4, 6])\n",
        "dist_value"
      ],
      "metadata": {
        "colab": {
          "base_uri": "https://localhost:8080/"
        },
        "id": "_OXNNSOK5vB8",
        "outputId": "4febd40b-f52c-44c5-efc1-b1977f42501a"
      },
      "execution_count": 32,
      "outputs": [
        {
          "output_type": "execute_result",
          "data": {
            "text/plain": [
              "5.0"
            ]
          },
          "metadata": {},
          "execution_count": 32
        }
      ]
    },
    {
      "cell_type": "code",
      "source": [
        "# By: ImNotDanish05\n",
        "#\n",
        "import math\n",
        "# 8. math.factorial() -> Menghitung faktorial dari suatu bilangan bulat non-negatif\n",
        "factorial_value = math.factorial(5)\n",
        "factorial_value"
      ],
      "metadata": {
        "colab": {
          "base_uri": "https://localhost:8080/"
        },
        "id": "Hp-kLKmC51BT",
        "outputId": "bcef68ca-f01d-4c5f-f389-24413ccdc048"
      },
      "execution_count": 33,
      "outputs": [
        {
          "output_type": "execute_result",
          "data": {
            "text/plain": [
              "120"
            ]
          },
          "metadata": {},
          "execution_count": 33
        }
      ]
    },
    {
      "cell_type": "code",
      "source": [
        "# By: ImNotDanish05\n",
        "#\n",
        "import math\n",
        "# 9. math.fmod() -> Menghitung sisa hasil pembagian (modulus) dengan presisi floating-point\n",
        "fmod_value = math.fmod(10.5, 3)\n",
        "fmod_value"
      ],
      "metadata": {
        "colab": {
          "base_uri": "https://localhost:8080/"
        },
        "id": "uUK2PaM555cW",
        "outputId": "026fe715-39c8-4dcb-e8ea-3d5f205a4a08"
      },
      "execution_count": 34,
      "outputs": [
        {
          "output_type": "execute_result",
          "data": {
            "text/plain": [
              "1.5"
            ]
          },
          "metadata": {},
          "execution_count": 34
        }
      ]
    },
    {
      "cell_type": "code",
      "source": [
        "# By: ImNotDanish05\n",
        "#\n",
        "import math\n",
        "\n",
        "# 10. math.isnan() -> Mengecek apakah suatu nilai adalah NaN (Not a Number)\n",
        "nan_value = math.isnan(float('nan'))\n",
        "nan_value"
      ],
      "metadata": {
        "colab": {
          "base_uri": "https://localhost:8080/"
        },
        "id": "Yx-CJZC45_s1",
        "outputId": "251cf343-bebe-43b9-eb72-bfacce5c0d2b"
      },
      "execution_count": 35,
      "outputs": [
        {
          "output_type": "execute_result",
          "data": {
            "text/plain": [
              "True"
            ]
          },
          "metadata": {},
          "execution_count": 35
        }
      ]
    },
    {
      "cell_type": "code",
      "source": [
        "# By: ImNotDanish05\n",
        "#\n",
        "import math\n",
        "# 11. math.gamma() -> Menghitung fungsi gamma dari suatu bilangan\n",
        "gamma_value = math.gamma(5)\n",
        "gamma_value"
      ],
      "metadata": {
        "colab": {
          "base_uri": "https://localhost:8080/"
        },
        "id": "8tq4fCRG6C-V",
        "outputId": "d689c4ff-3503-4af9-a43b-e91e2f18e731"
      },
      "execution_count": 36,
      "outputs": [
        {
          "output_type": "execute_result",
          "data": {
            "text/plain": [
              "24.0"
            ]
          },
          "metadata": {},
          "execution_count": 36
        }
      ]
    },
    {
      "cell_type": "code",
      "source": [
        "# By: ImNotDanish05\n",
        "#\n",
        "import math\n",
        "\n",
        "# 12. math.perm() -> Menghitung permutasi dari dua bilangan (nPr)\n",
        "perm_value = math.perm(5, 2)\n",
        "perm_value"
      ],
      "metadata": {
        "colab": {
          "base_uri": "https://localhost:8080/"
        },
        "id": "vGOfrPFw6ERP",
        "outputId": "348f9faa-0b90-4554-b6e6-892a1d10756f"
      },
      "execution_count": 37,
      "outputs": [
        {
          "output_type": "execute_result",
          "data": {
            "text/plain": [
              "20"
            ]
          },
          "metadata": {},
          "execution_count": 37
        }
      ]
    },
    {
      "cell_type": "code",
      "source": [
        "# By: ImNotDanish05\n",
        "# Pastikan sudah running semua program diatas untuk ini bekerja :V\n",
        "(\n",
        "    sin_value, cos_value, tan_value, log_value, log10_value,\n",
        "    degrees_value, dist_value, factorial_value, fmod_value,\n",
        "    nan_value, gamma_value, perm_value\n",
        ")"
      ],
      "metadata": {
        "colab": {
          "base_uri": "https://localhost:8080/"
        },
        "id": "ZDsM8kGQ6SIf",
        "outputId": "af869643-55a8-46a0-c450-87ea735cc122"
      },
      "execution_count": 39,
      "outputs": [
        {
          "output_type": "execute_result",
          "data": {
            "text/plain": [
              "(0.49999999999999994,\n",
              " 0.5000000000000001,\n",
              " 0.9999999999999999,\n",
              " 2.302585092994046,\n",
              " 2.0,\n",
              " 90.0,\n",
              " 5.0,\n",
              " 120,\n",
              " 1.5,\n",
              " True,\n",
              " 24.0,\n",
              " 20)"
            ]
          },
          "metadata": {},
          "execution_count": 39
        }
      ]
    },
    {
      "cell_type": "code",
      "source": [
        "# By: ImNotDanish05\n",
        "#\n",
        "import numpy as np\n",
        "A = np.array([[80, 30, 25],\n",
        "[50, 20, 10]])\n",
        "B = np.array([[30, 60, 15],\n",
        "[10, 30, 30]])\n",
        "\n",
        "hasil = A + B\n",
        "hasil"
      ],
      "metadata": {
        "colab": {
          "base_uri": "https://localhost:8080/"
        },
        "id": "r7TimSsF6E2m",
        "outputId": "bf3697a4-4323-445d-ad48-1563caaa96b9"
      },
      "execution_count": 41,
      "outputs": [
        {
          "output_type": "execute_result",
          "data": {
            "text/plain": [
              "array([[110,  90,  40],\n",
              "       [ 60,  50,  40]])"
            ]
          },
          "metadata": {},
          "execution_count": 41
        }
      ]
    },
    {
      "cell_type": "code",
      "source": [
        "# By: ImNotDanish05\n",
        "#\n",
        "import numpy as np\n",
        "A = np.array([10, 20, 15])\n",
        "B = np.array([16, 67, 35])\n",
        "\n",
        "hasil = np.dot(A, B)\n",
        "hasil"
      ],
      "metadata": {
        "colab": {
          "base_uri": "https://localhost:8080/"
        },
        "id": "pmdYiSw363bc",
        "outputId": "aa65ee60-f869-4f4d-ddbf-b2644d2f61a3"
      },
      "execution_count": 43,
      "outputs": [
        {
          "output_type": "execute_result",
          "data": {
            "text/plain": [
              "np.int64(2025)"
            ]
          },
          "metadata": {},
          "execution_count": 43
        }
      ]
    },
    {
      "cell_type": "code",
      "source": [
        "# By: ImNotDanish05\n",
        "#\n",
        "import numpy as np\n",
        "A = np.array([10, 20, 15])\n",
        "B = np.array([16, 67, 35])\n",
        "\n",
        "Hasil = np.cross(A, B)\n",
        "Hasil"
      ],
      "metadata": {
        "colab": {
          "base_uri": "https://localhost:8080/"
        },
        "id": "W6WPbba96_02",
        "outputId": "b6f0bf1e-94c7-45fb-cdf6-5d72ff6f79cd"
      },
      "execution_count": 46,
      "outputs": [
        {
          "output_type": "execute_result",
          "data": {
            "text/plain": [
              "array([-305, -110,  350])"
            ]
          },
          "metadata": {},
          "execution_count": 46
        }
      ]
    },
    {
      "cell_type": "code",
      "source": [
        "# By: ImNotDanish05\n",
        "#\n",
        "import numpy as np\n",
        "\n",
        "A = np.array([[3, 1], [2,0]])\n",
        "B = np.array([[2,1],[1,-1]])\n",
        "C = np.array([[-1,1,2],[2,0,1]])\n",
        "\n",
        "hasil1 = A @ B\n",
        "hasil2 = B @ C\n",
        "hasil3 = A * B #Testing aja :V\n",
        "\n",
        "print(\"Hasil Jawaban A: \", hasil1)\n",
        "print(f\"Hasil Jawaban B: {hasil2}\")\n",
        "print(f\"Hasil Ketiga: {hasil3}\")"
      ],
      "metadata": {
        "colab": {
          "base_uri": "https://localhost:8080/"
        },
        "id": "WwZKa6nv7Md-",
        "outputId": "5b610074-ba3d-489a-9701-40aa9aede104"
      },
      "execution_count": 52,
      "outputs": [
        {
          "output_type": "stream",
          "name": "stdout",
          "text": [
            "Hasil Jawaban A:  [[7 2]\n",
            " [4 2]]\n",
            "Hasil Jawaban B: [[ 0  2  5]\n",
            " [-3  1  1]]\n",
            "Hasil Ketiga: [[6 1]\n",
            " [2 0]]\n"
          ]
        }
      ]
    },
    {
      "cell_type": "code",
      "source": [
        "# By: ImNotDanish05\n",
        "# Nomor 2 Faktorial\n",
        "import math as m\n",
        "\n",
        "# SOAL\n",
        "# 2.\tHitunglah nilai dari soal faktorial berikut\n",
        "# a.\t6!\n",
        "f6 = m.factorial(6)\n",
        "print(f'Jawaban nomor A adalah \"{f6}\"')\n",
        "\n",
        "# b.\t8! / 5!\n",
        "f8 = m.factorial(8)\n",
        "f5 = m.factorial(5)\n",
        "\n",
        "hasil = f8 / f5\n",
        "print(f'Jawaban nomor B adalah \"{hasil}\"')"
      ],
      "metadata": {
        "colab": {
          "base_uri": "https://localhost:8080/"
        },
        "id": "jFz5D-Wv-XX2",
        "outputId": "827a77ea-b1b9-48d3-ec75-65984e17e8d5"
      },
      "execution_count": 59,
      "outputs": [
        {
          "output_type": "stream",
          "name": "stdout",
          "text": [
            "Jawaban nomor A adalah \"720\"\n",
            "Jawaban nomor B adalah \"336.0\"\n"
          ]
        }
      ]
    },
    {
      "cell_type": "code",
      "source": [
        "# By: ImNotDanish05\n",
        "# Nomor 3\n",
        "import numpy as np\n",
        "\n",
        "# 3.\tDua Buah Vektor A dan B merupakan vektor 3D pada koordinat kartesian.\n",
        "# Jika Vektor A = 5i + 3j + 7k dan Vektor B = 12i – 3j + k.\n",
        "# Maka tentukan panjang masing-masing Vektor, hasil perkalian titik A.B, dan AxB.\n",
        "\n",
        "vectorA = np.array([5, 3, 7])\n",
        "vectorB = np.array([12, -3, 1])\n",
        "\n",
        "# Panjang vektor A dan B\n",
        "panjang_A = np.linalg.norm(vectorA)\n",
        "panjang_B = np.linalg.norm(vectorB)\n",
        "\n",
        "# 2. Perkalian Titik (Dot Product)\n",
        "dot_product = np.dot(vectorA, vectorB)\n",
        "\n",
        "# 3. Perkalian Silang (Cross Product)\n",
        "cross_product = np.cross(vectorA, vectorB)\n",
        "\n",
        "print(\"Panjang Vektor A =\", panjang_A)\n",
        "print(\"Panjang Vektor B =\", panjang_B)\n",
        "print(\"A . B =\", dot_product)\n",
        "print(\"A x B =\", cross_product)\n"
      ],
      "metadata": {
        "colab": {
          "base_uri": "https://localhost:8080/"
        },
        "id": "U3oJmIOe-fAW",
        "outputId": "e51dee23-5be7-46c8-ee09-67ed7183bbde"
      },
      "execution_count": 61,
      "outputs": [
        {
          "output_type": "stream",
          "name": "stdout",
          "text": [
            "Panjang Vektor A = 9.1104335791443\n",
            "Panjang Vektor B = 12.409673645990857\n",
            "A . B = 58\n",
            "A x B = [ 24  79 -51]\n"
          ]
        }
      ]
    }
  ]
}
