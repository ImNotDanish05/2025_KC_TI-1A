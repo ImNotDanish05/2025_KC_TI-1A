{
  "nbformat": 4,
  "nbformat_minor": 0,
  "metadata": {
    "colab": {
      "provenance": [],
      "authorship_tag": "ABX9TyNbyDpUQISgwqzxBuTfexuM",
      "include_colab_link": true
    },
    "kernelspec": {
      "name": "python3",
      "display_name": "Python 3"
    },
    "language_info": {
      "name": "python"
    }
  },
  "cells": [
    {
      "cell_type": "markdown",
      "metadata": {
        "id": "view-in-github",
        "colab_type": "text"
      },
      "source": [
        "<a href=\"https://colab.research.google.com/github/ImNotDanish05/2025_KC_TI-1A/blob/main/P4-Jobsheet-Spread_%26_Distribution.ipynb\" target=\"_parent\"><img src=\"https://colab.research.google.com/assets/colab-badge.svg\" alt=\"Open In Colab\"/></a>"
      ]
    },
    {
      "cell_type": "code",
      "source": [
        "\"\"\"\n",
        "1.\tPelemparan dadu sebanyak 25 kali. Angka yang keluar datanya adalah :\n",
        "1 2 3 4 5 5 6 2 3 4 5 6 6 4 3 2 1 4 3 5 6 6 5 4 5\n",
        "Modus dari data diatas adalah …\n",
        "\"\"\"\n",
        "\n",
        "import numpy as np\n",
        "data = [1, 2, 3, 4, 5, 5, 6, 2, 3, 4, 5, 6, 6, 4, 3, 2, 1, 4, 3, 5, 6, 6, 5, 4, 5]\n",
        "print(\"Panjang:\", len(data))\n",
        "data2 = np.array(data)\n",
        "urut_desc = -np.sort(-data2)\n",
        "print(urut_desc)\n",
        "counter = Counter(data)\n",
        "print(counter)\n",
        "modus = np.bincount(data).argmax()\n",
        "print(\"Modus dari data diatas adalah:\", modus)"
      ],
      "metadata": {
        "colab": {
          "base_uri": "https://localhost:8080/"
        },
        "id": "iay4xbmFKOQx",
        "outputId": "33c5558b-afdf-47c1-fe88-a14daf4738b4"
      },
      "execution_count": 33,
      "outputs": [
        {
          "output_type": "stream",
          "name": "stdout",
          "text": [
            "Panjang: 25\n",
            "[6 6 6 6 6 5 5 5 5 5 5 4 4 4 4 4 3 3 3 3 2 2 2 1 1]\n",
            "Counter({5: 6, 4: 5, 6: 5, 3: 4, 2: 3, 1: 2})\n",
            "Modus dari data diatas adalah: 5\n"
          ]
        }
      ]
    },
    {
      "cell_type": "code",
      "source": [
        "\"\"\"\n",
        "2.\tDiketahui sebuah deret data 9, 10, 11, 6, 8, 7, 7, 5, 4, 5. Tentukan persentil ke-25 dan persentil ke-75 !\n",
        "\"\"\"\n",
        "import numpy as np\n",
        "data = [9, 10, 11, 6, 8, 7, 7, 5, 4, 5]\n",
        "print(\"Data awal: \", data)\n",
        "print(\"n = \", len(data))\n",
        "data2 = np.array(data)\n",
        "urut_desc = np.sort(data2)\n",
        "print(\"Data urut: \", urut_desc)\n",
        "\n",
        "x = np.percentile(data, 25, method=\"weibull\")\n",
        "print(\"Percentile 25th adalah\", x)\n",
        "x = np.percentile(data, 75, method=\"weibull\")\n",
        "print(\"Percentile 75th adalah\", x)\n",
        "x = np.percentile(data, 25)\n",
        "print(\"Percentile 25th adalah\", x)\n",
        "x = np.percentile(data, 75)\n",
        "print(\"Percentile 75th adalah\", x)"
      ],
      "metadata": {
        "colab": {
          "base_uri": "https://localhost:8080/"
        },
        "id": "IHchWZF5QF9R",
        "outputId": "728a9cd7-4109-4427-f229-32e2969e51f2"
      },
      "execution_count": 68,
      "outputs": [
        {
          "output_type": "stream",
          "name": "stdout",
          "text": [
            "Data awal:  [9, 10, 11, 6, 8, 7, 7, 5, 4, 5]\n",
            "n =  10\n",
            "Data urut:  [ 4  5  5  6  7  7  8  9 10 11]\n",
            "Percentile 25th adalah 5.0\n",
            "Percentile 75th adalah 9.25\n",
            "Percentile 25th adalah 5.25\n",
            "Percentile 75th adalah 8.75\n"
          ]
        }
      ]
    },
    {
      "cell_type": "code",
      "source": [
        "\"\"\"\n",
        "3.\tPada sebuah kelas memiliki nilai hasil ujian yaitu 50, 54, 62, 50, 52, 59, 61, 63, 65, 10, 53, 63, 65, 50, 59, 62, 50, 51, 57, 60, 63, 65, 65, 53, 99. Beradasarkan data hasil ujian tersebut, tentukan :\n",
        "a.\tUrutkan data dari yang terkecil sampai data yang terbesar\n",
        "b.\tIdentifikasi nilai first quartile (Q1) dan third quartile (Q3), dan IQR\n",
        "c.\tTentukan nilai upper bound dan lower bound\n",
        "d.\tTentukan nilai ujian yang menjadi outlier berdasarkan data hasil ujian diatas\n",
        "\n",
        "\"\"\"\n",
        "\n",
        "data = [50, 54, 62, 50, 52, 59, 61, 63, 65, 10, 53, 63, 65, 50, 59, 62, 50, 51, 57, 60, 63, 65, 65, 53, 99]\n",
        "print(\"===[ Diketahui ]===\")\n",
        "print(\"Data awal: \", data)\n",
        "print(\"n = \", len(data))\n",
        "\n",
        "print(\" \")\n",
        "print(\"===[ Ditanya & Dijawab ]===\")\n",
        "print(\"a. Urutkan data dari yang terkecil sampai data yang terbesar \")\n",
        "# This command is bugged, dont turn it on\n",
        "# data2 = sorted(data)\n",
        "# print(\"Data urut: \", data2)\n",
        "data.sort()\n",
        "print(\"Data urut: \", data)\n",
        "\n",
        "\n",
        "print(\" \")\n",
        "print(\"b. Identifikasi nilai first quartile (Q1) dan third quartile (Q3), dan IQR\")\n",
        "Q1 = np.median(data[:int(len(data)/2)])\n",
        "print(\"Q1:\", Q1)\n",
        "Q2 = np.median(data)\n",
        "print(f\"Q2: {Q2}\")\n",
        "Q3 = np.median(data[int(len(data)/2):])\n",
        "print(f\"Q3: {Q3}\")\n",
        "IQR = Q3 - Q1\n",
        "print(f\"IQR: {IQR}\")\n",
        "\n",
        "print(\" \")\n",
        "print(\"c. Tentukan nilai upper bound dan lower bound\")\n",
        "upper_bound = Q3 + 1.5 * IQR\n",
        "lower_bound = Q1 - 1.5 * IQR\n",
        "print(f\"Upper Bound: {upper_bound}\")\n",
        "print(f\"Lower Bound: {lower_bound}\")\n",
        "\n",
        "print(\" \")\n",
        "print(\"d. Tentukan nilai ujian yang menjadi outlier berdasarkan data hasil ujian diatas\")\n",
        "\"\"\"\n",
        "Nilai outliner dianggap jika diluar dari upper_bound dan lower_bound\n",
        "\"\"\"\n",
        "\n",
        "outliers = [x for x in data if x < lower_bound or x > upper_bound]\n",
        "print(f\"Outliers: {outliers}\")"
      ],
      "metadata": {
        "colab": {
          "base_uri": "https://localhost:8080/"
        },
        "id": "Yk710uTtTgd0",
        "outputId": "a472e464-f70e-4beb-9d5b-b749885a3423"
      },
      "execution_count": 87,
      "outputs": [
        {
          "output_type": "stream",
          "name": "stdout",
          "text": [
            "===[ Diketahui ]===\n",
            "Data awal:  [50, 54, 62, 50, 52, 59, 61, 63, 65, 10, 53, 63, 65, 50, 59, 62, 50, 51, 57, 60, 63, 65, 65, 53, 99]\n",
            "n =  25\n",
            " \n",
            "===[ Ditanya & Dijawab ]===\n",
            "a. Urutkan data dari yang terkecil sampai data yang terbesar \n",
            "Data urut:  [10, 50, 50, 50, 50, 51, 52, 53, 53, 54, 57, 59, 59, 60, 61, 62, 62, 63, 63, 63, 65, 65, 65, 65, 99]\n",
            " \n",
            "b. Identifikasi nilai first quartile (Q1) dan third quartile (Q3), dan IQR\n",
            "Q1: 51.5\n",
            "Q2: 59.0\n",
            "Q3: 63.0\n",
            "IQR: 11.5\n",
            " \n",
            "c. Tentukan nilai upper bound dan lower bound\n",
            "Upper Bound: 80.25\n",
            "Lower Bound: 34.25\n",
            " \n",
            "d. Tentukan nilai ujian yang menjadi outlier berdasarkan data hasil ujian diatas\n",
            "Outliers: [10, 99]\n"
          ]
        }
      ]
    },
    {
      "cell_type": "markdown",
      "source": [
        "![Capture.PNG](data:image/png;base64,iVBORw0KGgoAAAANSUhEUgAAAn4AAAEuCAYAAAAQth8KAAAAAXNSR0IArs4c6QAAAARnQU1BAACxjwv8YQUAAAAJcEhZcwAADsMAAA7DAcdvqGQAAD/hSURBVHhe7Z29lRw5kG6fNevGmEEj6MKeMYEW0AAaQJEyRYpzzgpUqY06Kt/e3v1mY2Iis7Kq66dZuMI9XRkAAgEgkPg6q7rr//3Hf/zHTxERERF5fhR+IiIiIoug8BMRERFZBIWfiIiIyCIo/EREREQWQeEnIiIisggKPxEREZFFUPiJiIiILILCT0RERGQRFH4iIiIii6DwExEREVkEhZ+IiIjIIij8RERERBZB4Vf4/ffff/71118vP7n+7bfffn769Onnjx8//rbdk/fv3//88uXLzz///HMsv4Q//vjjhansKDWuR8xLhTX6+PHjz+/fv//8/PnzWOet8u7du5eYb5Ff+E7u/irzUmO+dV7hv+71tw5ryH4j36fyU9Du69evLz4Y97dv3y729Uj6PLB+jOu197R7wz0061HtbzUv2ZvXOos+fPjwkn+/2po9EzcVfo9IYpKJPidIWso5XKabXo83B1G1vQb8neOHmwMbhP6n8ktg/K/dcLkJXDIviLTJfil1jd6CwDlnfLn5Xyu/KswLN9i3Mi9HIGZivcV8dPB/j36uxWuFH78YsU94zU985fqtMu2lSfgxtl9NRGzd299qXtZ71VR+DoyNX+7uuWa5r1Tof7IDbbIWFep33xPJy7Rj7ri/1fLqd4tb5cHNhB8bk8W9ZfBbMMGZuGonjiQvNw+SuZZPZIGuMQb6PtdPEnMqeySJ69zxkBOT/TWQa8RydFPeCg6qc2OIOLtGfnWSu4+el3NIzLeYj1X5Vef06L3iGr/MPoK3em/f4prxPmLN0AXRJNx3Y+f8iEjrv2xESyDSq3DbA12BvuDhCHPGOPFB3/0Xt5RNe5O2t7p330z4IXLyG80jbjhZyKmMxaXsyG/Q17ppps9z/bzVm0PiOmc81/qNcQK/t9okR8hmPzeGa+XXRHw/cl7O5ZbzsSq/4pyec694hIi4Bm/13r7FNeN91JpFaG3Z6x5BG6BhpifPezBPXVdEC3VfmdOtvXmre/dNhB+D422EU4O6JVsLHLIQmVjUPDGjymu8vK5jyHWoC8NrDn/sCM88UcxTnUr80Sa/heS3hPhLOWV5TR3Ibyw1nrqRJhttuKFW21HoJ2KaePM644C9seSt4cqRdkehLX7IPXxwjZ++AZmD9MXPuhF5zdxUP+QJZaxlcgbq+pI76TPgI373yPrxM3OEr/42HHFnzoFY+tiIIzHiI3ugxnLEzx7ESQ7hn3Y5oJlL5gNbHUedXzjVf52PulZ9Pk/54XXGn7nAJ2Vbe534a27gHzt9px+gTXyHxFft8UtZ/BLLuflNXLShbWzEkL08rUPqJZZKHXPmATs/6zzjt85T1hVb+r80D/bmJO0q2Kd5AOYA6nVvmxhpi42+e0x79JxJHFDnLOzNa8CW+GDKS2x1zLRJv1P8Kccv+VtzgTnI3FCH1zUXTtHjzXWovvbigL5mQJvMGW1rTgA+6pxmf55Dxr9lr/OOrcd9KfjFP+tb7ZnDc9bhGlxd+DFhbDBeP2pQsLXAgYODchKIaxZ4ijcLVm34pi5jjY0xA5sLO0lJ8nK95YeNW23pn9hSJzYSBr/ZvIkbsHGNfcvGNf30ekdgbhID1/jJpk7s54wl13Ck3RFok3XBVwRQvXnQF+uSecxhRX2ukxO0Zay0zVwxbxEXtOe633hoS//Vdgr6Tp/ERwz4xZY5oL/qO23q2LLePQdruyN+TkGb+GWO6Ct9A74yv4yJPEnbI/1XG6+x8Rob7Y/6oe9cU5+Y429rrxNr5hx7jT310yckLtYtNqh9XSO/act4aFdtyUHWHH9AHer29jWGQPy0z7yyntTDH9fYE2/6qHvs0jw4Miex5Rqo3+cBiKne0xJb9Uf8xFVjwg+vU2cPcibrTdu+V2sOnJrX0Mc45SW2xIpf+qGMsdQ5BfwDY6JvYqBOxogffPA65ennCD1e/BIHMdV5PBUH9DU7khP4yDX1+viPQJ91DN2OX+A663cN8In/7rOvd2Cc3XZNri78mLAs8Nag7sHWAocsRK0TW4232hgXCV3Lgc3JBqg2Fo52bHquJ9+U1eTFP3WYt9gyh3XTxJZrYLxwie0UjI1xV1tughnPOWPJNRxpd4SpDePEns1GP3XjpS9uiLFx3ccKtM1aQsZf60wxnGLKC+Kiv+QU+UUdfqYON9O6jsS8lYOJ6YifI2Req21a29gytiP9Zz7qDb/P0RE/vK6HMete57j7BK5rftT2wPzWXMk65TCNrebPtfJ7ml/GyLi7rc4DTGNlnNjqPENERuY2bftcAP30mI7kwaX3ii17HTPjYT3wWeswrrp22Rt1Tk6RuahzlhzI3js6rzCNJX3UuFKvjqm3xe/W/s99izna2xOnqH3SH3le90vsp+KAumZwJCe43tufR6DPjGGyZ53OmZcjMI56n6h2+pu4dgyVqwo/BjYl7C0HsMXWAgdiygR3W403NhKTm2xPdNhbvBwCk+9AkuOfDUOdmuzxXevHVm8EfSOdY9uDjUxffZNtre25Ywl77Y4wtSHmxJj5n6g3Kq73+sYPa5q2texU24nE1ecxfVQbMCbWj7K6jtw0q+CA+J5i2vJzhLSrNvrYsvWxwVb/03zE1g9T2PKTg4QY6j4JUz/c9MkFfNa6IePJPQC/3BPoJ31Qp/oMr83v9F1tjLeOObZebxprH0vIIZ34prZh6muKM7buY29OJj9b9swDZX0PdBgv5xRrNsW0x9ZcRCzwOvGdmtdat9ab+pjqxZZ6uZ7InJzaE6dIH4yl/8LR60zUtcma1bawlxOn9ucRppytdmJkjuA1/VQYE/6nOc989ZzC3m3X5GrCjyC7ot0a1D3YWuCQjVgTmDh7vLFlLCRfygJlUxJXJt+QzcjccbNIXylPv7XNNK/032M4attjK+4phkvGAqfaHWFqU2PP61o+sdU3cTFv5As3hGksW233qDFWe/dPOTc98o/XfR2nvuO72k/5OQL1a2wwzUds9BPbqf6xTW0uGUfs5NbW3PCz2llb/EIXmj03ydvYckj0GFLvtfmduay2acxc93rTWOOvPoGqdRPf1jzB1NcUZ2zVx6X3islOHOxLcoGyPibg0KUv+qTv3P+ncW2xNRc1prw+Na+17lSv9jHViy31uO65MEF96k174hTpMz+Zx6nOkTio0+sd2Sd7+/MI9NnnstqZnzy13BpjoLyyNW7GsCW0M5d1vYHxd9s1uZrwy8RtsTUpt2JrgUNuEjWxmGhsdcKrjaTjdf+tMos3LW6Sc/JNOxK93iSoU2OK71xXW/XFePscH7Xtkbj7BugxvGYsp9odYWqTmzu+M47pZlFtkx/WlRjruk9jmdqeInHVtYQcUrVOxAX0daScnM41pF1iOuLnCNTHT7VN8xFbxnak/9RJm2q7dBysL3PJnMY29VNJ7D1fmGMOhQiJaqPutE+ukd+Jp9qmMXPd601j3Rpf6mYce/M09TXFGVt8cH1qTiY/W/bMA2uSJ7DVd+pQlnv03ri22GpDHiSmxHdqXmvdqV7tY6oXW+rleu8M6ra+J05R4+BeyOu6B2udU3FkzXJNu3P2SfqZxrYHfWYMkz3zmVzC1s/7QAyVPhfAek9zETKOut734GrCL4drJcnB4PtGvDVZtKmMBaIsN/DYibkvQrdloeoiMzZsPUFIyiTm5LsnP1CHPnKd/mqdKVnww5hrPa67/6nPPfKbV2/TY5j8HhnLkXZHmNqwHqxxrrmx1Js/ML7abvIzrd00lkvinnwDcSefpr76vFGf8U35nJiO+DkC9bufyXdsGduR/qf5uGQcqVuva5upn96m+wT2M+2wkzvV1u8nMPmgbu/rFEfGHFuvl/jqWHPP6u1TN2Ob5ilMfU1xxhYfU9yU1zmZ/GzZqz/mf9rn3f/euLbYalP36tF5hWksUx9TvdhS78gZVMef6+53j16fMXaxdiQOqGs2XQN+asw9/qnNKag/jTn2vraMA3vPpyOcEn2QOe39BuZsq+w1XP2POyrToLIxz12wc4hYgWonKetC1oQFFoqy+ltZRGL9zYi2vV6eIHITYNz0U8eYDUEZc8Cc0CYbB1v6p22SPH7rHOY3zLqRMi58YKcOceKftvgH4psOqD3SH33ETzYK/THfR8YSG/FQ72i7I9Cmril+4jd14hs7Y4I6F9SlvM9P7MTENfFn/PWGht+seV2bPfAV38wH/fK63mgSd37Z4CcxUocy2tEfdbBxTb26bozhiB/sexAT9fFT5yh5Wuc7/ae/I/2nTl37jA1/R/2wDtlrQHx1P8YHP2Nj/eITH/icchA7/qqNtsmPyrXyu88vvogD33Ud9tamjhWIodoZM+0zz5B4+3jxf2keHJmT2Oq9YvI/xTHtBfrjmjrY6tgz/lNkr1a/xIvvXMOReYVprjLuGlPq0X9smdN6n0m95C1x1Jw/tSdOkXGlT3xwzfhrbKfioB1lwOu0OZUTlB/Zn1uk3zqG2JND8V9Jm/SfmLegnLhZI+KrMA9pz0+uezyBvoir26/BQ4QfE8lC17rXIhM5wcLR77S4iTVkoaoN39n81UZ7xsVC0wd2Fj4LHLJxcgMgyZNU2KjPQmOjrI8lidNt+MrNBRt1klT0mfmv7SBxHYF+6tiIl/6yEU6NBR+x1Q18pN0R2Di54QCv6804cENJf8xP+ujrCrUdsWGjLXXpj2vsqcOYsGX+a/s9iClrx9xkHlLO66w7PxkXdeo8AjHVsWWsrB1tjvrZg7aVad628vRU/9Spbagz2Y6MgxzNXAD5kDntPrnGntzExk98ZtwV6mdPBepO+XqN/M5YwzTnR21QfTOWjJmYquCY5j5l1Q7n5MGROYmtrunReZjq4QNfwBjJGV5TN3lxivRHLmXOaD+t4968wjQvfb635m+y4ZNxZB9g72fQ3p44xdF4qXsqjtoGmNcjOXF0f070WIExTXZIuz7uQMzVf4U4pzaQmJNLp8icXpubCj8REZFnIIf13qEv8iug8BMRETmBwk+eBYWfiIjICfK24NGPRYi8VRR+IiIiO/TPenE91RP5FVD4iYiIiCyCwk9ERERkERR+IiIiIoug8BMRERFZBIWfiIiIyCIo/EREREQWQeEnIiIisggKPxEREZFFUPiJiIiILILCT0RERGQRFH4iIiIii6DwExEREVkEhZ+IiIjIIij8RERERBZB4SciIiKyCAo/ERERkUVQ+P03v/3228+PHz/+/OOPP16Y6ky8f//+59evX3/++eefY/lE7evz589jnVvx4cOHn9++fTtrjLeG+WD+9ubiknm+BGKgD2Li+vfff3/p9y3Nl4iIyGtQ+P03HPTv3r37+ddff50t/BBStJvKJ+gLAUabewo/+kXInDvGW3NE+BH39+/fz5rnS5iEH/1ec74Q/ZNdRETkHij8CpeIIsTCJYLk3sIvXFvI3IsvX77cXPhNMFfXnK8fP36MdhERkXug8CusIPyuLWTuxaXz/FquOV+8bfyIMYiIiISnFH71LVjgKRe2Woe383iKxFt71En9esgf8TMJkiPtsNMWO31yfURg8FZhYsYvYqKWV3/UY4y1nDKgHk+f0i9vdacOc5PP1FFOvektSuJPnUp9qkWd9NPjoZ+jn3fMPNMm48Mvb8fWeok9sbAO2ChjjFnz+OE1PpiPlFV/1IF6Hd+QuPKaOnlLvdrwHVuITxERkXvxlMIPQZADn8Oea0RSrUM5NsqrWKiH/BE/Ofir7Ug72lAngiqf+9v7DBjiBGGCT64/ffr0j3gj5iKGKMdnxAdQnzoIEeol/hofc0GdzA1xUofXqRORRJ9pQx36TB3Ggi3xpC/GyjX+j37eMW3plzb4pv86H8THOBID/VKeOSLWjAV/+KE+P6mbsvQJtK1zTL20iQ2/fQyTLWPItYiIyL15SuHHYV8FSJ625DqCJIIBEA3Y6iF/yg9Mh/mRdlxj77YqFDqIDgRZtVWhWIVkQKQQT667kIGMIW3xAymPOIuAA64Re7mOrfpmDmrfmeM+xsnWmeaZeGoc9NdjytxHoMZPXfsw9VHni3nAXxXAgXanxjX5FxERuSdP/Rk/hEGeRNUDF1HTBRRQp4si2PIDe4f5XjuuJ6HQxWAFwUHcxFhFWEg/ExE6VcgEyqjT48FOPIg3ymuf2Lof6nThBcSNKCP2qZ/J1tma58wHr/lJnYmI2i0/W2WZL8qmsQXa9TF0217fIiIi9+AphR+ChcOap10c+P3AzWFe2wB1qv2UH5hsR9pxjb3bprgqiCjaRXjlSRbQfhKEFdpMfdR46COCD8E2PfFjXNXWr0Oe+uFvS2BOtg7l1Ov2Oh5+XupnqwyfrGPeBq7zXZnG0G17fYuIiNyDpxN+iBaERn060w9cDnPq5DpQJyLiiJ/JdrQd19i7Lf2fgn4QI/SFoMJG++mJYf08Gv57H/iiLSItdRA72LlGzFHeRR1jpC5lPHmr/QDjI74uTqdxd1tnmkOIKON14u51GEdi3/KzVZb5wge++3jCkXHt9S0iInIPnk74TSKlH7gIll4HsHHI8/qIn8l2tB3X2Lst/U/gs/qF6idCsAuTKkIjZGp5ntZVAVlj2xpTj78z9dV9b9k6lFOv2vIEkfi5RrjW64AYjoid/ISprI4BH8xvFcWBdlV0U46tjmuvbxERkXvwdMIP0cPhGrGDWOHgxsYTKUAwcIBDxEzezuRQx3bED/b+FuCRdqkTQQERCtMTq4CvxJdr2uQ6foH+ERo8iUs50CfjTvyUcV3FUhU3zBW+8Imwqk8FqcdPYB7or/qpQhRfEWaJjTqJOU/ttohowkfiIsbMM2DP5wiJiTb5mTpZr4yj0tcSf/SBjdfYmDeusUcoA/1mXpmDxEv/mf+Mn2v6oD2vsdUYRUREbsVTfsaPJy8cphE9OazrExkOXg7l1KMOBzdCIgf/KT9pH3J477XLQV+ZbImzQr3aJ/770y3qRKxkXLWcsTFGxkod6tKm1sEn5YBYiVCm7wgg6uA/fiqZB/qiDjbGHiGFjbI+bvzXOCq0xUf88XMSb8QaAUdsVVBtrddUNq1Jn//YaM/PzEXyg2teRyBm/Nizbmk3jUVEROTaPKXwk9sTIdftCM09ASciIiKPQ+EnZ8OTsi1xhxisb7+KiIjI20HhJ2fD0768pclblYg93rrlaR+ib3oSKCIiIo9H4ScXwWfS8llC4DVPAhV9IiIibxeFn4iIiMgiKPxEREREFkHhJyIiIrIICj8RERGRRVD4iYiIiCyCwk9ERERkERR+IiIiIoug8BMRERFZBIWfiIiIyCIo/EREREQWQeEnIiIisghPJfzyvbEiIiKnmM4RkWfn6YTfZBeRf+N+kZUx/2VVFH4ii+J+kZUx/2VVFH4ii+J+kZUx/2VVFH4ii+J+kZUx/2VVFH4ii+J+kZUx/2VVFH4ii+J+kZUx/2VVFH5X5PPnzy8xnOL3338f29+Tr1+/jvYwxd35448/xrbngp/q95HzQ9/E8O7du3/ExNpO9Y+C3x8/foxlj4JxTfZnoK/fHq9d20r1e2qPvVUS/8ePH8fyZ4ExTnaRZ0fhdwOqkKkiJja45mFzLvR9RIREBEEVeV3g1jaXUn0+SvhxUNM/ooHrOv5rrFfG+KjxdYhlsj8TiJes4STErrW2oQrOX1H41fgVfiLPicLvBmwJvyokHvX0J+LjNcIP6hivcUA8WvhNoqyO/1riIOLyEWPsEMdkfyZOCT+EjsJvTVbIf5EJhd8NuET41QMDqpiKWAjVVg+X7qP3UeMKXdBVarznCL8q4mA6WKvv1MnrLorq4Q39QGWcKSOuOl9HDvXE0sdYY4yfHksde42jw9pQJ2t0RHjfGuKY7M9EXa+aNz2HoOZ01ie2mkc9d2u+TsKv18dXzyPq1LyF+Ax1j9Tyvu+pV3Oxxtf9UJa8n/zUds8GY5zsIs+Owu8G1AOk3nRjgwgByMGQG3BuzFVUVJ+U55BImxwk6S83/pQDZbEfER6Jq/upB0c/QKkX37V9HUu1x5ZryBgg4+R1PZj6oRQ70Fc9WKu/icxtjRFqnLW/+K5r2OvFZ523sNXfvSGGyf5M1DzoQqzXhbo/qJ/8S9v4y3XKk2M1R1MH0mfNxbqPYk9uQOpB+knOJM6Ux38gjrSp9RJfz9PJT99jz0Ydt8hKKPxuQL15d6abaW7iuanncKmiofqMjxxOtTxtck2d+EibyT7RD5NOr18PPcZQr+u4e6xAeerWw7G3z3U9VKs9PjOHkHndIvVqv7B1CPa6ta/Y63iYh9SFHMh1/I+AGCb7M1HXpjPVz/6A5A2ve/71dU4+1pyvOYrfnoc1R+IvewNSr+ZhbKkXn7VOYk2eQXIw81H3f83Dyc+zwhgnu8izo/C7AfXmnRs61BvxdFBMTD67kIB+AKV+F3g52Lp9oh4C9XDoMdd44p+2tV49RGKrB+N0CELGUQ/h3rbaE2cOOOgHbqWOsc9rLSO+jKfXq30l9jqeXr+WVfu9eXT/96CuTXIm69rrQvJ3Kq/50Ml+qjmf/nidvKhMOV/3+VSv08cE1MdGWWzJwRof9L0x+XlWGONkF3l2FH43oN68+w0/9pQdvdFOB8JE9TfVv4bwg3oY9TKohw7kgJoORqj++pz1cuh9dvtR4VfrdYE2zSXUuEPKsoZZr2lu6lh62T15dP/3YBJ+MK0h7O2PIznVhVU4lQfJ+eQNpB6xxtZzNNRcTQ5utet5XWOb/DwrjHGyizw7Cr8bUG/euaGHHCzA4VFvtFuHEUwHQie+8blVf+9g69TY6uEA9RCsvtIG2yTyJhtMh2Cvz3Ve93i6/cghDbVeP1Tr+Imvxjj5rHOeNr0OVD9T+b14dP/3oK7v3v4Ke/uj+tpa257fe21qHiTnp32Ln16v03MVW23XcxtqX8nnyc+zwhgnu8izo/C7AfWG2m/Usdeyaqt1K9OBMJXzs173+nsHW6ceAvEb6qGVsnrocZD0QzBtE0P1OR2CEFsOoVz3eLq9Hrg51CbqGE8JP2xbhyl91DHuUcc6ld+LR/d/D2oeHFmfvf1R83lr/0w5v5Xbk538jS31jozhaK5Sr+6H+E6byc+zwhgnu8izo/C7AfXmXW/0OVSg3sDrAVDt9XCZDoRKyiJ8ct3rxw++OQz2bu71EIhfqAcR5FCpdl7X6zquak/bXFd7P4S24qntY++x1Lqd1KtrBb3/2Os6EifkeqL6hBzIfQz3Zort2djKwS2ytnXvVbJ2kJxg/bOWNRdqf5THnjyr+cXreg1pCzXn0p6xJYbaNrYaK3HVetkTuY7Pyc+zwhgnu8izo/C7Itwoc9PcIzfhU21TVm/gofvodaq/eojVg2nrcIPU2aMebFM7yuuBVQ+SPt5c5wAKtT2HZz1A03+tA/0aut9K5q7GV+cpcFhWIRH+8z//81+2Sp/njCGH76Mghsn+DEzrF7bmveZWmOr1vVbXt9qBnKpiKiQfq6+e3z1vel4n/6exTnuAuvTL+Gu/mY+tnE//zwbjm+wiz47CT5YnBx6H7lR+hOlwr9S6XPdD/RH0uERWwvyXVVH4ifw3W08cjxDRN7WN3359ST/Xxv0iK2P+y6oo/ET+l7z9xRPAqXwL3g6jXX2rOPBkL/a3JPrA/SIrY/7Lqij8RAp5ejeV7RHx14nI4+dbeHu3QnyTXWQFzH9ZlacTfiIiIkeYzhGRZ8cnfiKL4n6RlTH/ZVUUfiKL4n6RlTH/ZVUUfiKL4n6RlTH/ZVUUfiKL4n6RlTH/ZVUUfiKL4n6RlTH/ZVUUfiKL4n6RlTH/ZVUUfvLCb7/99vPPP/8c/wkx8H/q+EqzR/zz4XyH6VSW/7tXeUSMvyLul/vDPwf/9u3b37n6qD0l5r+si8JPXshhNAm/Dx8+POxbJz59+vT3ATmVYye2QP2pnvwb98t94Zcr/ok33xBDruabYuD9+/djG7kd5r+sisJPXsRSDiEOpKlOnqzdU/hxGCauSfjxFFKhdznul/tCvnaBl19syPNql9tj/suqKPwWJ+Iqwu6tCD+ejvAUkp/0Owk/np7w9jT1OFR7uezjfnkbsA7k8FQmt8P8l1VR+C1OxNVbE35fvnz5++kI/Xbhx2eliBU75anDWGo92YY5m+xyX1gHf3G5P+a/rIrCb2EQVxFyb0n45TOFuabf6YlfQOwxFur55OQ47pfHw376/v37WCa3xfyXVVH4LUoXV29F+OWvHquNfveEX4j4w8dULv/E/fJ4yHX/sOMxmP+yKgq/BeEJWRdS1xR+1DvC1JaDsAs36h4Rfvk84K3F6bOwtQZyH6Y/9pD7Yf7Lqij8FgRxx1zt0ducI/wuJX3scap/6niYHoO5muxye3jibp4+FvNfVkXhtyA8UUNAVeq/lZjEFTbKp7JrkT8y6dAvn4Pi9d4fb3CQHnkyKP+D++UxKPreBua/rIrCT16IwNp6q5e3pfbKbwn9dkHHW8LYcoASP7Y9YSj/xP1yf/gFizxlH1WwkcNTG7kN5r+sisJPXtgTfggsyiq9zi2hvy78EKL8Dz/K+H9+xK3oO497r+Pq5I+PJvzL3vvDvE92kWdH4SeyKO4XWRnzX1ZF4SeyKO4XWRnzX1ZF4SeyKO4XWRnzX1ZF4SeyKO4XWRnzX1bl6YSfiIjIEaZzROTZ8YmfyKK4X2RlzH9ZFYWfyKK4X2RlzH9ZFYWfyKK4X2RlzH9ZFYWfyKK4X2RlzH9ZFYWfyKK4X2RlzH9ZFYWfyKK4X2RlzH9ZFYWfvMD33PLdt9N39YZ37979/Pr168t34zLXt/xS+cRDP2GKje8/TT1e+329x2HOJrvcDvKz5izfQf3+/fuxrtwW819WReEnL3z79u1l/raE38ePH1/KEX63FHyBwxGIJ3RRR8x8uT2ClDJec5DWOrKN++X+kNOfPn162UPkNAKQX6SmunJbzH9ZFYWfvBxECLot4ZcD6h6CDxByiLqpLESIfvjw4W8bT06wUVbryoz75b6Q130PIQRdh8fgvMuqKPwWB7GUp3jMXxd+sd9L9EFEKE/vEKXT27d5QtntCFSf+h3D/fJ4yPVTv+TIbTD/ZVUUfovDoYOw2hJ+vA0F9/xcEjEQV/qj/94fdt7arTYgNvPgGM7T48gvXOTr9IuN3B7zX1ZF4bcwiLk8yZuEX946rUKPevlc0j0OLJ74Tf0lrloXFH7HcZ4eQ/YakNvk+FRPbov5L6ui8FsUPhtXRd4k/DiQsPWDiTrY7/VZOmLt/XGt8HsdztNjIZ/5hYZ1qJ9Vlftg/suqKPwWhCdnXTRNwi8Cj7JTdSuUHWFquwVv69b+aK/wex3O0+PhDz5YBz/nd3/Mf1kVhd+CRNDtQb08aesCL8Lvnm9RIehqf1t/3IFtEoTyb6b5k/tDvvJ5v6lMbof5L6ui8FuQ/FuJSt7WzV/4Uo8ng3wGqf8RRQQhfqr9VhAHMdTP+OXfuSRW4DU2/53LMdwvbwNy25y9P+a/rIrCT16IaOpP9yKw8kQCsdffdr0mCFA+95TPPNEfT/emvyLmSUkEYeLyad9x3C/3hZwmP9lT5Cywr3za9xjMf1kVhZ+8sCX8gAMrH0Ln5y3f4kXgpS+eNnIobj1ZzMGZuvyVcn0qKPu4X+5LzW2ICJzqyu0x/2VVFH4ii+J+kZUx/2VVFH4ii+J+kZUx/2VVFH4ii+J+kZUx/2VVFH4ii+J+kZUx/2VVnk74iYiIHGE6R0SeHZ/4iSyK+0VWxvyXVVH4iSyK+0VWxvyXVVH4iSyK+0VWxvyXVVH4iSyK+0VWxvyXVVH4iSyK+0VWxvyXVVH4iSyK+0VWxvyXVVH4LU6+o7eCrdbhO0a/f//+UsZ3jfbyW8B37vL9uzWu6XuEj8QvM8zVZJf7wHdQ813T+f5e8/a+mP+yKgq/xeGL4hFU4dOnT/8oR/Qxr7HzpfL3OKS+fPnyQo0NMdjrnYpftnG/PI7sI4Sfgu8xmP+yKgq/heHwOSWUeBrB075q+/bt24u92q4JT0LoYyqrHIlftnG/PAZ+QeFptoLvsZj/sioKv4VBvHEAIbIQUb08T/s4qKodsYX9VgcXT0Hwz9M8+pqe9MGp+GUf98v9Yc/ccu/Iccx/WRWF36LwVA1Bh7hi3oDXVWRRjv3Dhw//aJvDqwvCa4FfxFw+44fAQ4TWOkfil32Ys8kut4NcBj7GkPwmb3t+y+0x/2VVFH7yIpY4iJi/+hZrhF9/OnFr4VfhiR8HJIfllqjbil/2cb/clzxBr0KPvXQqv+U2mP+yKgo/+ZuIJ56mcf0WhB/wxJH+Tr2d2+OXfZiryS63IR+R6J9LzT7z4wr3xfyXVVH4yd/wxIE5jNC7VPhRdoSp7Rb8gckpodnjl33OXQN5HZfuJ7kN5r+sisJP/gFzmLeh8tZUP5C2DrBbwttj/UnJRI1f9nG/3Jc8ue77KcLvSH7L9TD/ZVUUfvI3CCYEVrXx2aNu4xp7td0SnuTxxO/UZ6Cm+GUb98t9IX/5PF//90gRhH5E4b6Y/7IqCr9F4Y8gEEl5OsZTB2xdXOVpRD5/lM8p3eppH/4RlflLYg5D4upP8Y7GL9u4X+4P+4h5518WcU1+H/kYg1wf819WReG3KBxA9d+lcPBsiSZEGHWoyyF1K9EHCLn0RXwckNOTkHPilxn3y2Oo+4mfvsX7GMx/WRWFn8iiuF9kZcx/WRWFn8iiuF9kZcx/WRWFn8iiuF9kZcx/WZWnE34iIiJHmM4RkWfHJ34ii+J+kZUx/2VVFH4ii+J+kZUx/2VVFH4ii+J+kZUx/2VVFH4ii+J+kZUx/2VVFH4ii+J+kZUx/2VVFH4ii+J+kZUx/2VVFH6Lk+/irWx9JRtfncZXqOXrpm751W0h38Gbr2fr5V++fPm7jNd+bdtxpvmU+8JXDboOj8F5l1VR+C3OH3/88XL4hK3vDa1fLn8PwQf0hagjLr7Dt5cjCPnuYAQpgo/XjKfXkxn3y2Mhp1kD1+ExOO+yKgq/hUHMHfmCeIQXAuxegg8QcBF1U3mEKF94H1sOUspqXZlxvzwOflHJLy6uw2Nw3mVVFH4Lw1u2CDoOoC2xhNhjXu8p+iI09962JeZpvWnnU79juF8eB0+z+UWFXHUdHoPzLqui8FsUnqQhsHLwAK+72EIcQv0sHfWmt16vAXHRB8Iu4g44KGts2HhaUtuCB+lxnKfHwFPqPGk3Xx+H8y6rovCTF0GFsGP+EFux563TKvR48ocARAzuPZG7FA5E+iSevM0bW40tceU6eJAex3m6P+R0zWPz9XE477IqCj/5m4i/Lrj65wB5Uoj9Fp+ly1O+/kQxB2Ri47XC73U4T/eH/Ky/MJmvj8N5l1VR+MnfcCAxh/k8XwRe/3xfPvdHebUHyo4wtd06CHssvFb4vQ7n6b6Qw/WPkcB8fRzOu6yKwk/+AXOYp20cUlx3gRfh158EXoM8dexiM8IvseXJYK0D2CZBKP9mmj+5Hcz3Hlu/SMltYM4nu8izo/CTv0FUVdHEE0A+z9f/iCKCMG+7XpOISgRgtXPN5wpznX/nUgVi2vrvXI7hfrkv5Gcn/86F17fYT7KN+S+rovBbFJ6YIfLqH21g63+wEYHFX9VyzeHEYXXLpxP0RZ8RcMSGAOVnrUf8xELMicunfcdxvzwe8tV1eAzOu6yKwm9REFX59yw8SUPIddEXeMJHndS9xVu8HeJJfAi6LvqAeCMSqctTwa0xyL9xvzwehd/jcN5lVRR+IovifpGVMf9lVRR+IovifpGVMf9lVRR+IovifpGVMf9lVRR+IovifpGVMf9lVZ5O+ImIiBxhOkdEnh2f+IksivtFVsb8l1VR+IksivtFVsb8l1VR+IksivtFVsb8l1VR+IksivtFVsb8l1VR+IksivtFVsb8l1VR+IksivtFVsb8l1VR+MkLfHdvvjeUn1vl03fm3hL6+/bt29/f2zuVY6/cO8ZflWk+5T5kr4Vpz8ltMf9lVRR+i/Pbb7/9/P79+88fP368iLt37979q86HDx9+fv78+WV+7ymqvn79+iL46Pv9+/djHQ5MysOnT5/GevJv3C+Pgf3ELzM1b7fyW26H+S+rovBbGEQfwgqBxeupTsiTtXsJPwQdgnQSogGhqtC7HPfLYyC3T+03uT3mv6yKwm9hOICOvsV0T+HHExAE6anDkaeU1OPpCSJwqiPbuF/uD3nKvPNLzZcvX3Z/sZHbYv7Lqij8FiUHEIcPhxCv87bqVP9ewo+DkH4Qc8Br6E8lqUesCNfU8UnKeTBnk11uB/uOXOaXFuafPecvLY/B/JdVUfgtSkQVhw5iCTiQsE1vn95L+NE3/dSnIbERc68PxE79vTryb5ivyS73gb0UAehn/O6P+S+rovBbFJ40QLUhoLBxGFU73Ev4RZD2gzBP9vbeGov48+2zY7hfHg+5yp7jl66pXG6H+S+rovBbFOZq+nxfBFa3nyP8qHeEqe1W/7yti32vf4TrqTryf2ytgdwXfmGZ9qLcFvNfVkXhtyj5XF+3cwD1J4FwjvB7DXlq1/uJ8Dv1ltiROvI/TOsv94fc9iMK98f8l1VR+C1KhBT/U6zaEYTT2073En7pBwFY7VxPb0FXEHw+OTmO++VtgOi79b6Sf2P+y6oo/BaFt0UReTzdyxMy/oiCa8p6/fwVMIKxl12b/JFJ/tqRQ5G46uHIYYnIS+yUYZtilxn3y30hV8lj9hl5CvxC41/1PgbzX1ZF4bcwHDwRWYBwmv4wIp+7q/Q61waBySFJXwjU/kSEwzLlPAmkvqLvPO6xjvJ/kJ91L/mk77GY/7IqCj+RRXG/yMqY/7IqCj+RRXG/yMqY/7IqCj+RRXG/yMqY/7IqCj+RRXG/yMqY/7IqTyf8REREjjCdIyLPjk/8RBbF/SIrY/7Lqij8RBbF/SIrY/7Lqij8RBbF/SIrY/7Lqij8RBbF/SIrY/7Lqij8RBbF/SIrY/7Lqij8RBbF/SIrY/7Lqij85AW++zbfI8rPqQ7f48t3+/LduNS71feM8t28+J/o3yXMl9znO3t57ff1Hoc5m+xyO8hfvqM3+cxe8/t6H4P5L6ui8FschBJCCzGH+OvCKlDG/CL8bnlQvX///iWWz58//wMOS6h1uSZ2Ys44tkSr/Bv3y30hR8lt9hA5zU/WAMj7qY3cDvNfVkXhtzAcRDwt4wDae1LGIUW9ezyZ+PTp0xgLIg/xmesI0Q8fPvxt4/DEVuvJNu6X+0JedoFHvrMO7MFql9tj/suqKPwWhqdjp56QIfaY10e+HYUQJIYqCPN2Wa0HCFSf+h3D/fI2YB3602y5Pea/rIrCb1HyxIzPxeUzdYgmnu7Verw1BfWzdAire741Raz9iQhxEHe1AbGZB8dwnt4GrINPqe+P+S+rovBblDwx48DhSRrkM0e8/USdvHVahR5P/hCAiMHpLdlbQP/1LV1IXNUGCr/jOE+Ph/00/QIjt8f8l1VR+C0K4g2qDSEXUcd1Pn8UIRh4Koj9Hk8p+MONHifQv8LvdThPj4dfwO759Fz+D/NfVkXhtyhHhFMEXv98Xz73198WDpQdYWrbQXROH3ynvcLvdThPj4VfnBR9j8P8l1VR+C1KPtfX7QinPGHj7VXqdIEX4defBN4C4pwOx60/7sA2CUL5N9P8yX1gbyn6Hov5L6ui8FuUPM3rn51DaOUJW9767Z9BiiDc+p9/14KDMW87d3haQgz1aWQEqR+UP4b75TEo+t4G5r+sisJvURB1CDqEXQ4hnuBxXf9oIwIrYhCxR7utt3mvCX9JvNcPT/aIhXgTl0/7juN+uT/sMZ5Wk9cVbP0jFXJbzH9ZFYXfwiCY8pe8wOEzPcXjCQVP3qjDz3u8xQv0tfdUscaPYPUr287D/XJfyM/stU5/qi63h3mf7CLPjsJPZFHcL7Iy5r+sisJPZFHcL7Iy5r+sisJPZFHcL7Iy5r+sytMJPxERkSNM54jIs/NUwk9EREREtlH4iYiIiCyCwk9ERERkERR+IiIiIoug8BMRERFZBIVfId/1+ha/Oolvz+CbNc75SjK+io1vC+BbLabyXw2+xYNvDeEbPfa+yu2e1Dm+Rd7cIif5dhPivXQOb7EOrx0n+yPf4jKV34tL9umjuWXMt94fj+Ce91X2F/289W8kem2c+RYmfLCHycdf8VuY+jyQ84zrrd0Pnk74McEkTqVOei+D3JC2Dh8OukfftOifg/acBOIGxQZiTFP5teD7fCf7tWEdOKQYz7UEB7wmfmLKV3HdIke2cvI1cFPi5nTpHN5iHV47TmLia8/wMZXvca38ZV4zjrdwoz8yrlvHfOv98QjudV+F1wqqe/HaONm7+SpQfuLrXl8NeinT/urzQM6/xe+Qf8onftxs2JTA615OQlF29LcKFPtbuGmRPOcmEIl46xsUgnSy34IcUtcSHOTHazdl5vhZDrYjXHsdrgHreEmuXzt/38KN/ty8vmXMz7g/7nFfXYXcS361/Dh632BfPfp+0Hnat3pJpK2Nec6hhap/K0l5SQLd+gZ177fXzlm7UyD6r3HgPePBdoprrsO1YB3PzcVb5O8l+/SaXJLXt4z5GffHre+rK5F7ya+UH+fcNx59P5hQ+P2vjd+Q87mlJGDezqqwgHmd9vFXbfirnwPBzmvoj4i5USeROthTb0og/BIzdfFNn72csrxODIyt1tsjb9UA/ecRfLUH7BkP/WAjvjpm5otyfNWxU4+3UVIPmMe8rYK/zH/mGepbL8ChV/3QN+1ow2v8UJ96aQN9brcg/rQl5rxO3kBf0/p0OWsSMpaeR1NOwqnxwtaaEUOdj9pmjyPrQE7VOa1j5mcdS+LDtjXOU6QNfug3r2sd4ouduOv+uDR/T8HcAGuSvrlmnLUe5ZnHHhvzkD0SP0Bsp+Kra5C+U7YFdWpfaddj3pvPQOyJgbp5Xdd2zw99co09dXkNR9eBeuRfxsTPjIn5o4/YiIM6tf2pcVJOWV4nvn5fPeWnzjc/mataVuchMDZstKE+uYA94wnY6jVkDXJNG67p69Q9ZYspzpq/yVf89rlOf5WaJ3WP85P5TBl+t+4p6Z+Ypv6xpT51el7trVvaVbBP8wDMQeY5171tYqQtNvo+muuXoPD7XxuLxjX2mnipW23UndpXG9fZSCQDi4gPFrQnBpsMWHzgNe3wUev1BMJnjS3x15tPbGwGbnb4xwdxpM4etKN+YiM567jjv7ahDv7TX+aB15RnHnLTIl6gDnXjh/rUow6v8Ze5qTFQh3apE9/xUX0zHtYj89jn9BRZZ/xwzViyWbMO9En/vU7thzHRpt5QgFgzB/SV+Y1v2Bsv7K0Z9TMfdQ73wMepdcBWr4m3jo/yjCVrTozYtsa5B2NkTlOfa9pD6pyzP3INxMd4iZnxMtfU4XWttwXjoj1jp+/0UdeIMVOnx09drrFnXbFRzmtiOhIfMdR8O8WRmI/M55H9ccoPPjIm4tm7d04wD9SnPW1ojz2xJe+oxxxSJ3sOzskbxpl1yBye44fx5Jp6dXxcZx5iYwzUoU+u6T/rXHMhfSYubGkTO7HGljmoc1LXfo8pTmzxkf0O1Klznbo15sDaJ+e5zh7BH9fYM6f9noIv2lJGO8aVMQO+aY+NeOq8n7P+uQbq93kAYsoapR6xVX+vveecy9MLvz1YvNqGBcGeBd+ywdS+25IcdfF6wsR/bk7V1v33BCKha8LSzyUx7EHdbLRQY518kbR1c2fD1zlkHP3G0seXzVDrxFcdI3PAXOSaTd1j4rqPA3qfpyCe7if9ZXzEslWHGzfXrAdx93pc50YHyYU6d6fGe2rNgPp1DvfA16l1yKGa8QHrW+c2Y+mx1LI6zi2Yn8lPbvS5Pmd/5BqO5O8eU06ln8SM/yn+Gi8++rzD0f3VY9jjSMxH5vPo/ji6Lpfet4C6fUzTOLmufq8V3xE/XNf93nOi+2QOe07UNtkb9B0bbbCRJ7HxurYjztpmuofu0eME5vXUPR4SX83fjKPGDOQ99txn0rbPG/R1hSnO2NL/Oeuf6z17HTPjYW5r3sCRPX1NfOI32OtkTzaY2nfblASxxV8OzNouffZknjYNkEQkKzeEc2LoyTdBLGyCLkjC5D9QnySnPXXqHE5j4br6Sr+1TuamjrGWUZ/yHtNWm605nchabd2cM76MY6K2TbvMK+uxNd46d7VsGi/2vTUD6k/zMXHuOjDGzEGd21Nj2SrrkOvU7WNLn9UG5+6PsJe/exBHHTfgq/bN6y0yrslPZS++U207U/0ec9iaz6P7I1x63zq6DtTtY5rGyXXvCy6Nj3bVvueHwx57n7PQ+8EX9Yl5ax4oo06uqZc2sdFvjxOou3UP3WOaD/qrfcbW69Entjqe+MteCBFEmcOpbZj6muKMrfs4d/237JkHyvp9tLO3p6+Jwm+w18mebDC177YpCWKr/kgGkitJzjUL3zdmEqjaSEzqkizTjfpoDHvgNzcDfta4Jv+UJ3mJb/rtZRoL19UXr+tYIOtR7cRHW3675AY6xTT5gimOLdJ3n7f0Fzv+pr46Wa/cDGjTfU99Hhnv3poB9iMxwlQ3cVU7NvKYQ4XXfW6nsRwp60zjBfrq9kv2x5H83aOPO9S+j/jb8nPp/tpjq36NGfbmc2sNM8fVfsm6TH72oG4f0zROrntf14rvlB9gD7NvgLWsZVM/rD92/BJ7fcoO+KtxUDc5QgyQe07Ahq+9e8oeU/2jc02cNV6Ivz621KW8Xte2YeprijO26uOS9d+yZ165L1LWxwSvveeci8JvsNfJnmwwte+2KQliq/5Y9PzmRxmJMiUHdsg1vkiUWvfSGI5APyQwxDb5T6IzLq6nOexjia364jXzUuvEV8ZIH8xBvZFNMdU2lSmOLdI3G7Pa+3zir85RINY6BxBxRtkUR/pMu6PjDdOaAfWn+Zig7ql1yDWHRur0ue1jqeyVdTLevkfoC3utd8n+yPrt5e8efdyAL3wkd3jNjb7WgXrwT35iv2R/7THV7zGfms/EcWp/nPJT2+S62o6uA3X7mKZxcl37ulZ8R/xU0r7mwNRPYH3Yl/SBOKll2LhHEEv2ZGzkXY0JPymLba/fian+kbmG5E1d12kuat3k2NQ2TH1NccYWH1yfWrfJz5Y988A8s2+779R5zT3nXBR+g71O9tYCYKs37twkTyVHbNUfi979TySBtq7h0hi2YIMlGaHPx+S/x9DbwBQ719UXQphNMvUf/5PvIzGFKY4t8ptfr5/+EgNzxnUVQUC+1LEANwDqsul7fejjOzLeU2sGXE/zMXFkHXoM0Od2iuNIWYd5muKnrxpD7x96uynuXuec2GDqNzHngM6B3Q+AevhOfuBIfFttt5jq95inOjWWo/vjlB9Im1qn+znFFMvUN9e1r6nOJfEd9VPLe5veD777+LtP4F6DveYTNnKux4S/Gjf0fk8x1Z/Gz3WvNz3dyn2xt0/d5OQUe5j6muKMLT6muCmvc7w1P6fmgXsoa1BFHnT/e+O6Bk8p/HIDgn5jhRzM3Hzr5MfOz9iSgCwKdbMQOQxJRG6QWXAWOHXwj60uXjZk/U2Ga/wlQdis+Kvt6Js6kJjr4YEt8ad96hyJYQv84CMbjWv6TAzpE//EQb2a2FwTD3WoCxlL9QO0oV5s2eTY03+9odFf1ic3OOJgDrHRHlKnzl3IHGI/Mh+1f9pA+mNsxImNvrBRxpzl5+STsj4XIfPLT66PjPfUmsUHdbg+BT6pv7cOiTPilZ/MAW0yL6kz9dvHeYrkSuoTQ+acOWGsWVvKuE4fxJy1iO2c/K1xTGQ9k0/45jpzA1mDGg/xU5dy+s54qJt2cCS+c/P6SMxH5vPI/jjihzrYMh/V95Hx0A91mafY6Is5BV7HnlyiDdfXiu+InzrH9E9sKYsP2iQH6I940y8/exyQ8dNnbPjAVte02omLa3z1e0qtP9HjzFwzvmmuqy1ta6xAPNXOmGjPPKdO5hQfsQH+9/pKnJB1y7xQ59S6xcZcUa/mTvU/xcF8co097eiPa+pgq2PP+K/J0wm/JGwFW8p7GbB4LGi11c2XRagJRxsWq9q55jUL1+PA32SL/yRHJxt6spNcORzoN0mGjbJzYtiCpKux8TpJDemTsWfj8JNroD3zwWv6pn7tHxjLZMMXmyRjpD3+cnPMpsnGxU67bCzsk+/EDoyF2DJntWwL+qYNvlg7+mEOGHc2N7HlJkDdvXkm3qkcW407dfbGS/nemvX5YE7T3x6n1oFxJ7f4iY14GDvz0sdS+90a5x70l32Z+cUnc06s1GHMiZlYkqt1rWNLnNhO5W9i2ALfxEYb+sZ/8rmCLetETIkbsFVq+yPxEQO2OtY9jsRMnVPzCaxF/Ez745QfxkFZyNp2W42t0nMczrFdK75TfoiV68wVP6mXcXSfxAbVjq/kbYe9QJ/VRtt6Heg3/uij31P2mOKs1+fYoPquuURs5Hstq+3q2Kodpr5es26xEVvm/+g8TPVee885l6d9q/dXgUWdNhd2khB6mYiIiMglKPweDIp+S9zxW9fWb3MiIiIi56LwezB5XMzjXR75Ysuj3yOP2UVERESOovB7MHmrN58pAJ4C+qRPREREro3CT0RERGQRFH4iIiIii6DwExEREVkEhZ+IiIjIIij8RERERBZB4SciIiKyCAo/ERERkUVQ+ImIiIgsgsJPREREZBEUfiIiIiKLoPATERERWQSFn4iIiMgiKPxEREREFkHhJyIiIrIICr8n5L/+679Gu4iIiKyNwu8JUfiJiIjIhMLvCVH4iYiIyITC78a8e/fu5+fPn3/++PHj5++//z7WuTYKPxEREZl4WuH38ePH0X5v3r9///Pr168///rrr6sJP8Tkni+Fn4iIiEw8rfDjCdtkfwQfPny4qvBDSCr8RERE5FyeUvjlCdtU9ggQadcSfjzJPOVL4SciIiITTyf8vnz58iKMKinjbdc//vjjxfbnn3++1E0ZQgrBSDn1eGIIv/322wu1Ha+78OJzfJRR5/v37y8+qm/s/Ex81P306dM/ygHfaddteXJY6XGAwk9EREQmnvKJHyIMUVRtEXMRSogu6lCXa+yUI9qwUc5rPk/37du3v0Ui19ir4EIwAgIx5Qg7ruObvvDDEzsEHHWw8Zo61KX/KvwmW3zV/jsKPxEREZlYRvhFdFVbBFquEVgIrVon9tq2/nFFBGXKIE/m+hO9KtYQdfRd29JPFXmTTeEnIiIil7KM8ON6C4QcdSbhBQg4RBp+8xQvpK8JngJSZ0us9c8iTv13m8JPRERELmUp4bcnlmASXoG2lEUAxs7rrTZhS6z1OKf+u23LV0XhJyIiIhNLCb/6xxwhn7GDSXh1qI/4i6/01Z8Epi4/t8QaPvpbzb3/blP4iYiIyKUs9Rk/RFb9a1vI27EwCS/AX7+Of/zxuvoBRN8p4cfn+3r/fO6w1uFa4SciIiLX4CmFX/5iF3GEMOMzfBFoEWmIN4RXBFT+gpbyLg4RXtSnDiAiqxjjmna0px7+J7GGnVjwwWtEXX1SiI16xI9o5Ilg/gAFH9TNOBJP4qc/6mFT+ImIiMjEUwo/xE8EU/1rXEQS9oi0PJEDbJUIKkCQRRQCQq8KNl7nbVvKqV/LIf8ehnLqUb/Xyb+CoQ5CjnJ+4q/HQ5283QzERIy0UfiJiIjIxFMKv9VR+ImIiMiEwu8JUfiJiIjIhMLvCVH4iYiIyITC7wlR+ImIiMiEwk9ERERkERR+IiIiIoug8BMRERFZBIWfiIiIyCIo/EREREQWQeEnIiIisggKPxEREZFFUPiJiIiILILCT0RERGQRFH4iIiIii6DwExEREVkEhZ+IiIjIEvzHz/8PFfXeW6kdFqMAAAAASUVORK5CYII=)"
      ],
      "metadata": {
        "id": "hZ4ORAlngYQ0"
      }
    },
    {
      "cell_type": "code",
      "source": [
        "import numpy as np\n",
        "\n",
        "# Data dari tabel\n",
        "kelas = [(41, 45), (46, 50), (50, 55), (56, 60), (61, 65), (66, 70)]\n",
        "frekuensi = [2, 3, 6, 4, 5, 2]\n",
        "\n",
        "# Hitung titik tengah setiap kelas\n",
        "titik_tengah = [(a + b) / 2 for a, b in kelas]\n",
        "\n",
        "# Konversi ke array numpy\n",
        "f = np.array(frekuensi)\n",
        "x = np.array(titik_tengah)\n",
        "\n",
        "# Total data (n)\n",
        "n = np.sum(f)\n",
        "\n",
        "# Hitung mean\n",
        "mean = np.sum(f * x) / n\n",
        "\n",
        "# Hitung varians\n",
        "var = np.sum(f * (x - mean)**2) / (n - 1)\n",
        "\n",
        "# Hitung standar deviasi\n",
        "std_dev = np.sqrt(var)\n",
        "\n",
        "# Output\n",
        "print(\"Titik Tengah    :\", x)\n",
        "print(\"Frekuensi       :\", f)\n",
        "print(\"Mean            :\", round(mean, 2))\n",
        "print(\"Standar Deviasi :\", round(std_dev, 2))"
      ],
      "metadata": {
        "id": "F3JLhH-YgRr5",
        "outputId": "ddb24feb-7fce-460c-e066-f89987892728",
        "colab": {
          "base_uri": "https://localhost:8080/"
        }
      },
      "execution_count": 89,
      "outputs": [
        {
          "output_type": "stream",
          "name": "stdout",
          "text": [
            "Titik Tengah    : [43.  48.  52.5 58.  63.  68. ]\n",
            "Frekuensi       : [2 3 6 4 5 2]\n",
            "Mean            : 55.82\n",
            "Standar Deviasi : 7.41\n"
          ]
        }
      ]
    }
  ]
}