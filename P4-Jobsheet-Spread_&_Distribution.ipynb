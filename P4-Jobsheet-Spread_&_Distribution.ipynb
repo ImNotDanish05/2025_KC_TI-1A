{
  "nbformat": 4,
  "nbformat_minor": 0,
  "metadata": {
    "colab": {
      "provenance": [],
      "authorship_tag": "ABX9TyPrw4vF4oOz9OwyLULQMFfI",
      "include_colab_link": true
    },
    "kernelspec": {
      "name": "python3",
      "display_name": "Python 3"
    },
    "language_info": {
      "name": "python"
    }
  },
  "cells": [
    {
      "cell_type": "markdown",
      "metadata": {
        "id": "view-in-github",
        "colab_type": "text"
      },
      "source": [
        "<a href=\"https://colab.research.google.com/github/ImNotDanish05/2025_KC_TI-1A/blob/main/P4-Jobsheet-Spread_%26_Distribution.ipynb\" target=\"_parent\"><img src=\"https://colab.research.google.com/assets/colab-badge.svg\" alt=\"Open In Colab\"/></a>"
      ]
    },
    {
      "cell_type": "markdown",
      "source": [
        "Tutorial from here:\n",
        "https://www.youtube.com/watch?v=HPjBY1H-U4U&list=PLhhyoLH6IjfxVOdVC1P1L5z5azs0XjMsb&index=2"
      ],
      "metadata": {
        "id": "Vd7RtburvgT3"
      }
    },
    {
      "cell_type": "markdown",
      "source": [
        "# **1.\tCentral Tendency**"
      ],
      "metadata": {
        "id": "MbE_0XTjuMGM"
      }
    },
    {
      "cell_type": "code",
      "source": [
        "# Mendapatkan nilai mean/average\n",
        "import numpy as np\n",
        "score = [90, 80, 70, 65, 110, 80, 83, 67, 94]\n",
        "\n",
        "\n",
        "\"\"\"\n",
        "Mean Function\n",
        "Definition: Mean is the average of all values in a dataset.\n",
        "Formula: Mean = (Sum of all values) / (Number of values)\n",
        "\"\"\"\n",
        "x = np.mean(score)\n",
        "print(x)\n",
        "x = score[0] + score[1] + score[2] + score[3] + score[4] + score[5] + score[6] + score[7] + score[8]\n",
        "x = x / len(score)\n",
        "print(x)"
      ],
      "metadata": {
        "id": "GyDo4cYOuR1O",
        "outputId": "85663d74-7393-42fc-aba0-d525284bb386",
        "colab": {
          "base_uri": "https://localhost:8080/"
        }
      },
      "execution_count": null,
      "outputs": [
        {
          "output_type": "stream",
          "name": "stdout",
          "text": [
            "82.11111111111111\n",
            "82.11111111111111\n"
          ]
        }
      ]
    },
    {
      "cell_type": "code",
      "source": [
        "# Mendapatkan nilai median\n",
        "import numpy as np\n",
        "score = [90, 80, 70, 65, 110, 80, 83, 67, 94]\n",
        "\n",
        "\"\"\"\n",
        "Median Function\n",
        "Definition: Median is the middle value when the dataset is sorted in ascending or descending order.\n",
        "Formula: For odd number of values, Median = Middle value. For even number of values, Median = Average of two middle values.\n",
        "Example: For [1, 2, 3, 4, 5], Median = 3. For [1, 2, 3, 4], Median = (2 + 3) / 2 = 2.5\n",
        "\"\"\"\n",
        "x = np.median(score)\n",
        "print(x)\n",
        "score.sort() # Untuk mengurutkan\n",
        "n = len(score)\n",
        "\n",
        "if n % 2 == 1:  # ganjil\n",
        "    median = score[n // 2]\n",
        "else:  # genap\n",
        "    median = (score[n//2 - 1] + score[n//2]) / 2\n",
        "\n",
        "print(median)"
      ],
      "metadata": {
        "id": "XKPLh4hrvDjN",
        "outputId": "05b95bd5-9b66-49f4-f0fd-a9d33f1d247f",
        "colab": {
          "base_uri": "https://localhost:8080/"
        }
      },
      "execution_count": null,
      "outputs": [
        {
          "output_type": "stream",
          "name": "stdout",
          "text": [
            "80.0\n",
            "80\n"
          ]
        }
      ]
    },
    {
      "cell_type": "code",
      "source": [
        "# Mendapatkan Nilai Modus / Mode\n",
        "\"\"\"\n",
        "Mode Function\n",
        "Definition: Mode is the value that appears most frequently in a dataset.\n",
        "Formula: Mode = Value with the highest frequency.\n",
        "Example: For [1, 2, 2, 3, 3, 3], Mode = 3\n",
        "\"\"\"\n",
        "\n",
        "# Old Version (Not Recomended)\n",
        "# Reason: Might error if the modus have 2 or more value\n",
        "from scipy import stats\n",
        "score = [90, 80, 70, 65, 110, 80, 83, 67, 94]\n",
        "x = stats.mode(score)\n",
        "print(x)\n",
        "\n",
        "# New Version\n",
        "from collections import Counter\n",
        "score = [90, 80, 70, 65, 110, 80, 83, 67, 94]\n",
        "counter = Counter(score)\n",
        "print(counter)\n",
        "high_value = max(counter.values())\n",
        "modus = [k for k, v in counter.items() if v == high_value]\n",
        "print(modus)"
      ],
      "metadata": {
        "id": "5uuE0oIXvrJH",
        "outputId": "920abbf0-3033-4327-bad9-77702990bf9e",
        "colab": {
          "base_uri": "https://localhost:8080/"
        }
      },
      "execution_count": 1,
      "outputs": [
        {
          "output_type": "stream",
          "name": "stdout",
          "text": [
            "ModeResult(mode=np.int64(80), count=np.int64(2))\n",
            "Counter({80: 2, 90: 1, 70: 1, 65: 1, 110: 1, 83: 1, 67: 1, 94: 1})\n",
            "[80]\n"
          ]
        }
      ]
    },
    {
      "cell_type": "markdown",
      "source": [
        "# **2.\tSpread**"
      ],
      "metadata": {
        "id": "G4V2_WTQ8_kG"
      }
    },
    {
      "cell_type": "code",
      "source": [
        "# Mendapatkan Nilai Range\n",
        "import numpy as np\n",
        "\n",
        "data = [2, 3, 7, 8, 9, 12, 15, 20, 50, 42]\n",
        "\n",
        "\"\"\"\n",
        "Minimum and Maximum is the smallest and largest values in a dataset, respectively.\n",
        "Range is the difference between the maximum and minimum values.\n",
        "Formula: Range = Maximum - Minimum\n",
        "\"\"\"\n",
        "minimum = np.min(data)\n",
        "maximum = np.max(data)\n",
        "x = maximum - minimum\n",
        "print(maximum, \"-\", minimum, \"=\", x)"
      ],
      "metadata": {
        "id": "9WCA3FzcxuXK",
        "colab": {
          "base_uri": "https://localhost:8080/"
        },
        "outputId": "ec61fac3-9fc3-45e0-a47a-22523d3bba7c"
      },
      "execution_count": 3,
      "outputs": [
        {
          "output_type": "stream",
          "name": "stdout",
          "text": [
            "50 - 2 = 48\n"
          ]
        }
      ]
    },
    {
      "cell_type": "code",
      "source": [
        "# Mendapatkan Nilai Percentil\n",
        "\n",
        "\"\"\"\n",
        "Percentile is a measure used in statistics indicating the value below which a given percentage of observations in a group of observations falls.\n",
        "For example, the 90th percentile is the value below which 90% of the observations can be found.\n",
        "Formula = (Rank of the desired percentile / Total number of observations) * 100\n",
        "Example:\n",
        "One data have list 90, 80, 70, 65, 110, 80, 83, 67, 94\n",
        "If we want to know the 75th percentile, we need to sort the data first:\n",
        "65, 67, 70, 80, 80, 83, 90, 94, 110\n",
        "Then, we can calculate the 75th percentile using the formula:\n",
        "(Rank of the 75th percentile / Total number of observations) * 100\n",
        "= (7 / 9) * 100\n",
        "= 77.78%\n",
        "So, the 75th percentile is 77.78% of the observations.\n",
        "So the number for 75th percentile is 90. with formula:\n",
        "\n",
        "\"\"\"\n",
        "import numpy as np\n",
        "data = [90, 80, 70, 65, 110, 80, 83, 67, 94]\n",
        "x = np.percentile(data, 75, method='linear')\n",
        "print(x)\n",
        "x = np.percentile(data, 90, method='linear') # 9th\n",
        "print(x)\n",
        "data = np.array([90, 80, 70, 65, 110, 80, 83, 67, 94])\n",
        "urut_desc = -np.sort(-data)\n",
        "print(urut_desc)\n",
        "\n",
        "\n",
        "\"\"\"\n",
        "This is with classic percentile\n",
        "Formula: Percent yang diminta/100 * (Banyak angka + 1)\n",
        "\"\"\"\n",
        "\n",
        "x = np.percentile(data, 75, method='weibull')\n",
        "print(x)\n",
        "x = np.percentile(data, 90, method='weibull')\n",
        "print(x)\n",
        "\n",
        "\"\"\"\n",
        "P = x/100 * ( n + 1)\n",
        "\n",
        "P = 75/100 * (9+1)\n",
        "P = 3/4 * 10\n",
        "P = 3/2 * 5\n",
        "P = 15/2\n",
        "\n",
        "P = 90/100 * (9+1)\n",
        "P = 9/10 * 10\n",
        "P = 9\n",
        "\"\"\""
      ],
      "metadata": {
        "colab": {
          "base_uri": "https://localhost:8080/"
        },
        "id": "javbGB_J9up7",
        "outputId": "4d6e6f34-308f-41c7-a365-b522fe15187d"
      },
      "execution_count": 17,
      "outputs": [
        {
          "output_type": "stream",
          "name": "stdout",
          "text": [
            "90.0\n",
            "97.2\n",
            "[110  94  90  83  80  80  70  67  65]\n",
            "92.0\n",
            "110.0\n"
          ]
        }
      ]
    },
    {
      "cell_type": "code",
      "source": [],
      "metadata": {
        "id": "lgj-OoprDaIV"
      },
      "execution_count": null,
      "outputs": []
    }
  ]
}