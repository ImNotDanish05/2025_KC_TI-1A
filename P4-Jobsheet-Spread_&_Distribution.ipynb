{
  "nbformat": 4,
  "nbformat_minor": 0,
  "metadata": {
    "colab": {
      "provenance": [],
      "authorship_tag": "ABX9TyMCA1CT35lg39mzHR8Wdyi1",
      "include_colab_link": true
    },
    "kernelspec": {
      "name": "python3",
      "display_name": "Python 3"
    },
    "language_info": {
      "name": "python"
    }
  },
  "cells": [
    {
      "cell_type": "markdown",
      "metadata": {
        "id": "view-in-github",
        "colab_type": "text"
      },
      "source": [
        "<a href=\"https://colab.research.google.com/github/ImNotDanish05/2025_KC_TI-1A/blob/main/P4-Jobsheet-Spread_%26_Distribution.ipynb\" target=\"_parent\"><img src=\"https://colab.research.google.com/assets/colab-badge.svg\" alt=\"Open In Colab\"/></a>"
      ]
    },
    {
      "cell_type": "markdown",
      "source": [
        "Tutorial from here:\n",
        "https://www.youtube.com/watch?v=HPjBY1H-U4U&list=PLhhyoLH6IjfxVOdVC1P1L5z5azs0XjMsb&index=2"
      ],
      "metadata": {
        "id": "Vd7RtburvgT3"
      }
    },
    {
      "cell_type": "markdown",
      "source": [
        "# **1.\tCentral Tendency**"
      ],
      "metadata": {
        "id": "MbE_0XTjuMGM"
      }
    },
    {
      "cell_type": "code",
      "source": [
        "# Mendapatkan nilai mean/average\n",
        "import numpy as np\n",
        "score = [90, 80, 70, 65, 110, 80, 83, 67, 94]\n",
        "\n",
        "\n",
        "\"\"\"\n",
        "Mean Function\n",
        "Definition: Mean is the average of all values in a dataset.\n",
        "Formula: Mean = (Sum of all values) / (Number of values)\n",
        "\"\"\"\n",
        "x = np.mean(score)\n",
        "print(x)\n",
        "x = score[0] + score[1] + score[2] + score[3] + score[4] + score[5] + score[6] + score[7] + score[8]\n",
        "x = x / len(score)\n",
        "print(x)"
      ],
      "metadata": {
        "id": "GyDo4cYOuR1O",
        "outputId": "85663d74-7393-42fc-aba0-d525284bb386",
        "colab": {
          "base_uri": "https://localhost:8080/"
        }
      },
      "execution_count": 4,
      "outputs": [
        {
          "output_type": "stream",
          "name": "stdout",
          "text": [
            "82.11111111111111\n",
            "82.11111111111111\n"
          ]
        }
      ]
    },
    {
      "cell_type": "code",
      "source": [
        "# Mendapatkan nilai median\n",
        "import numpy as np\n",
        "score = [90, 80, 70, 65, 110, 80, 83, 67, 94]\n",
        "\n",
        "\"\"\"\n",
        "Median Function\n",
        "Definition: Median is the middle value when the dataset is sorted in ascending or descending order.\n",
        "Formula: For odd number of values, Median = Middle value. For even number of values, Median = Average of two middle values.\n",
        "Example: For [1, 2, 3, 4, 5], Median = 3. For [1, 2, 3, 4], Median = (2 + 3) / 2 = 2.5\n",
        "\"\"\"\n",
        "x = np.median(score)\n",
        "print(x)\n",
        "score.sort() # Untuk mengurutkan\n",
        "n = len(score)\n",
        "\n",
        "if n % 2 == 1:  # ganjil\n",
        "    median = score[n // 2]\n",
        "else:  # genap\n",
        "    median = (score[n//2 - 1] + score[n//2]) / 2\n",
        "\n",
        "print(median)"
      ],
      "metadata": {
        "id": "XKPLh4hrvDjN",
        "outputId": "05b95bd5-9b66-49f4-f0fd-a9d33f1d247f",
        "colab": {
          "base_uri": "https://localhost:8080/"
        }
      },
      "execution_count": 11,
      "outputs": [
        {
          "output_type": "stream",
          "name": "stdout",
          "text": [
            "80.0\n",
            "80\n"
          ]
        }
      ]
    },
    {
      "cell_type": "code",
      "source": [
        "# Mendapatkan Nilai Modus / Mode\n",
        "\"\"\"\n",
        "Mode Function\n",
        "Definition: Mode is the value that appears most frequently in a dataset.\n",
        "Formula: Mode = Value with the highest frequency.\n",
        "Example: For [1, 2, 2, 3, 3, 3], Mode = 3\n",
        "\"\"\"\n",
        "\n",
        "# Old Version (Not Recomended)\n",
        "# Reason: Might error if the modus have 2 or more value\n",
        "from scipy import stats\n",
        "score = [90, 80, 70, 65, 110, 80, 83, 67, 94]\n",
        "x = stats.mode(score)\n",
        "print(x)\n",
        "\n",
        "# New Version\n",
        "from collections import Counter\n",
        "score = [90, 80, 70, 65, 110, 80, 83, 67, 94]\n",
        "counter = Counter(score)\n",
        "print(counter)\n",
        "high_value = max(counter.values())\n",
        "modus = [k for k, v in counter.items() if v == high_value]\n",
        "print(modus)"
      ],
      "metadata": {
        "id": "5uuE0oIXvrJH",
        "outputId": "60f60421-e288-4948-9770-32bc399f5079",
        "colab": {
          "base_uri": "https://localhost:8080/",
          "height": 111
        }
      },
      "execution_count": 20,
      "outputs": [
        {
          "output_type": "error",
          "ename": "SyntaxError",
          "evalue": "invalid syntax (<ipython-input-20-a55a48145cac>, line 22)",
          "traceback": [
            "\u001b[0;36m  File \u001b[0;32m\"<ipython-input-20-a55a48145cac>\"\u001b[0;36m, line \u001b[0;32m22\u001b[0m\n\u001b[0;31m    modus = score[k for k, v in counter.items() if v == high_value]\u001b[0m\n\u001b[0m                    ^\u001b[0m\n\u001b[0;31mSyntaxError\u001b[0m\u001b[0;31m:\u001b[0m invalid syntax\n"
          ]
        }
      ]
    },
    {
      "cell_type": "code",
      "source": [],
      "metadata": {
        "id": "9WCA3FzcxuXK"
      },
      "execution_count": 14,
      "outputs": []
    }
  ]
}