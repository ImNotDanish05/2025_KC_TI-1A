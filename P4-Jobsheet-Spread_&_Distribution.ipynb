{
  "nbformat": 4,
  "nbformat_minor": 0,
  "metadata": {
    "colab": {
      "provenance": [],
      "authorship_tag": "ABX9TyPFMTWrefVYZGEKj6XZgpX6",
      "include_colab_link": true
    },
    "kernelspec": {
      "name": "python3",
      "display_name": "Python 3"
    },
    "language_info": {
      "name": "python"
    }
  },
  "cells": [
    {
      "cell_type": "markdown",
      "metadata": {
        "id": "view-in-github",
        "colab_type": "text"
      },
      "source": [
        "<a href=\"https://colab.research.google.com/github/ImNotDanish05/2025_KC_TI-1A/blob/main/P4-Jobsheet-Spread_%26_Distribution.ipynb\" target=\"_parent\"><img src=\"https://colab.research.google.com/assets/colab-badge.svg\" alt=\"Open In Colab\"/></a>"
      ]
    },
    {
      "cell_type": "code",
      "source": [
        "\"\"\"\n",
        "1.\tPelemparan dadu sebanyak 25 kali. Angka yang keluar datanya adalah :\n",
        "1 2 3 4 5 5 6 2 3 4 5 6 6 4 3 2 1 4 3 5 6 6 5 4 5\n",
        "Modus dari data diatas adalah …\n",
        "\"\"\"\n",
        "\n",
        "import numpy as np\n",
        "data = [1, 2, 3, 4, 5, 5, 6, 2, 3, 4, 5, 6, 6, 4, 3, 2, 1, 4, 3, 5, 6, 6, 5, 4, 5]\n",
        "print(\"Panjang:\", len(data))\n",
        "data2 = np.array(data)\n",
        "urut_desc = -np.sort(-data2)\n",
        "print(urut_desc)\n",
        "counter = Counter(data)\n",
        "print(counter)\n",
        "modus = np.bincount(data).argmax()\n",
        "print(\"Modus dari data diatas adalah:\", modus)"
      ],
      "metadata": {
        "colab": {
          "base_uri": "https://localhost:8080/"
        },
        "id": "iay4xbmFKOQx",
        "outputId": "33c5558b-afdf-47c1-fe88-a14daf4738b4"
      },
      "execution_count": 33,
      "outputs": [
        {
          "output_type": "stream",
          "name": "stdout",
          "text": [
            "Panjang: 25\n",
            "[6 6 6 6 6 5 5 5 5 5 5 4 4 4 4 4 3 3 3 3 2 2 2 1 1]\n",
            "Counter({5: 6, 4: 5, 6: 5, 3: 4, 2: 3, 1: 2})\n",
            "Modus dari data diatas adalah: 5\n"
          ]
        }
      ]
    },
    {
      "cell_type": "code",
      "source": [
        "\"\"\"\n",
        "2.\tDiketahui sebuah deret data 9, 10, 11, 6, 8, 7, 7, 5, 4, 5. Tentukan persentil ke-25 dan persentil ke-75 !\n",
        "\"\"\"\n",
        "import numpy as np\n",
        "data = [9, 10, 11, 6, 8, 7, 7, 5, 4, 5]\n",
        "print(\"Data awal: \", data)\n",
        "print(\"n = \", len(data))\n",
        "data2 = np.array(data)\n",
        "urut_desc = np.sort(data2)\n",
        "print(\"Data urut: \", urut_desc)\n",
        "\n",
        "x = np.percentile(data, 25, method=\"weibull\")\n",
        "print(\"Percentile 25th adalah\", x)\n",
        "x = np.percentile(data, 75, method=\"weibull\")\n",
        "print(\"Percentile 75th adalah\", x)\n",
        "x = np.percentile(data, 25)\n",
        "print(\"Percentile 25th adalah\", x)\n",
        "x = np.percentile(data, 75)\n",
        "print(\"Percentile 75th adalah\", x)"
      ],
      "metadata": {
        "colab": {
          "base_uri": "https://localhost:8080/"
        },
        "id": "IHchWZF5QF9R",
        "outputId": "728a9cd7-4109-4427-f229-32e2969e51f2"
      },
      "execution_count": 68,
      "outputs": [
        {
          "output_type": "stream",
          "name": "stdout",
          "text": [
            "Data awal:  [9, 10, 11, 6, 8, 7, 7, 5, 4, 5]\n",
            "n =  10\n",
            "Data urut:  [ 4  5  5  6  7  7  8  9 10 11]\n",
            "Percentile 25th adalah 5.0\n",
            "Percentile 75th adalah 9.25\n",
            "Percentile 25th adalah 5.25\n",
            "Percentile 75th adalah 8.75\n"
          ]
        }
      ]
    },
    {
      "cell_type": "code",
      "source": [
        "\"\"\"\n",
        "3.\tPada sebuah kelas memiliki nilai hasil ujian yaitu 50, 54, 62, 50, 52, 59, 61, 63, 65, 10, 53, 63, 65, 50, 59, 62, 50, 51, 57, 60, 63, 65, 65, 53, 99. Beradasarkan data hasil ujian tersebut, tentukan :\n",
        "a.\tUrutkan data dari yang terkecil sampai data yang terbesar\n",
        "b.\tIdentifikasi nilai first quartile (Q1) dan third quartile (Q3), dan IQR\n",
        "c.\tTentukan nilai upper bound dan lower bound\n",
        "d.\tTentukan nilai ujian yang menjadi outlier berdasarkan data hasil ujian diatas\n",
        "\n",
        "\"\"\"\n",
        "\n",
        "data = [50, 54, 62, 50, 52, 59, 61, 63, 65, 10, 53, 63, 65, 50, 59, 62, 50, 51, 57, 60, 63, 65, 65, 53, 99]\n",
        "print(\"===[ Diketahui ]===\")\n",
        "print(\"Data awal: \", data)\n",
        "print(\"n = \", len(data))\n",
        "\n",
        "print(\" \")\n",
        "print(\"===[ Ditanya & Dijawab ]===\")\n",
        "print(\"a. Urutkan data dari yang terkecil sampai data yang terbesar \")\n",
        "data2 = sorted(data)\n",
        "print(\"Data urut: \", data2)\n",
        "\n",
        "print(\" \")\n",
        "print(\"b. Identifikasi nilai first quartile (Q1) dan third quartile (Q3), dan IQR\")\n",
        "Q1 = np.median(data[:int(len(data)/2)])\n",
        "print(\"Q1:\", Q1)\n",
        "Q3 = np.median(data[int(len(data)/2):])\n",
        "print(f\"Q3: {Q3}\")\n",
        "IQR = Q3 - Q1\n",
        "print(f\"IQR: {IQR}\")"
      ],
      "metadata": {
        "colab": {
          "base_uri": "https://localhost:8080/"
        },
        "id": "Yk710uTtTgd0",
        "outputId": "c2aeb9f2-76c4-4af8-f685-bd8189b79a81"
      },
      "execution_count": 67,
      "outputs": [
        {
          "output_type": "stream",
          "name": "stdout",
          "text": [
            "===[ Diketahui ]===\n",
            "Data awal:  [50, 54, 62, 50, 52, 59, 61, 63, 65, 10, 53, 63, 65, 50, 59, 62, 50, 51, 57, 60, 63, 65, 65, 53, 99]\n",
            "n =  25\n",
            " \n",
            "===[ Ditanya & Dijawab ]===\n",
            "a. Urutkan data dari yang terkecil sampai data yang terbesar \n",
            "Data urut:  [10, 50, 50, 50, 50, 51, 52, 53, 53, 54, 57, 59, 59, 60, 61, 62, 62, 63, 63, 63, 65, 65, 65, 65, 99]\n",
            " \n",
            "b. Identifikasi nilai first quartile (Q1) dan third quartile (Q3), dan IQR\n",
            "Q1: 56.5\n",
            "Q3: 60.0\n",
            "IQR: 3.5\n"
          ]
        }
      ]
    }
  ]
}